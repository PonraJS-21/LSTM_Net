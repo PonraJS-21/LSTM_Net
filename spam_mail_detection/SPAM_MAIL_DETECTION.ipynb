{
 "cells": [
  {
   "cell_type": "markdown",
   "metadata": {},
   "source": [
    "## DETECTING SPAM MAILS USING KERAS AND GLOVE6B WORD EMBEDDINGS"
   ]
  },
  {
   "cell_type": "code",
   "execution_count": 45,
   "metadata": {},
   "outputs": [
    {
     "name": "stdout",
     "output_type": "stream",
     "text": [
      "Modules imported\n"
     ]
    }
   ],
   "source": [
    "import tqdm\n",
    "import numpy as np\n",
    "import keras_metrics # for recall and precision metrics\n",
    "from keras.preprocessing.sequence import pad_sequences\n",
    "from keras.preprocessing.text import Tokenizer\n",
    "from keras.layers import Embedding, LSTM, Dropout, Dense\n",
    "from keras.models import Sequential\n",
    "from keras.utils import to_categorical\n",
    "from keras.callbacks import ModelCheckpoint, TensorBoard\n",
    "from sklearn.model_selection import train_test_split\n",
    "import time\n",
    "import numpy as np\n",
    "import pickle\n",
    "print('Modules imported')"
   ]
  },
  {
   "cell_type": "code",
   "execution_count": 2,
   "metadata": {},
   "outputs": [],
   "source": [
    "# Parameters\n",
    "SEQUENCE_LENGTH = 100 # the length of all sequences (number of words per sample)\n",
    "EMBEDDING_SIZE = 100  # Using 100-Dimensional GloVe embedding vectors\n",
    "TEST_SIZE = 0.25 # ratio of testing set\n",
    "\n",
    "BATCH_SIZE = 64\n",
    "EPOCHS = 20 # number of epochs\n",
    "\n",
    "# to convert labels to integers and vice-versa\n",
    "label2int = {\"ham\": 0, \"spam\": 1}\n",
    "int2label = {0: \"ham\", 1: \"spam\"}"
   ]
  },
  {
   "cell_type": "markdown",
   "metadata": {},
   "source": [
    "#  Load dataset"
   ]
  },
  {
   "cell_type": "code",
   "execution_count": 3,
   "metadata": {},
   "outputs": [],
   "source": [
    "def load_data():\n",
    "    \"\"\"\n",
    "    Loads SMS Spam Collection dataset\n",
    "    \"\"\"\n",
    "    texts, labels = [], []\n",
    "    with open(\"data/SMSSpamCollection\") as f:\n",
    "        for line in f:\n",
    "            split = line.split()\n",
    "            labels.append(split[0].strip())\n",
    "            texts.append(' '.join(split[1:]).strip())\n",
    "    return texts, labels"
   ]
  },
  {
   "cell_type": "code",
   "execution_count": 4,
   "metadata": {},
   "outputs": [
    {
     "name": "stdout",
     "output_type": "stream",
     "text": [
      "['Go until jurong point, crazy.. Available only in bugis n great world la e buffet... Cine there got amore wat...', 'Ok lar... Joking wif u oni...', \"Free entry in 2 a wkly comp to win FA Cup final tkts 21st May 2005. Text FA to 87121 to receive entry question(std txt rate)T&C's apply 08452810075over18's\"]\n",
      "['ham', 'ham', 'spam']\n"
     ]
    }
   ],
   "source": [
    "X, y = load_data()\n",
    "print(X[:3])\n",
    "print(y[:3])"
   ]
  },
  {
   "cell_type": "markdown",
   "metadata": {},
   "source": [
    "# Preparing the Dataset\n",
    "\n",
    "Now, we need a way to vectorize the text corpus by turning each text into a sequence of integers, you're now may be wondering why we need to turn the text into sequence of integers, well, remember we are going to feed the text into a neural network, a neural network only understands numbers. More precisely, a fixed length sequence of integers.\n",
    "\n",
    "But before we do all of that, we need to clean this corpus by removing punctuations, lowercase all characters, etc. Luckily for us, Keras has a builtin class keras.preprocessing.text.Tokenizer() that does all that in few lines of code:"
   ]
  },
  {
   "cell_type": "code",
   "execution_count": 5,
   "metadata": {},
   "outputs": [],
   "source": [
    "# Text tokenization\n",
    "# vectorizing text, turning each text into sequence of integers\n",
    "tokenizer = Tokenizer()\n",
    "tokenizer.fit_on_texts(X)\n",
    "# convert to sequence of integers\n",
    "X = tokenizer.texts_to_sequences(X)"
   ]
  },
  {
   "cell_type": "code",
   "execution_count": 9,
   "metadata": {},
   "outputs": [
    {
     "data": {
      "text/plain": [
       "[49,\n",
       " 472,\n",
       " 4436,\n",
       " 843,\n",
       " 756,\n",
       " 659,\n",
       " 64,\n",
       " 8,\n",
       " 1328,\n",
       " 87,\n",
       " 123,\n",
       " 352,\n",
       " 1329,\n",
       " 148,\n",
       " 2996,\n",
       " 1330,\n",
       " 67,\n",
       " 58,\n",
       " 4437,\n",
       " 144]"
      ]
     },
     "execution_count": 9,
     "metadata": {},
     "output_type": "execute_result"
    }
   ],
   "source": [
    "X[0]"
   ]
  },
  {
   "cell_type": "code",
   "execution_count": 10,
   "metadata": {},
   "outputs": [],
   "source": [
    "# convert to numpy arrays\n",
    "X = np.array(X)\n",
    "y = np.array(y)\n",
    "# pad sequences at the beginning of each sequence with 0's\n",
    "# for example if SEQUENCE_LENGTH=4:\n",
    "# [[5, 3, 2], [5, 1, 2, 3], [3, 4]]\n",
    "# will be transformed to:\n",
    "# [[0, 5, 3, 2], [5, 1, 2, 3], [0, 0, 3, 4]]\n",
    "X = pad_sequences(X, maxlen=SEQUENCE_LENGTH)"
   ]
  },
  {
   "cell_type": "code",
   "execution_count": 11,
   "metadata": {},
   "outputs": [
    {
     "data": {
      "text/plain": [
       "array([   0,    0,    0,    0,    0,    0,    0,    0,    0,    0,    0,\n",
       "          0,    0,    0,    0,    0,    0,    0,    0,    0,    0,    0,\n",
       "          0,    0,    0,    0,    0,    0,    0,    0,    0,    0,    0,\n",
       "          0,    0,    0,    0,    0,    0,    0,    0,    0,    0,    0,\n",
       "          0,    0,    0,    0,    0,    0,    0,    0,    0,    0,    0,\n",
       "          0,    0,    0,    0,    0,    0,    0,    0,    0,    0,    0,\n",
       "          0,    0,    0,    0,    0,    0,    0,    0,    0,    0,    0,\n",
       "          0,    0,    0,   49,  472, 4436,  843,  756,  659,   64,    8,\n",
       "       1328,   87,  123,  352, 1329,  148, 2996, 1330,   67,   58, 4437,\n",
       "        144])"
      ]
     },
     "execution_count": 11,
     "metadata": {},
     "output_type": "execute_result"
    }
   ],
   "source": [
    "X[0]"
   ]
  },
  {
   "cell_type": "markdown",
   "metadata": {},
   "source": [
    "As you may remember, we set SEQUENCE_LENGTH to 100, in this way, all sequences have a length of 100.\n",
    "\n",
    "Now our labels are text also, but we gonna make a different approach here, since the labels are only \"spam\" and \"ham\", we need to one-hot encode them:"
   ]
  },
  {
   "cell_type": "code",
   "execution_count": 12,
   "metadata": {},
   "outputs": [],
   "source": [
    "# One Hot encoding labels\n",
    "# [spam, ham, spam, ham, ham] will be converted to:\n",
    "# [1, 0, 1, 0, 1] and then to:\n",
    "# [[0, 1], [1, 0], [0, 1], [1, 0], [0, 1]]\n",
    "\n",
    "y = [ label2int[label] for label in y ]\n",
    "y = to_categorical(y)"
   ]
  },
  {
   "cell_type": "code",
   "execution_count": 13,
   "metadata": {},
   "outputs": [
    {
     "data": {
      "text/plain": [
       "array([1., 0.], dtype=float32)"
      ]
     },
     "execution_count": 13,
     "metadata": {},
     "output_type": "execute_result"
    }
   ],
   "source": [
    "y[0]"
   ]
  },
  {
   "cell_type": "code",
   "execution_count": 14,
   "metadata": {},
   "outputs": [],
   "source": [
    "# Spiliting the dataset\n",
    "X_train, X_test, y_train, y_test = train_test_split(X, y, test_size=TEST_SIZE, random_state=7)"
   ]
  },
  {
   "cell_type": "code",
   "execution_count": 16,
   "metadata": {},
   "outputs": [
    {
     "name": "stdout",
     "output_type": "stream",
     "text": [
      "(4180, 100)\n",
      "(1394, 100)\n",
      "(4180, 2)\n",
      "(1394, 2)\n"
     ]
    }
   ],
   "source": [
    "print(X_train.shape)\n",
    "print(X_test.shape)\n",
    "print(y_train.shape)\n",
    "print(y_test.shape)"
   ]
  },
  {
   "cell_type": "markdown",
   "metadata": {},
   "source": [
    "# Building the Model\n",
    "<img src='data/img/network_diagram.png' height=500 width=500/> ![LSTM nueral net](data/img/network_diagram.png)"
   ]
  },
  {
   "cell_type": "markdown",
   "metadata": {},
   "source": [
    "The first layer is a pre-trained embedding layer that maps each word to a N-dimensional vector of real numbers ( the EMBEDDING_SIZE corresponds to the size of this vector, in this case 100). Two words that have similar meaning tend to have very close vectors."
   ]
  },
  {
   "cell_type": "code",
   "execution_count": 17,
   "metadata": {},
   "outputs": [],
   "source": [
    "def get_embedding_vectors(tokenizer, dim=100):\n",
    "    embedding_index = {}\n",
    "    with open(f\"data/glove.6B.{dim}d.txt\", encoding='utf8') as f:\n",
    "        for line in tqdm.tqdm(f, \"Reading GloVe\"):\n",
    "            values = line.split()\n",
    "            word = values[0]\n",
    "            vectors = np.asarray(values[1:], dtype='float32')\n",
    "            embedding_index[word] = vectors\n",
    "\n",
    "    word_index = tokenizer.word_index\n",
    "    embedding_matrix = np.zeros((len(word_index)+1, dim))\n",
    "    for word, i in word_index.items():\n",
    "        embedding_vector = embedding_index.get(word)\n",
    "        if embedding_vector is not None:\n",
    "            # words not found will be 0s\n",
    "            embedding_matrix[i] = embedding_vector\n",
    "            \n",
    "    return embedding_matrix"
   ]
  },
  {
   "cell_type": "markdown",
   "metadata": {},
   "source": [
    "In order to download the glove.6b pre-trained model follow the below link\n",
    "http://nlp.stanford.edu/data/glove.6B.zip"
   ]
  },
  {
   "cell_type": "markdown",
   "metadata": {},
   "source": [
    "# Define a model"
   ]
  },
  {
   "cell_type": "code",
   "execution_count": 19,
   "metadata": {},
   "outputs": [],
   "source": [
    "def get_model(tokenizer, lstm_units):\n",
    "    \"\"\"\n",
    "    Constructs the model,\n",
    "    Embedding vectors => LSTM => 2 output Fully-Connected neurons with softmax activation\n",
    "    \"\"\"\n",
    "    # get the GloVe embedding vectors\n",
    "    embedding_matrix = get_embedding_vectors(tokenizer)\n",
    "    model = Sequential()\n",
    "    model.add(Embedding(len(tokenizer.word_index)+1,\n",
    "              EMBEDDING_SIZE,\n",
    "              weights=[embedding_matrix],\n",
    "              trainable=False,\n",
    "              input_length=SEQUENCE_LENGTH))\n",
    "\n",
    "    model.add(LSTM(lstm_units, recurrent_dropout=0.2))\n",
    "    model.add(Dropout(0.3))\n",
    "    model.add(Dense(2, activation=\"softmax\"))\n",
    "    # compile as rmsprop optimizer\n",
    "    # aswell as with recall metric\n",
    "    model.compile(optimizer=\"rmsprop\", loss=\"categorical_crossentropy\",\n",
    "                  metrics=[\"accuracy\", keras_metrics.precision(), keras_metrics.recall()])\n",
    "    model.summary()\n",
    "    return model"
   ]
  },
  {
   "cell_type": "markdown",
   "metadata": {},
   "source": [
    "The above function constructs the whole model, we loaded the pre-trained embedding vectors to the Embedding layer, and set trainable=False, this will freeze the embedding weights during the training process.\n",
    "\n",
    "\n",
    "<img src='data/img/definition.png' height=500 width=500/> ![LSTM nueral net](data/img/definition.png)"
   ]
  },
  {
   "cell_type": "code",
   "execution_count": 20,
   "metadata": {},
   "outputs": [
    {
     "name": "stderr",
     "output_type": "stream",
     "text": [
      "Reading GloVe: 400000it [00:34, 11491.43it/s]\n"
     ]
    },
    {
     "name": "stdout",
     "output_type": "stream",
     "text": [
      "tracking <tf.Variable 'Variable:0' shape=() dtype=int32, numpy=0> tp\n",
      "tracking <tf.Variable 'Variable:0' shape=() dtype=int32, numpy=0> fp\n",
      "tracking <tf.Variable 'Variable:0' shape=() dtype=int32, numpy=0> tp\n",
      "tracking <tf.Variable 'Variable:0' shape=() dtype=int32, numpy=0> fn\n",
      "Model: \"sequential_1\"\n",
      "_________________________________________________________________\n",
      "Layer (type)                 Output Shape              Param #   \n",
      "=================================================================\n",
      "embedding_1 (Embedding)      (None, 100, 100)          901300    \n",
      "_________________________________________________________________\n",
      "lstm_1 (LSTM)                (None, 128)               117248    \n",
      "_________________________________________________________________\n",
      "dropout_1 (Dropout)          (None, 128)               0         \n",
      "_________________________________________________________________\n",
      "dense_1 (Dense)              (None, 2)                 258       \n",
      "=================================================================\n",
      "Total params: 1,018,806\n",
      "Trainable params: 117,506\n",
      "Non-trainable params: 901,300\n",
      "_________________________________________________________________\n"
     ]
    }
   ],
   "source": [
    "model = get_model(tokenizer=tokenizer, lstm_units=128)"
   ]
  },
  {
   "cell_type": "code",
   "execution_count": 22,
   "metadata": {},
   "outputs": [
    {
     "name": "stdout",
     "output_type": "stream",
     "text": [
      "X_train.shape: (4180, 100)\n",
      "X_test.shape: (1394, 100)\n",
      "y_train.shape: (4180, 2)\n",
      "y_test.shape: (1394, 2)\n",
      "Train on 4180 samples, validate on 1394 samples\n",
      "Epoch 1/20\n",
      " 128/4180 [..............................] - ETA: 1:08 - loss: 0.0881 - accuracy: 0.9531 - precision: 0.9492 - recall: 1.000 - ETA: 53s - loss: 0.0800 - accuracy: 0.9688 - precision: 0.9615 - recall: 0.9956 "
     ]
    },
    {
     "name": "stderr",
     "output_type": "stream",
     "text": [
      "D:\\Intalled Softwares\\Anaconda\\lib\\site-packages\\keras\\callbacks\\callbacks.py:95: RuntimeWarning: Method (on_train_batch_end) is slow compared to the batch update (0.931077). Check your callbacks.\n",
      "  % (hook_name, delta_t_median), RuntimeWarning)\n"
     ]
    },
    {
     "name": "stdout",
     "output_type": "stream",
     "text": [
      "4180/4180 [==============================] - ETA: 1:22 - loss: 0.1046 - accuracy: 0.9688 - precision: 0.9649 - recall: 0.995 - ETA: 1:08 - loss: 0.0923 - accuracy: 0.9727 - precision: 0.9683 - recall: 0.994 - ETA: 59s - loss: 0.1236 - accuracy: 0.9625 - precision: 0.9679 - recall: 0.993 - ETA: 53s - loss: 0.1191 - accuracy: 0.9635 - precision: 0.9684 - recall: 0.99 - ETA: 49s - loss: 0.1142 - accuracy: 0.9643 - precision: 0.9690 - recall: 0.99 - ETA: 45s - loss: 0.1070 - accuracy: 0.9668 - precision: 0.9696 - recall: 0.99 - ETA: 42s - loss: 0.0988 - accuracy: 0.9705 - precision: 0.9704 - recall: 0.99 - ETA: 40s - loss: 0.1028 - accuracy: 0.9688 - precision: 0.9708 - recall: 0.99 - ETA: 38s - loss: 0.1025 - accuracy: 0.9688 - precision: 0.9713 - recall: 0.99 - ETA: 36s - loss: 0.1035 - accuracy: 0.9688 - precision: 0.9716 - recall: 0.99 - ETA: 35s - loss: 0.1040 - accuracy: 0.9688 - precision: 0.9719 - recall: 0.99 - ETA: 33s - loss: 0.1025 - accuracy: 0.9699 - precision: 0.9722 - recall: 0.99 - ETA: 32s - loss: 0.0994 - accuracy: 0.9698 - precision: 0.9725 - recall: 0.99 - ETA: 31s - loss: 0.0939 - accuracy: 0.9717 - precision: 0.9729 - recall: 0.99 - ETA: 30s - loss: 0.0888 - accuracy: 0.9733 - precision: 0.9734 - recall: 0.99 - ETA: 29s - loss: 0.0995 - accuracy: 0.9705 - precision: 0.9735 - recall: 0.99 - ETA: 28s - loss: 0.1006 - accuracy: 0.9696 - precision: 0.9737 - recall: 0.99 - ETA: 27s - loss: 0.0984 - accuracy: 0.9703 - precision: 0.9739 - recall: 0.99 - ETA: 26s - loss: 0.0998 - accuracy: 0.9688 - precision: 0.9740 - recall: 0.99 - ETA: 25s - loss: 0.0992 - accuracy: 0.9695 - precision: 0.9741 - recall: 0.99 - ETA: 24s - loss: 0.1004 - accuracy: 0.9667 - precision: 0.9741 - recall: 0.99 - ETA: 24s - loss: 0.0995 - accuracy: 0.9674 - precision: 0.9742 - recall: 0.98 - ETA: 23s - loss: 0.1005 - accuracy: 0.9669 - precision: 0.9742 - recall: 0.98 - ETA: 22s - loss: 0.1003 - accuracy: 0.9669 - precision: 0.9743 - recall: 0.98 - ETA: 22s - loss: 0.0982 - accuracy: 0.9682 - precision: 0.9744 - recall: 0.98 - ETA: 21s - loss: 0.0961 - accuracy: 0.9693 - precision: 0.9745 - recall: 0.98 - ETA: 21s - loss: 0.0972 - accuracy: 0.9693 - precision: 0.9746 - recall: 0.98 - ETA: 20s - loss: 0.0975 - accuracy: 0.9693 - precision: 0.9747 - recall: 0.98 - ETA: 19s - loss: 0.0962 - accuracy: 0.9693 - precision: 0.9748 - recall: 0.98 - ETA: 19s - loss: 0.0959 - accuracy: 0.9688 - precision: 0.9748 - recall: 0.98 - ETA: 18s - loss: 0.0965 - accuracy: 0.9688 - precision: 0.9749 - recall: 0.98 - ETA: 17s - loss: 0.0984 - accuracy: 0.9683 - precision: 0.9749 - recall: 0.98 - ETA: 17s - loss: 0.1002 - accuracy: 0.9679 - precision: 0.9750 - recall: 0.98 - ETA: 16s - loss: 0.0983 - accuracy: 0.9683 - precision: 0.9750 - recall: 0.98 - ETA: 16s - loss: 0.1006 - accuracy: 0.9679 - precision: 0.9750 - recall: 0.98 - ETA: 15s - loss: 0.1021 - accuracy: 0.9671 - precision: 0.9750 - recall: 0.98 - ETA: 14s - loss: 0.1023 - accuracy: 0.9663 - precision: 0.9750 - recall: 0.98 - ETA: 14s - loss: 0.1029 - accuracy: 0.9664 - precision: 0.9750 - recall: 0.98 - ETA: 13s - loss: 0.1031 - accuracy: 0.9665 - precision: 0.9750 - recall: 0.98 - ETA: 12s - loss: 0.1017 - accuracy: 0.9673 - precision: 0.9750 - recall: 0.98 - ETA: 12s - loss: 0.1002 - accuracy: 0.9677 - precision: 0.9750 - recall: 0.98 - ETA: 11s - loss: 0.0984 - accuracy: 0.9684 - precision: 0.9750 - recall: 0.98 - ETA: 11s - loss: 0.0969 - accuracy: 0.9688 - precision: 0.9750 - recall: 0.98 - ETA: 10s - loss: 0.0960 - accuracy: 0.9691 - precision: 0.9750 - recall: 0.98 - ETA: 10s - loss: 0.0948 - accuracy: 0.9694 - precision: 0.9751 - recall: 0.98 - ETA: 9s - loss: 0.0938 - accuracy: 0.9694 - precision: 0.9751 - recall: 0.9887 - ETA: 8s - loss: 0.0932 - accuracy: 0.9697 - precision: 0.9751 - recall: 0.988 - ETA: 8s - loss: 0.0921 - accuracy: 0.9700 - precision: 0.9752 - recall: 0.988 - ETA: 7s - loss: 0.0910 - accuracy: 0.9706 - precision: 0.9752 - recall: 0.988 - ETA: 7s - loss: 0.0908 - accuracy: 0.9706 - precision: 0.9753 - recall: 0.988 - ETA: 6s - loss: 0.0914 - accuracy: 0.9699 - precision: 0.9753 - recall: 0.988 - ETA: 6s - loss: 0.0904 - accuracy: 0.9705 - precision: 0.9753 - recall: 0.988 - ETA: 5s - loss: 0.0899 - accuracy: 0.9702 - precision: 0.9754 - recall: 0.988 - ETA: 5s - loss: 0.0897 - accuracy: 0.9701 - precision: 0.9754 - recall: 0.988 - ETA: 4s - loss: 0.0890 - accuracy: 0.9701 - precision: 0.9754 - recall: 0.988 - ETA: 3s - loss: 0.0889 - accuracy: 0.9701 - precision: 0.9755 - recall: 0.988 - ETA: 3s - loss: 0.0885 - accuracy: 0.9701 - precision: 0.9755 - recall: 0.988 - ETA: 2s - loss: 0.0882 - accuracy: 0.9703 - precision: 0.9755 - recall: 0.988 - ETA: 2s - loss: 0.0918 - accuracy: 0.9693 - precision: 0.9756 - recall: 0.988 - ETA: 1s - loss: 0.0913 - accuracy: 0.9695 - precision: 0.9756 - recall: 0.988 - ETA: 1s - loss: 0.0909 - accuracy: 0.9697 - precision: 0.9756 - recall: 0.988 - ETA: 0s - loss: 0.0912 - accuracy: 0.9695 - precision: 0.9756 - recall: 0.988 - ETA: 0s - loss: 0.0906 - accuracy: 0.9697 - precision: 0.9757 - recall: 0.988 - 37s 9ms/step - loss: 0.0903 - accuracy: 0.9699 - precision: 0.9757 - recall: 0.9886 - val_loss: 0.0966 - val_accuracy: 0.9670 - val_precision: 0.9716 - val_recall: 0.9972\n",
      "\n",
      "Epoch 00001: val_loss improved from inf to 0.09662, saving model to results/spam_classifier_0.10\n",
      "Epoch 2/20\n"
     ]
    },
    {
     "name": "stdout",
     "output_type": "stream",
     "text": [
      "4180/4180 [==============================] - ETA: 40s - loss: 0.0508 - accuracy: 0.9844 - precision: 1.0000 - recall: 0.98 - ETA: 39s - loss: 0.0615 - accuracy: 0.9688 - precision: 0.9868 - recall: 0.98 - ETA: 40s - loss: 0.0763 - accuracy: 0.9740 - precision: 0.9835 - recall: 0.98 - ETA: 42s - loss: 0.0868 - accuracy: 0.9688 - precision: 0.9821 - recall: 0.98 - ETA: 44s - loss: 0.0890 - accuracy: 0.9656 - precision: 0.9801 - recall: 0.98 - ETA: 46s - loss: 0.0848 - accuracy: 0.9714 - precision: 0.9795 - recall: 0.98 - ETA: 46s - loss: 0.0793 - accuracy: 0.9732 - precision: 0.9796 - recall: 0.98 - ETA: 44s - loss: 0.0859 - accuracy: 0.9727 - precision: 0.9794 - recall: 0.98 - ETA: 42s - loss: 0.0833 - accuracy: 0.9740 - precision: 0.9793 - recall: 0.98 - ETA: 42s - loss: 0.0798 - accuracy: 0.9750 - precision: 0.9793 - recall: 0.99 - ETA: 42s - loss: 0.0805 - accuracy: 0.9759 - precision: 0.9793 - recall: 0.99 - ETA: 42s - loss: 0.0839 - accuracy: 0.9740 - precision: 0.9793 - recall: 0.99 - ETA: 42s - loss: 0.0829 - accuracy: 0.9748 - precision: 0.9794 - recall: 0.99 - ETA: 40s - loss: 0.0793 - accuracy: 0.9754 - precision: 0.9796 - recall: 0.99 - ETA: 39s - loss: 0.0843 - accuracy: 0.9740 - precision: 0.9796 - recall: 0.99 - ETA: 38s - loss: 0.0826 - accuracy: 0.9746 - precision: 0.9797 - recall: 0.99 - ETA: 36s - loss: 0.0790 - accuracy: 0.9761 - precision: 0.9798 - recall: 0.99 - ETA: 35s - loss: 0.0769 - accuracy: 0.9766 - precision: 0.9800 - recall: 0.99 - ETA: 35s - loss: 0.0749 - accuracy: 0.9770 - precision: 0.9801 - recall: 0.99 - ETA: 34s - loss: 0.0717 - accuracy: 0.9781 - precision: 0.9802 - recall: 0.99 - ETA: 34s - loss: 0.0773 - accuracy: 0.9754 - precision: 0.9803 - recall: 0.99 - ETA: 33s - loss: 0.0812 - accuracy: 0.9737 - precision: 0.9804 - recall: 0.99 - ETA: 33s - loss: 0.0828 - accuracy: 0.9742 - precision: 0.9804 - recall: 0.99 - ETA: 32s - loss: 0.0837 - accuracy: 0.9733 - precision: 0.9805 - recall: 0.99 - ETA: 31s - loss: 0.0845 - accuracy: 0.9725 - precision: 0.9805 - recall: 0.99 - ETA: 30s - loss: 0.0822 - accuracy: 0.9736 - precision: 0.9805 - recall: 0.99 - ETA: 29s - loss: 0.0869 - accuracy: 0.9722 - precision: 0.9805 - recall: 0.99 - ETA: 28s - loss: 0.0860 - accuracy: 0.9727 - precision: 0.9805 - recall: 0.98 - ETA: 27s - loss: 0.0837 - accuracy: 0.9736 - precision: 0.9805 - recall: 0.98 - ETA: 27s - loss: 0.0856 - accuracy: 0.9724 - precision: 0.9805 - recall: 0.98 - ETA: 26s - loss: 0.0840 - accuracy: 0.9733 - precision: 0.9804 - recall: 0.98 - ETA: 25s - loss: 0.0822 - accuracy: 0.9741 - precision: 0.9804 - recall: 0.98 - ETA: 24s - loss: 0.0806 - accuracy: 0.9749 - precision: 0.9805 - recall: 0.98 - ETA: 23s - loss: 0.0786 - accuracy: 0.9756 - precision: 0.9805 - recall: 0.98 - ETA: 22s - loss: 0.0770 - accuracy: 0.9759 - precision: 0.9805 - recall: 0.98 - ETA: 21s - loss: 0.0775 - accuracy: 0.9757 - precision: 0.9806 - recall: 0.99 - ETA: 21s - loss: 0.0767 - accuracy: 0.9755 - precision: 0.9806 - recall: 0.99 - ETA: 20s - loss: 0.0753 - accuracy: 0.9762 - precision: 0.9806 - recall: 0.99 - ETA: 19s - loss: 0.0761 - accuracy: 0.9756 - precision: 0.9807 - recall: 0.99 - ETA: 18s - loss: 0.0761 - accuracy: 0.9758 - precision: 0.9807 - recall: 0.99 - ETA: 17s - loss: 0.0762 - accuracy: 0.9760 - precision: 0.9807 - recall: 0.99 - ETA: 17s - loss: 0.0754 - accuracy: 0.9762 - precision: 0.9807 - recall: 0.99 - ETA: 16s - loss: 0.0755 - accuracy: 0.9764 - precision: 0.9808 - recall: 0.99 - ETA: 15s - loss: 0.0743 - accuracy: 0.9766 - precision: 0.9808 - recall: 0.99 - ETA: 14s - loss: 0.0756 - accuracy: 0.9760 - precision: 0.9808 - recall: 0.99 - ETA: 14s - loss: 0.0747 - accuracy: 0.9762 - precision: 0.9808 - recall: 0.99 - ETA: 13s - loss: 0.0749 - accuracy: 0.9757 - precision: 0.9809 - recall: 0.99 - ETA: 12s - loss: 0.0738 - accuracy: 0.9759 - precision: 0.9809 - recall: 0.99 - ETA: 11s - loss: 0.0727 - accuracy: 0.9764 - precision: 0.9809 - recall: 0.99 - ETA: 11s - loss: 0.0735 - accuracy: 0.9766 - precision: 0.9809 - recall: 0.99 - ETA: 10s - loss: 0.0738 - accuracy: 0.9764 - precision: 0.9809 - recall: 0.99 - ETA: 9s - loss: 0.0736 - accuracy: 0.9766 - precision: 0.9810 - recall: 0.9902 - ETA: 8s - loss: 0.0737 - accuracy: 0.9761 - precision: 0.9810 - recall: 0.990 - ETA: 8s - loss: 0.0736 - accuracy: 0.9763 - precision: 0.9810 - recall: 0.990 - ETA: 7s - loss: 0.0728 - accuracy: 0.9764 - precision: 0.9810 - recall: 0.990 - ETA: 6s - loss: 0.0722 - accuracy: 0.9766 - precision: 0.9811 - recall: 0.990 - ETA: 5s - loss: 0.0713 - accuracy: 0.9770 - precision: 0.9811 - recall: 0.990 - ETA: 5s - loss: 0.0705 - accuracy: 0.9771 - precision: 0.9811 - recall: 0.990 - ETA: 4s - loss: 0.0698 - accuracy: 0.9772 - precision: 0.9812 - recall: 0.990 - ETA: 3s - loss: 0.0696 - accuracy: 0.9773 - precision: 0.9812 - recall: 0.990 - ETA: 3s - loss: 0.0686 - accuracy: 0.9777 - precision: 0.9812 - recall: 0.990 - ETA: 2s - loss: 0.0687 - accuracy: 0.9778 - precision: 0.9813 - recall: 0.990 - ETA: 1s - loss: 0.0693 - accuracy: 0.9777 - precision: 0.9813 - recall: 0.990 - ETA: 0s - loss: 0.0691 - accuracy: 0.9778 - precision: 0.9813 - recall: 0.990 - ETA: 0s - loss: 0.0688 - accuracy: 0.9779 - precision: 0.9814 - recall: 0.990 - 47s 11ms/step - loss: 0.0686 - accuracy: 0.9780 - precision: 0.9814 - recall: 0.9903 - val_loss: 0.0707 - val_accuracy: 0.9770 - val_precision: 0.9864 - val_recall: 0.9915\n",
      "\n",
      "Epoch 00002: val_loss improved from 0.09662 to 0.07071, saving model to results/spam_classifier_0.07\n",
      "Epoch 3/20\n"
     ]
    },
    {
     "name": "stdout",
     "output_type": "stream",
     "text": [
      "4180/4180 [==============================] - ETA: 44s - loss: 0.0427 - accuracy: 0.9844 - precision: 1.0000 - recall: 0.98 - ETA: 43s - loss: 0.0761 - accuracy: 0.9688 - precision: 0.9953 - recall: 0.97 - ETA: 49s - loss: 0.0645 - accuracy: 0.9740 - precision: 0.9927 - recall: 0.97 - ETA: 53s - loss: 0.0628 - accuracy: 0.9766 - precision: 0.9911 - recall: 0.98 - ETA: 53s - loss: 0.0691 - accuracy: 0.9750 - precision: 0.9892 - recall: 0.98 - ETA: 53s - loss: 0.0726 - accuracy: 0.9766 - precision: 0.9885 - recall: 0.98 - ETA: 53s - loss: 0.0649 - accuracy: 0.9799 - precision: 0.9883 - recall: 0.98 - ETA: 52s - loss: 0.0589 - accuracy: 0.9824 - precision: 0.9883 - recall: 0.98 - ETA: 52s - loss: 0.0684 - accuracy: 0.9809 - precision: 0.9883 - recall: 0.98 - ETA: 51s - loss: 0.0668 - accuracy: 0.9812 - precision: 0.9882 - recall: 0.98 - ETA: 49s - loss: 0.0648 - accuracy: 0.9815 - precision: 0.9882 - recall: 0.98 - ETA: 48s - loss: 0.0608 - accuracy: 0.9831 - precision: 0.9883 - recall: 0.98 - ETA: 47s - loss: 0.0567 - accuracy: 0.9844 - precision: 0.9885 - recall: 0.98 - ETA: 45s - loss: 0.0568 - accuracy: 0.9833 - precision: 0.9885 - recall: 0.98 - ETA: 43s - loss: 0.0585 - accuracy: 0.9812 - precision: 0.9886 - recall: 0.98 - ETA: 41s - loss: 0.0630 - accuracy: 0.9785 - precision: 0.9884 - recall: 0.98 - ETA: 40s - loss: 0.0629 - accuracy: 0.9789 - precision: 0.9882 - recall: 0.98 - ETA: 38s - loss: 0.0618 - accuracy: 0.9792 - precision: 0.9880 - recall: 0.98 - ETA: 37s - loss: 0.0634 - accuracy: 0.9794 - precision: 0.9879 - recall: 0.98 - ETA: 36s - loss: 0.0698 - accuracy: 0.9781 - precision: 0.9877 - recall: 0.98 - ETA: 35s - loss: 0.0691 - accuracy: 0.9777 - precision: 0.9875 - recall: 0.98 - ETA: 34s - loss: 0.0700 - accuracy: 0.9773 - precision: 0.9874 - recall: 0.98 - ETA: 33s - loss: 0.0673 - accuracy: 0.9783 - precision: 0.9873 - recall: 0.98 - ETA: 32s - loss: 0.0669 - accuracy: 0.9785 - precision: 0.9872 - recall: 0.98 - ETA: 31s - loss: 0.0684 - accuracy: 0.9787 - precision: 0.9872 - recall: 0.98 - ETA: 30s - loss: 0.0709 - accuracy: 0.9778 - precision: 0.9870 - recall: 0.98 - ETA: 30s - loss: 0.0722 - accuracy: 0.9769 - precision: 0.9869 - recall: 0.98 - ETA: 29s - loss: 0.0709 - accuracy: 0.9771 - precision: 0.9868 - recall: 0.98 - ETA: 28s - loss: 0.0693 - accuracy: 0.9774 - precision: 0.9867 - recall: 0.98 - ETA: 28s - loss: 0.0679 - accuracy: 0.9781 - precision: 0.9867 - recall: 0.98 - ETA: 27s - loss: 0.0674 - accuracy: 0.9783 - precision: 0.9866 - recall: 0.98 - ETA: 26s - loss: 0.0664 - accuracy: 0.9790 - precision: 0.9866 - recall: 0.98 - ETA: 25s - loss: 0.0665 - accuracy: 0.9787 - precision: 0.9865 - recall: 0.98 - ETA: 24s - loss: 0.0665 - accuracy: 0.9789 - precision: 0.9865 - recall: 0.98 - ETA: 23s - loss: 0.0683 - accuracy: 0.9786 - precision: 0.9864 - recall: 0.98 - ETA: 22s - loss: 0.0690 - accuracy: 0.9783 - precision: 0.9864 - recall: 0.98 - ETA: 22s - loss: 0.0693 - accuracy: 0.9776 - precision: 0.9863 - recall: 0.98 - ETA: 21s - loss: 0.0685 - accuracy: 0.9778 - precision: 0.9863 - recall: 0.98 - ETA: 20s - loss: 0.0689 - accuracy: 0.9772 - precision: 0.9862 - recall: 0.98 - ETA: 19s - loss: 0.0681 - accuracy: 0.9773 - precision: 0.9861 - recall: 0.98 - ETA: 18s - loss: 0.0668 - accuracy: 0.9779 - precision: 0.9861 - recall: 0.98 - ETA: 17s - loss: 0.0694 - accuracy: 0.9769 - precision: 0.9860 - recall: 0.98 - ETA: 16s - loss: 0.0684 - accuracy: 0.9771 - precision: 0.9860 - recall: 0.98 - ETA: 15s - loss: 0.0677 - accuracy: 0.9773 - precision: 0.9859 - recall: 0.98 - ETA: 15s - loss: 0.0678 - accuracy: 0.9771 - precision: 0.9859 - recall: 0.98 - ETA: 14s - loss: 0.0675 - accuracy: 0.9772 - precision: 0.9858 - recall: 0.98 - ETA: 13s - loss: 0.0663 - accuracy: 0.9777 - precision: 0.9858 - recall: 0.98 - ETA: 12s - loss: 0.0672 - accuracy: 0.9775 - precision: 0.9857 - recall: 0.98 - ETA: 12s - loss: 0.0672 - accuracy: 0.9777 - precision: 0.9857 - recall: 0.98 - ETA: 11s - loss: 0.0677 - accuracy: 0.9775 - precision: 0.9856 - recall: 0.98 - ETA: 10s - loss: 0.0678 - accuracy: 0.9773 - precision: 0.9856 - recall: 0.98 - ETA: 9s - loss: 0.0681 - accuracy: 0.9769 - precision: 0.9856 - recall: 0.9895 - ETA: 9s - loss: 0.0681 - accuracy: 0.9770 - precision: 0.9855 - recall: 0.989 - ETA: 8s - loss: 0.0673 - accuracy: 0.9771 - precision: 0.9855 - recall: 0.989 - ETA: 7s - loss: 0.0664 - accuracy: 0.9776 - precision: 0.9855 - recall: 0.989 - ETA: 6s - loss: 0.0654 - accuracy: 0.9780 - precision: 0.9855 - recall: 0.989 - ETA: 6s - loss: 0.0666 - accuracy: 0.9778 - precision: 0.9854 - recall: 0.989 - ETA: 5s - loss: 0.0657 - accuracy: 0.9782 - precision: 0.9854 - recall: 0.989 - ETA: 4s - loss: 0.0648 - accuracy: 0.9785 - precision: 0.9854 - recall: 0.989 - ETA: 3s - loss: 0.0639 - accuracy: 0.9789 - precision: 0.9854 - recall: 0.989 - ETA: 3s - loss: 0.0630 - accuracy: 0.9793 - precision: 0.9854 - recall: 0.989 - ETA: 2s - loss: 0.0627 - accuracy: 0.9791 - precision: 0.9854 - recall: 0.989 - ETA: 1s - loss: 0.0620 - accuracy: 0.9794 - precision: 0.9854 - recall: 0.989 - ETA: 0s - loss: 0.0618 - accuracy: 0.9792 - precision: 0.9854 - recall: 0.989 - ETA: 0s - loss: 0.0614 - accuracy: 0.9796 - precision: 0.9854 - recall: 0.989 - 47s 11ms/step - loss: 0.0611 - accuracy: 0.9797 - precision: 0.9854 - recall: 0.9897 - val_loss: 0.0783 - val_accuracy: 0.9749 - val_precision: 0.9879 - val_recall: 0.9848\n",
      "\n",
      "Epoch 00003: val_loss did not improve from 0.07071\n",
      "Epoch 4/20\n"
     ]
    },
    {
     "name": "stdout",
     "output_type": "stream",
     "text": [
      "4180/4180 [==============================] - ETA: 1:00 - loss: 0.0343 - accuracy: 0.9844 - precision: 0.9808 - recall: 1.000 - ETA: 1:00 - loss: 0.1594 - accuracy: 0.9609 - precision: 0.9765 - recall: 0.990 - ETA: 59s - loss: 0.1169 - accuracy: 0.9740 - precision: 0.9780 - recall: 0.989 - ETA: 58s - loss: 0.1024 - accuracy: 0.9727 - precision: 0.9800 - recall: 0.98 - ETA: 57s - loss: 0.1028 - accuracy: 0.9656 - precision: 0.9795 - recall: 0.98 - ETA: 56s - loss: 0.0913 - accuracy: 0.9688 - precision: 0.9794 - recall: 0.98 - ETA: 55s - loss: 0.0887 - accuracy: 0.9688 - precision: 0.9790 - recall: 0.98 - ETA: 54s - loss: 0.0835 - accuracy: 0.9668 - precision: 0.9787 - recall: 0.98 - ETA: 53s - loss: 0.0779 - accuracy: 0.9688 - precision: 0.9788 - recall: 0.98 - ETA: 52s - loss: 0.0755 - accuracy: 0.9703 - precision: 0.9790 - recall: 0.98 - ETA: 49s - loss: 0.0696 - accuracy: 0.9730 - precision: 0.9792 - recall: 0.98 - ETA: 47s - loss: 0.0731 - accuracy: 0.9714 - precision: 0.9792 - recall: 0.98 - ETA: 46s - loss: 0.0761 - accuracy: 0.9712 - precision: 0.9793 - recall: 0.98 - ETA: 45s - loss: 0.0770 - accuracy: 0.9710 - precision: 0.9793 - recall: 0.98 - ETA: 43s - loss: 0.0806 - accuracy: 0.9708 - precision: 0.9793 - recall: 0.98 - ETA: 42s - loss: 0.0764 - accuracy: 0.9727 - precision: 0.9794 - recall: 0.98 - ETA: 40s - loss: 0.0727 - accuracy: 0.9743 - precision: 0.9795 - recall: 0.98 - ETA: 39s - loss: 0.0695 - accuracy: 0.9757 - precision: 0.9797 - recall: 0.98 - ETA: 37s - loss: 0.0662 - accuracy: 0.9770 - precision: 0.9799 - recall: 0.98 - ETA: 36s - loss: 0.0644 - accuracy: 0.9773 - precision: 0.9802 - recall: 0.98 - ETA: 35s - loss: 0.0640 - accuracy: 0.9769 - precision: 0.9803 - recall: 0.98 - ETA: 34s - loss: 0.0640 - accuracy: 0.9773 - precision: 0.9805 - recall: 0.98 - ETA: 34s - loss: 0.0617 - accuracy: 0.9783 - precision: 0.9807 - recall: 0.98 - ETA: 33s - loss: 0.0628 - accuracy: 0.9779 - precision: 0.9808 - recall: 0.98 - ETA: 32s - loss: 0.0642 - accuracy: 0.9781 - precision: 0.9809 - recall: 0.98 - ETA: 30s - loss: 0.0637 - accuracy: 0.9778 - precision: 0.9810 - recall: 0.98 - ETA: 29s - loss: 0.0616 - accuracy: 0.9786 - precision: 0.9811 - recall: 0.98 - ETA: 28s - loss: 0.0613 - accuracy: 0.9782 - precision: 0.9812 - recall: 0.98 - ETA: 28s - loss: 0.0638 - accuracy: 0.9774 - precision: 0.9813 - recall: 0.98 - ETA: 27s - loss: 0.0627 - accuracy: 0.9781 - precision: 0.9813 - recall: 0.98 - ETA: 26s - loss: 0.0612 - accuracy: 0.9788 - precision: 0.9814 - recall: 0.98 - ETA: 25s - loss: 0.0607 - accuracy: 0.9790 - precision: 0.9815 - recall: 0.98 - ETA: 24s - loss: 0.0590 - accuracy: 0.9796 - precision: 0.9816 - recall: 0.98 - ETA: 23s - loss: 0.0575 - accuracy: 0.9802 - precision: 0.9817 - recall: 0.98 - ETA: 22s - loss: 0.0569 - accuracy: 0.9799 - precision: 0.9818 - recall: 0.98 - ETA: 22s - loss: 0.0589 - accuracy: 0.9800 - precision: 0.9819 - recall: 0.98 - ETA: 21s - loss: 0.0588 - accuracy: 0.9802 - precision: 0.9820 - recall: 0.98 - ETA: 20s - loss: 0.0585 - accuracy: 0.9799 - precision: 0.9820 - recall: 0.98 - ETA: 19s - loss: 0.0582 - accuracy: 0.9792 - precision: 0.9821 - recall: 0.98 - ETA: 18s - loss: 0.0584 - accuracy: 0.9789 - precision: 0.9821 - recall: 0.98 - ETA: 17s - loss: 0.0577 - accuracy: 0.9790 - precision: 0.9821 - recall: 0.98 - ETA: 17s - loss: 0.0569 - accuracy: 0.9792 - precision: 0.9822 - recall: 0.98 - ETA: 16s - loss: 0.0580 - accuracy: 0.9786 - precision: 0.9822 - recall: 0.98 - ETA: 15s - loss: 0.0581 - accuracy: 0.9787 - precision: 0.9822 - recall: 0.98 - ETA: 15s - loss: 0.0572 - accuracy: 0.9792 - precision: 0.9823 - recall: 0.98 - ETA: 14s - loss: 0.0563 - accuracy: 0.9796 - precision: 0.9823 - recall: 0.98 - ETA: 13s - loss: 0.0554 - accuracy: 0.9801 - precision: 0.9824 - recall: 0.98 - ETA: 12s - loss: 0.0564 - accuracy: 0.9801 - precision: 0.9824 - recall: 0.98 - ETA: 12s - loss: 0.0556 - accuracy: 0.9802 - precision: 0.9824 - recall: 0.98 - ETA: 11s - loss: 0.0556 - accuracy: 0.9797 - precision: 0.9825 - recall: 0.98 - ETA: 10s - loss: 0.0569 - accuracy: 0.9795 - precision: 0.9825 - recall: 0.98 - ETA: 9s - loss: 0.0567 - accuracy: 0.9796 - precision: 0.9825 - recall: 0.9899 - ETA: 9s - loss: 0.0559 - accuracy: 0.9800 - precision: 0.9826 - recall: 0.989 - ETA: 8s - loss: 0.0552 - accuracy: 0.9803 - precision: 0.9826 - recall: 0.990 - ETA: 7s - loss: 0.0550 - accuracy: 0.9804 - precision: 0.9826 - recall: 0.990 - ETA: 6s - loss: 0.0545 - accuracy: 0.9807 - precision: 0.9827 - recall: 0.990 - ETA: 6s - loss: 0.0537 - accuracy: 0.9811 - precision: 0.9827 - recall: 0.990 - ETA: 5s - loss: 0.0533 - accuracy: 0.9811 - precision: 0.9828 - recall: 0.990 - ETA: 4s - loss: 0.0527 - accuracy: 0.9815 - precision: 0.9828 - recall: 0.990 - ETA: 3s - loss: 0.0531 - accuracy: 0.9815 - precision: 0.9829 - recall: 0.990 - ETA: 3s - loss: 0.0535 - accuracy: 0.9813 - precision: 0.9829 - recall: 0.990 - ETA: 2s - loss: 0.0538 - accuracy: 0.9814 - precision: 0.9829 - recall: 0.990 - ETA: 1s - loss: 0.0533 - accuracy: 0.9816 - precision: 0.9830 - recall: 0.990 - ETA: 0s - loss: 0.0526 - accuracy: 0.9819 - precision: 0.9830 - recall: 0.990 - ETA: 0s - loss: 0.0520 - accuracy: 0.9822 - precision: 0.9830 - recall: 0.990 - 49s 12ms/step - loss: 0.0517 - accuracy: 0.9823 - precision: 0.9831 - recall: 0.9906 - val_loss: 0.0816 - val_accuracy: 0.9756 - val_precision: 0.9894 - val_recall: 0.9826\n",
      "\n",
      "Epoch 00004: val_loss did not improve from 0.07071\n",
      "Epoch 5/20\n"
     ]
    },
    {
     "name": "stdout",
     "output_type": "stream",
     "text": [
      "4180/4180 [==============================] - ETA: 59s - loss: 0.0362 - accuracy: 0.9844 - precision: 1.0000 - recall: 0.98 - ETA: 46s - loss: 0.0588 - accuracy: 0.9844 - precision: 0.9956 - recall: 0.98 - ETA: 40s - loss: 0.0511 - accuracy: 0.9844 - precision: 0.9932 - recall: 0.98 - ETA: 37s - loss: 0.0396 - accuracy: 0.9883 - precision: 0.9927 - recall: 0.99 - ETA: 35s - loss: 0.0592 - accuracy: 0.9844 - precision: 0.9914 - recall: 0.99 - ETA: 33s - loss: 0.0516 - accuracy: 0.9870 - precision: 0.9909 - recall: 0.99 - ETA: 32s - loss: 0.0482 - accuracy: 0.9866 - precision: 0.9907 - recall: 0.99 - ETA: 32s - loss: 0.0560 - accuracy: 0.9863 - precision: 0.9905 - recall: 0.99 - ETA: 31s - loss: 0.0525 - accuracy: 0.9878 - precision: 0.9905 - recall: 0.99 - ETA: 30s - loss: 0.0519 - accuracy: 0.9875 - precision: 0.9904 - recall: 0.99 - ETA: 29s - loss: 0.0499 - accuracy: 0.9886 - precision: 0.9903 - recall: 0.99 - ETA: 28s - loss: 0.0476 - accuracy: 0.9883 - precision: 0.9903 - recall: 0.99 - ETA: 28s - loss: 0.0547 - accuracy: 0.9856 - precision: 0.9902 - recall: 0.99 - ETA: 27s - loss: 0.0523 - accuracy: 0.9866 - precision: 0.9902 - recall: 0.99 - ETA: 26s - loss: 0.0536 - accuracy: 0.9854 - precision: 0.9901 - recall: 0.99 - ETA: 26s - loss: 0.0529 - accuracy: 0.9854 - precision: 0.9900 - recall: 0.99 - ETA: 26s - loss: 0.0543 - accuracy: 0.9853 - precision: 0.9899 - recall: 0.99 - ETA: 25s - loss: 0.0534 - accuracy: 0.9844 - precision: 0.9899 - recall: 0.99 - ETA: 26s - loss: 0.0533 - accuracy: 0.9844 - precision: 0.9898 - recall: 0.99 - ETA: 26s - loss: 0.0516 - accuracy: 0.9852 - precision: 0.9898 - recall: 0.99 - ETA: 27s - loss: 0.0511 - accuracy: 0.9851 - precision: 0.9898 - recall: 0.99 - ETA: 27s - loss: 0.0514 - accuracy: 0.9851 - precision: 0.9897 - recall: 0.99 - ETA: 26s - loss: 0.0507 - accuracy: 0.9851 - precision: 0.9897 - recall: 0.99 - ETA: 26s - loss: 0.0504 - accuracy: 0.9850 - precision: 0.9896 - recall: 0.99 - ETA: 25s - loss: 0.0500 - accuracy: 0.9850 - precision: 0.9896 - recall: 0.99 - ETA: 24s - loss: 0.0494 - accuracy: 0.9850 - precision: 0.9895 - recall: 0.99 - ETA: 24s - loss: 0.0481 - accuracy: 0.9855 - precision: 0.9895 - recall: 0.99 - ETA: 23s - loss: 0.0469 - accuracy: 0.9860 - precision: 0.9895 - recall: 0.99 - ETA: 22s - loss: 0.0479 - accuracy: 0.9860 - precision: 0.9895 - recall: 0.99 - ETA: 21s - loss: 0.0496 - accuracy: 0.9859 - precision: 0.9894 - recall: 0.99 - ETA: 20s - loss: 0.0513 - accuracy: 0.9854 - precision: 0.9894 - recall: 0.99 - ETA: 20s - loss: 0.0517 - accuracy: 0.9854 - precision: 0.9894 - recall: 0.99 - ETA: 19s - loss: 0.0515 - accuracy: 0.9848 - precision: 0.9894 - recall: 0.99 - ETA: 18s - loss: 0.0507 - accuracy: 0.9848 - precision: 0.9893 - recall: 0.99 - ETA: 18s - loss: 0.0513 - accuracy: 0.9844 - precision: 0.9893 - recall: 0.99 - ETA: 17s - loss: 0.0504 - accuracy: 0.9848 - precision: 0.9893 - recall: 0.99 - ETA: 16s - loss: 0.0495 - accuracy: 0.9848 - precision: 0.9892 - recall: 0.99 - ETA: 16s - loss: 0.0485 - accuracy: 0.9852 - precision: 0.9892 - recall: 0.99 - ETA: 15s - loss: 0.0484 - accuracy: 0.9852 - precision: 0.9892 - recall: 0.99 - ETA: 14s - loss: 0.0477 - accuracy: 0.9852 - precision: 0.9892 - recall: 0.99 - ETA: 14s - loss: 0.0473 - accuracy: 0.9855 - precision: 0.9892 - recall: 0.99 - ETA: 13s - loss: 0.0463 - accuracy: 0.9859 - precision: 0.9892 - recall: 0.99 - ETA: 13s - loss: 0.0476 - accuracy: 0.9855 - precision: 0.9892 - recall: 0.99 - ETA: 12s - loss: 0.0481 - accuracy: 0.9851 - precision: 0.9891 - recall: 0.99 - ETA: 11s - loss: 0.0473 - accuracy: 0.9854 - precision: 0.9891 - recall: 0.99 - ETA: 11s - loss: 0.0464 - accuracy: 0.9857 - precision: 0.9891 - recall: 0.99 - ETA: 10s - loss: 0.0456 - accuracy: 0.9860 - precision: 0.9891 - recall: 0.99 - ETA: 9s - loss: 0.0466 - accuracy: 0.9860 - precision: 0.9891 - recall: 0.9945 - ETA: 9s - loss: 0.0459 - accuracy: 0.9863 - precision: 0.9891 - recall: 0.994 - ETA: 8s - loss: 0.0455 - accuracy: 0.9862 - precision: 0.9891 - recall: 0.994 - ETA: 8s - loss: 0.0484 - accuracy: 0.9859 - precision: 0.9891 - recall: 0.994 - ETA: 7s - loss: 0.0508 - accuracy: 0.9853 - precision: 0.9891 - recall: 0.994 - ETA: 6s - loss: 0.0506 - accuracy: 0.9853 - precision: 0.9891 - recall: 0.994 - ETA: 6s - loss: 0.0505 - accuracy: 0.9852 - precision: 0.9891 - recall: 0.994 - ETA: 5s - loss: 0.0500 - accuracy: 0.9855 - precision: 0.9891 - recall: 0.994 - ETA: 5s - loss: 0.0497 - accuracy: 0.9855 - precision: 0.9891 - recall: 0.994 - ETA: 4s - loss: 0.0506 - accuracy: 0.9852 - precision: 0.9891 - recall: 0.994 - ETA: 4s - loss: 0.0502 - accuracy: 0.9855 - precision: 0.9891 - recall: 0.994 - ETA: 3s - loss: 0.0511 - accuracy: 0.9852 - precision: 0.9890 - recall: 0.994 - ETA: 2s - loss: 0.0506 - accuracy: 0.9854 - precision: 0.9890 - recall: 0.994 - ETA: 2s - loss: 0.0509 - accuracy: 0.9851 - precision: 0.9890 - recall: 0.994 - ETA: 1s - loss: 0.0502 - accuracy: 0.9854 - precision: 0.9890 - recall: 0.994 - ETA: 1s - loss: 0.0496 - accuracy: 0.9856 - precision: 0.9890 - recall: 0.994 - ETA: 0s - loss: 0.0493 - accuracy: 0.9856 - precision: 0.9890 - recall: 0.994 - ETA: 0s - loss: 0.0489 - accuracy: 0.9858 - precision: 0.9890 - recall: 0.994 - 37s 9ms/step - loss: 0.0487 - accuracy: 0.9859 - precision: 0.9890 - recall: 0.9945 - val_loss: 0.0644 - val_accuracy: 0.9806 - val_precision: 0.9869 - val_recall: 0.9951\n",
      "\n",
      "Epoch 00005: val_loss improved from 0.07071 to 0.06440, saving model to results/spam_classifier_0.06\n",
      "Epoch 6/20\n"
     ]
    },
    {
     "name": "stdout",
     "output_type": "stream",
     "text": [
      "4180/4180 [==============================] - ETA: 44s - loss: 0.0036 - accuracy: 1.0000 - precision: 1.0000 - recall: 1.00 - ETA: 40s - loss: 0.0055 - accuracy: 1.0000 - precision: 1.0000 - recall: 1.00 - ETA: 38s - loss: 0.0043 - accuracy: 1.0000 - precision: 1.0000 - recall: 1.00 - ETA: 36s - loss: 0.0189 - accuracy: 0.9961 - precision: 0.9989 - recall: 1.00 - ETA: 34s - loss: 0.0191 - accuracy: 0.9969 - precision: 0.9984 - recall: 1.00 - ETA: 33s - loss: 0.0523 - accuracy: 0.9896 - precision: 0.9972 - recall: 0.99 - ETA: 31s - loss: 0.0469 - accuracy: 0.9911 - precision: 0.9965 - recall: 0.99 - ETA: 30s - loss: 0.0494 - accuracy: 0.9902 - precision: 0.9958 - recall: 0.99 - ETA: 30s - loss: 0.0456 - accuracy: 0.9913 - precision: 0.9954 - recall: 0.99 - ETA: 29s - loss: 0.0468 - accuracy: 0.9906 - precision: 0.9949 - recall: 0.99 - ETA: 28s - loss: 0.0454 - accuracy: 0.9901 - precision: 0.9945 - recall: 0.99 - ETA: 28s - loss: 0.0460 - accuracy: 0.9896 - precision: 0.9942 - recall: 0.99 - ETA: 27s - loss: 0.0443 - accuracy: 0.9892 - precision: 0.9939 - recall: 0.99 - ETA: 26s - loss: 0.0415 - accuracy: 0.9900 - precision: 0.9937 - recall: 0.99 - ETA: 26s - loss: 0.0389 - accuracy: 0.9906 - precision: 0.9936 - recall: 0.99 - ETA: 25s - loss: 0.0453 - accuracy: 0.9873 - precision: 0.9933 - recall: 0.99 - ETA: 25s - loss: 0.0467 - accuracy: 0.9871 - precision: 0.9930 - recall: 0.99 - ETA: 24s - loss: 0.0474 - accuracy: 0.9861 - precision: 0.9927 - recall: 0.99 - ETA: 23s - loss: 0.0476 - accuracy: 0.9860 - precision: 0.9924 - recall: 0.99 - ETA: 23s - loss: 0.0479 - accuracy: 0.9859 - precision: 0.9921 - recall: 0.99 - ETA: 22s - loss: 0.0462 - accuracy: 0.9866 - precision: 0.9919 - recall: 0.99 - ETA: 22s - loss: 0.0452 - accuracy: 0.9865 - precision: 0.9917 - recall: 0.99 - ETA: 21s - loss: 0.0442 - accuracy: 0.9864 - precision: 0.9916 - recall: 0.99 - ETA: 21s - loss: 0.0431 - accuracy: 0.9870 - precision: 0.9915 - recall: 0.99 - ETA: 20s - loss: 0.0432 - accuracy: 0.9869 - precision: 0.9914 - recall: 0.99 - ETA: 19s - loss: 0.0493 - accuracy: 0.9862 - precision: 0.9913 - recall: 0.99 - ETA: 19s - loss: 0.0487 - accuracy: 0.9861 - precision: 0.9912 - recall: 0.99 - ETA: 18s - loss: 0.0480 - accuracy: 0.9860 - precision: 0.9910 - recall: 0.99 - ETA: 18s - loss: 0.0489 - accuracy: 0.9860 - precision: 0.9909 - recall: 0.99 - ETA: 17s - loss: 0.0482 - accuracy: 0.9859 - precision: 0.9908 - recall: 0.99 - ETA: 17s - loss: 0.0475 - accuracy: 0.9864 - precision: 0.9907 - recall: 0.99 - ETA: 16s - loss: 0.0467 - accuracy: 0.9868 - precision: 0.9906 - recall: 0.99 - ETA: 16s - loss: 0.0471 - accuracy: 0.9867 - precision: 0.9906 - recall: 0.99 - ETA: 15s - loss: 0.0472 - accuracy: 0.9867 - precision: 0.9905 - recall: 0.99 - ETA: 15s - loss: 0.0476 - accuracy: 0.9866 - precision: 0.9904 - recall: 0.99 - ETA: 14s - loss: 0.0467 - accuracy: 0.9870 - precision: 0.9904 - recall: 0.99 - ETA: 14s - loss: 0.0466 - accuracy: 0.9869 - precision: 0.9903 - recall: 0.99 - ETA: 13s - loss: 0.0457 - accuracy: 0.9873 - precision: 0.9903 - recall: 0.99 - ETA: 13s - loss: 0.0447 - accuracy: 0.9876 - precision: 0.9903 - recall: 0.99 - ETA: 12s - loss: 0.0447 - accuracy: 0.9875 - precision: 0.9902 - recall: 0.99 - ETA: 12s - loss: 0.0439 - accuracy: 0.9878 - precision: 0.9902 - recall: 0.99 - ETA: 11s - loss: 0.0439 - accuracy: 0.9874 - precision: 0.9902 - recall: 0.99 - ETA: 11s - loss: 0.0431 - accuracy: 0.9876 - precision: 0.9902 - recall: 0.99 - ETA: 10s - loss: 0.0423 - accuracy: 0.9879 - precision: 0.9901 - recall: 0.99 - ETA: 10s - loss: 0.0419 - accuracy: 0.9878 - precision: 0.9901 - recall: 0.99 - ETA: 9s - loss: 0.0440 - accuracy: 0.9871 - precision: 0.9901 - recall: 0.9971 - ETA: 9s - loss: 0.0457 - accuracy: 0.9864 - precision: 0.9900 - recall: 0.997 - ETA: 8s - loss: 0.0452 - accuracy: 0.9863 - precision: 0.9900 - recall: 0.997 - ETA: 8s - loss: 0.0447 - accuracy: 0.9866 - precision: 0.9900 - recall: 0.997 - ETA: 7s - loss: 0.0439 - accuracy: 0.9869 - precision: 0.9900 - recall: 0.997 - ETA: 7s - loss: 0.0437 - accuracy: 0.9868 - precision: 0.9899 - recall: 0.997 - ETA: 6s - loss: 0.0429 - accuracy: 0.9871 - precision: 0.9899 - recall: 0.997 - ETA: 6s - loss: 0.0425 - accuracy: 0.9873 - precision: 0.9899 - recall: 0.997 - ETA: 5s - loss: 0.0421 - accuracy: 0.9873 - precision: 0.9899 - recall: 0.997 - ETA: 5s - loss: 0.0414 - accuracy: 0.9875 - precision: 0.9899 - recall: 0.997 - ETA: 4s - loss: 0.0409 - accuracy: 0.9877 - precision: 0.9899 - recall: 0.997 - ETA: 4s - loss: 0.0403 - accuracy: 0.9879 - precision: 0.9899 - recall: 0.996 - ETA: 3s - loss: 0.0410 - accuracy: 0.9876 - precision: 0.9899 - recall: 0.996 - ETA: 3s - loss: 0.0404 - accuracy: 0.9878 - precision: 0.9898 - recall: 0.996 - ETA: 2s - loss: 0.0398 - accuracy: 0.9880 - precision: 0.9898 - recall: 0.996 - ETA: 2s - loss: 0.0408 - accuracy: 0.9877 - precision: 0.9898 - recall: 0.996 - ETA: 1s - loss: 0.0405 - accuracy: 0.9879 - precision: 0.9898 - recall: 0.996 - ETA: 1s - loss: 0.0401 - accuracy: 0.9881 - precision: 0.9898 - recall: 0.996 - ETA: 0s - loss: 0.0399 - accuracy: 0.9880 - precision: 0.9898 - recall: 0.996 - ETA: 0s - loss: 0.0396 - accuracy: 0.9880 - precision: 0.9898 - recall: 0.996 - 35s 8ms/step - loss: 0.0394 - accuracy: 0.9880 - precision: 0.9898 - recall: 0.9969 - val_loss: 0.0625 - val_accuracy: 0.9828 - val_precision: 0.9891 - val_recall: 0.9952\n",
      "\n",
      "Epoch 00006: val_loss improved from 0.06440 to 0.06249, saving model to results/spam_classifier_0.06\n",
      "Epoch 7/20\n"
     ]
    },
    {
     "name": "stdout",
     "output_type": "stream",
     "text": [
      "4180/4180 [==============================] - ETA: 37s - loss: 0.0195 - accuracy: 0.9844 - precision: 1.0000 - recall: 0.98 - ETA: 37s - loss: 0.0375 - accuracy: 0.9844 - precision: 0.9956 - recall: 0.98 - ETA: 35s - loss: 0.0305 - accuracy: 0.9896 - precision: 0.9950 - recall: 0.98 - ETA: 36s - loss: 0.0258 - accuracy: 0.9922 - precision: 0.9951 - recall: 0.99 - ETA: 34s - loss: 0.0435 - accuracy: 0.9906 - precision: 0.9946 - recall: 0.99 - ETA: 33s - loss: 0.0508 - accuracy: 0.9870 - precision: 0.9934 - recall: 0.99 - ETA: 31s - loss: 0.0463 - accuracy: 0.9888 - precision: 0.9929 - recall: 0.99 - ETA: 31s - loss: 0.0490 - accuracy: 0.9883 - precision: 0.9923 - recall: 0.99 - ETA: 30s - loss: 0.0453 - accuracy: 0.9896 - precision: 0.9921 - recall: 0.99 - ETA: 29s - loss: 0.0461 - accuracy: 0.9891 - precision: 0.9918 - recall: 0.99 - ETA: 28s - loss: 0.0438 - accuracy: 0.9886 - precision: 0.9916 - recall: 0.99 - ETA: 28s - loss: 0.0471 - accuracy: 0.9883 - precision: 0.9916 - recall: 0.99 - ETA: 27s - loss: 0.0462 - accuracy: 0.9892 - precision: 0.9916 - recall: 0.99 - ETA: 26s - loss: 0.0440 - accuracy: 0.9900 - precision: 0.9917 - recall: 0.99 - ETA: 26s - loss: 0.0465 - accuracy: 0.9885 - precision: 0.9916 - recall: 0.99 - ETA: 25s - loss: 0.0475 - accuracy: 0.9873 - precision: 0.9915 - recall: 0.99 - ETA: 24s - loss: 0.0451 - accuracy: 0.9881 - precision: 0.9915 - recall: 0.99 - ETA: 24s - loss: 0.0433 - accuracy: 0.9887 - precision: 0.9916 - recall: 0.99 - ETA: 23s - loss: 0.0476 - accuracy: 0.9877 - precision: 0.9915 - recall: 0.99 - ETA: 23s - loss: 0.0468 - accuracy: 0.9875 - precision: 0.9915 - recall: 0.99 - ETA: 22s - loss: 0.0449 - accuracy: 0.9881 - precision: 0.9914 - recall: 0.99 - ETA: 22s - loss: 0.0432 - accuracy: 0.9886 - precision: 0.9914 - recall: 0.99 - ETA: 21s - loss: 0.0415 - accuracy: 0.9891 - precision: 0.9914 - recall: 0.99 - ETA: 21s - loss: 0.0400 - accuracy: 0.9896 - precision: 0.9914 - recall: 0.99 - ETA: 20s - loss: 0.0409 - accuracy: 0.9894 - precision: 0.9914 - recall: 0.99 - ETA: 20s - loss: 0.0402 - accuracy: 0.9898 - precision: 0.9914 - recall: 0.99 - ETA: 19s - loss: 0.0390 - accuracy: 0.9902 - precision: 0.9915 - recall: 0.99 - ETA: 19s - loss: 0.0386 - accuracy: 0.9900 - precision: 0.9915 - recall: 0.99 - ETA: 18s - loss: 0.0389 - accuracy: 0.9898 - precision: 0.9915 - recall: 0.99 - ETA: 17s - loss: 0.0397 - accuracy: 0.9896 - precision: 0.9915 - recall: 0.99 - ETA: 17s - loss: 0.0390 - accuracy: 0.9894 - precision: 0.9915 - recall: 0.99 - ETA: 16s - loss: 0.0381 - accuracy: 0.9897 - precision: 0.9915 - recall: 0.99 - ETA: 16s - loss: 0.0370 - accuracy: 0.9901 - precision: 0.9915 - recall: 0.99 - ETA: 15s - loss: 0.0372 - accuracy: 0.9899 - precision: 0.9916 - recall: 0.99 - ETA: 15s - loss: 0.0362 - accuracy: 0.9902 - precision: 0.9916 - recall: 0.99 - ETA: 14s - loss: 0.0363 - accuracy: 0.9900 - precision: 0.9916 - recall: 0.99 - ETA: 14s - loss: 0.0377 - accuracy: 0.9894 - precision: 0.9916 - recall: 0.99 - ETA: 13s - loss: 0.0391 - accuracy: 0.9889 - precision: 0.9916 - recall: 0.99 - ETA: 13s - loss: 0.0384 - accuracy: 0.9892 - precision: 0.9916 - recall: 0.99 - ETA: 12s - loss: 0.0380 - accuracy: 0.9895 - precision: 0.9917 - recall: 0.99 - ETA: 12s - loss: 0.0372 - accuracy: 0.9897 - precision: 0.9917 - recall: 0.99 - ETA: 11s - loss: 0.0365 - accuracy: 0.9900 - precision: 0.9917 - recall: 0.99 - ETA: 11s - loss: 0.0366 - accuracy: 0.9895 - precision: 0.9917 - recall: 0.99 - ETA: 10s - loss: 0.0384 - accuracy: 0.9893 - precision: 0.9917 - recall: 0.99 - ETA: 10s - loss: 0.0386 - accuracy: 0.9892 - precision: 0.9917 - recall: 0.99 - ETA: 9s - loss: 0.0388 - accuracy: 0.9888 - precision: 0.9917 - recall: 0.9956 - ETA: 9s - loss: 0.0385 - accuracy: 0.9887 - precision: 0.9917 - recall: 0.995 - ETA: 8s - loss: 0.0387 - accuracy: 0.9883 - precision: 0.9917 - recall: 0.995 - ETA: 8s - loss: 0.0387 - accuracy: 0.9882 - precision: 0.9917 - recall: 0.995 - ETA: 7s - loss: 0.0383 - accuracy: 0.9884 - precision: 0.9917 - recall: 0.995 - ETA: 7s - loss: 0.0379 - accuracy: 0.9887 - precision: 0.9917 - recall: 0.995 - ETA: 6s - loss: 0.0372 - accuracy: 0.9889 - precision: 0.9916 - recall: 0.995 - ETA: 6s - loss: 0.0369 - accuracy: 0.9891 - precision: 0.9916 - recall: 0.995 - ETA: 5s - loss: 0.0363 - accuracy: 0.9893 - precision: 0.9916 - recall: 0.995 - ETA: 5s - loss: 0.0359 - accuracy: 0.9895 - precision: 0.9916 - recall: 0.995 - ETA: 4s - loss: 0.0366 - accuracy: 0.9894 - precision: 0.9916 - recall: 0.995 - ETA: 4s - loss: 0.0371 - accuracy: 0.9890 - precision: 0.9917 - recall: 0.995 - ETA: 3s - loss: 0.0366 - accuracy: 0.9892 - precision: 0.9917 - recall: 0.995 - ETA: 3s - loss: 0.0370 - accuracy: 0.9889 - precision: 0.9917 - recall: 0.995 - ETA: 2s - loss: 0.0375 - accuracy: 0.9885 - precision: 0.9917 - recall: 0.995 - ETA: 2s - loss: 0.0374 - accuracy: 0.9885 - precision: 0.9917 - recall: 0.995 - ETA: 1s - loss: 0.0375 - accuracy: 0.9884 - precision: 0.9916 - recall: 0.995 - ETA: 1s - loss: 0.0389 - accuracy: 0.9881 - precision: 0.9916 - recall: 0.995 - ETA: 0s - loss: 0.0386 - accuracy: 0.9883 - precision: 0.9916 - recall: 0.995 - ETA: 0s - loss: 0.0383 - accuracy: 0.9885 - precision: 0.9916 - recall: 0.995 - 34s 8ms/step - loss: 0.0381 - accuracy: 0.9885 - precision: 0.9916 - recall: 0.9956 - val_loss: 0.0644 - val_accuracy: 0.9821 - val_precision: 0.9880 - val_recall: 0.9951\n",
      "\n",
      "Epoch 00007: val_loss did not improve from 0.06249\n",
      "Epoch 8/20\n"
     ]
    },
    {
     "name": "stdout",
     "output_type": "stream",
     "text": [
      "4180/4180 [==============================] - ETA: 1:00 - loss: 0.0059 - accuracy: 1.0000 - precision: 1.0000 - recall: 1.000 - ETA: 46s - loss: 0.0119 - accuracy: 1.0000 - precision: 1.0000 - recall: 1.000 - ETA: 40s - loss: 0.0097 - accuracy: 1.0000 - precision: 1.0000 - recall: 1.00 - ETA: 37s - loss: 0.0088 - accuracy: 1.0000 - precision: 1.0000 - recall: 1.00 - ETA: 36s - loss: 0.0117 - accuracy: 0.9969 - precision: 1.0000 - recall: 0.99 - ETA: 34s - loss: 0.0139 - accuracy: 0.9948 - precision: 0.9995 - recall: 0.99 - ETA: 32s - loss: 0.0177 - accuracy: 0.9933 - precision: 0.9988 - recall: 0.99 - ETA: 31s - loss: 0.0264 - accuracy: 0.9922 - precision: 0.9981 - recall: 0.99 - ETA: 30s - loss: 0.0254 - accuracy: 0.9931 - precision: 0.9977 - recall: 0.99 - ETA: 29s - loss: 0.0236 - accuracy: 0.9937 - precision: 0.9974 - recall: 0.99 - ETA: 29s - loss: 0.0278 - accuracy: 0.9886 - precision: 0.9968 - recall: 0.99 - ETA: 28s - loss: 0.0291 - accuracy: 0.9883 - precision: 0.9964 - recall: 0.99 - ETA: 28s - loss: 0.0298 - accuracy: 0.9880 - precision: 0.9959 - recall: 0.99 - ETA: 27s - loss: 0.0293 - accuracy: 0.9888 - precision: 0.9955 - recall: 0.99 - ETA: 27s - loss: 0.0359 - accuracy: 0.9885 - precision: 0.9953 - recall: 0.99 - ETA: 26s - loss: 0.0347 - accuracy: 0.9883 - precision: 0.9950 - recall: 0.99 - ETA: 25s - loss: 0.0335 - accuracy: 0.9890 - precision: 0.9948 - recall: 0.99 - ETA: 25s - loss: 0.0339 - accuracy: 0.9887 - precision: 0.9946 - recall: 0.99 - ETA: 24s - loss: 0.0326 - accuracy: 0.9893 - precision: 0.9944 - recall: 0.99 - ETA: 23s - loss: 0.0311 - accuracy: 0.9898 - precision: 0.9943 - recall: 0.99 - ETA: 23s - loss: 0.0317 - accuracy: 0.9896 - precision: 0.9941 - recall: 0.99 - ETA: 22s - loss: 0.0336 - accuracy: 0.9893 - precision: 0.9940 - recall: 0.99 - ETA: 22s - loss: 0.0325 - accuracy: 0.9898 - precision: 0.9939 - recall: 0.99 - ETA: 21s - loss: 0.0322 - accuracy: 0.9902 - precision: 0.9938 - recall: 0.99 - ETA: 21s - loss: 0.0336 - accuracy: 0.9894 - precision: 0.9937 - recall: 0.99 - ETA: 20s - loss: 0.0337 - accuracy: 0.9892 - precision: 0.9936 - recall: 0.99 - ETA: 19s - loss: 0.0333 - accuracy: 0.9890 - precision: 0.9935 - recall: 0.99 - ETA: 19s - loss: 0.0323 - accuracy: 0.9894 - precision: 0.9934 - recall: 0.99 - ETA: 18s - loss: 0.0313 - accuracy: 0.9898 - precision: 0.9933 - recall: 0.99 - ETA: 18s - loss: 0.0305 - accuracy: 0.9901 - precision: 0.9932 - recall: 0.99 - ETA: 17s - loss: 0.0298 - accuracy: 0.9904 - precision: 0.9932 - recall: 0.99 - ETA: 17s - loss: 0.0291 - accuracy: 0.9907 - precision: 0.9932 - recall: 0.99 - ETA: 16s - loss: 0.0283 - accuracy: 0.9910 - precision: 0.9931 - recall: 0.99 - ETA: 16s - loss: 0.0281 - accuracy: 0.9908 - precision: 0.9931 - recall: 0.99 - ETA: 15s - loss: 0.0277 - accuracy: 0.9911 - precision: 0.9931 - recall: 0.99 - ETA: 15s - loss: 0.0289 - accuracy: 0.9905 - precision: 0.9931 - recall: 0.99 - ETA: 14s - loss: 0.0299 - accuracy: 0.9903 - precision: 0.9931 - recall: 0.99 - ETA: 14s - loss: 0.0300 - accuracy: 0.9901 - precision: 0.9931 - recall: 0.99 - ETA: 13s - loss: 0.0295 - accuracy: 0.9904 - precision: 0.9930 - recall: 0.99 - ETA: 13s - loss: 0.0292 - accuracy: 0.9906 - precision: 0.9930 - recall: 0.99 - ETA: 12s - loss: 0.0285 - accuracy: 0.9909 - precision: 0.9930 - recall: 0.99 - ETA: 11s - loss: 0.0287 - accuracy: 0.9907 - precision: 0.9930 - recall: 0.99 - ETA: 11s - loss: 0.0295 - accuracy: 0.9902 - precision: 0.9930 - recall: 0.99 - ETA: 10s - loss: 0.0300 - accuracy: 0.9901 - precision: 0.9929 - recall: 0.99 - ETA: 10s - loss: 0.0298 - accuracy: 0.9903 - precision: 0.9929 - recall: 0.99 - ETA: 9s - loss: 0.0300 - accuracy: 0.9898 - precision: 0.9929 - recall: 0.9970 - ETA: 9s - loss: 0.0299 - accuracy: 0.9900 - precision: 0.9929 - recall: 0.997 - ETA: 8s - loss: 0.0293 - accuracy: 0.9902 - precision: 0.9928 - recall: 0.997 - ETA: 8s - loss: 0.0288 - accuracy: 0.9904 - precision: 0.9928 - recall: 0.997 - ETA: 7s - loss: 0.0284 - accuracy: 0.9906 - precision: 0.9928 - recall: 0.997 - ETA: 7s - loss: 0.0291 - accuracy: 0.9905 - precision: 0.9928 - recall: 0.997 - ETA: 6s - loss: 0.0303 - accuracy: 0.9904 - precision: 0.9928 - recall: 0.997 - ETA: 6s - loss: 0.0298 - accuracy: 0.9906 - precision: 0.9927 - recall: 0.997 - ETA: 5s - loss: 0.0294 - accuracy: 0.9907 - precision: 0.9927 - recall: 0.997 - ETA: 5s - loss: 0.0289 - accuracy: 0.9909 - precision: 0.9927 - recall: 0.997 - ETA: 4s - loss: 0.0286 - accuracy: 0.9911 - precision: 0.9927 - recall: 0.997 - ETA: 4s - loss: 0.0283 - accuracy: 0.9912 - precision: 0.9927 - recall: 0.997 - ETA: 3s - loss: 0.0285 - accuracy: 0.9911 - precision: 0.9927 - recall: 0.997 - ETA: 3s - loss: 0.0307 - accuracy: 0.9905 - precision: 0.9927 - recall: 0.997 - ETA: 2s - loss: 0.0304 - accuracy: 0.9906 - precision: 0.9927 - recall: 0.997 - ETA: 2s - loss: 0.0300 - accuracy: 0.9908 - precision: 0.9927 - recall: 0.997 - ETA: 1s - loss: 0.0310 - accuracy: 0.9904 - precision: 0.9927 - recall: 0.997 - ETA: 1s - loss: 0.0310 - accuracy: 0.9903 - precision: 0.9927 - recall: 0.997 - ETA: 0s - loss: 0.0306 - accuracy: 0.9905 - precision: 0.9927 - recall: 0.997 - ETA: 0s - loss: 0.0303 - accuracy: 0.9906 - precision: 0.9926 - recall: 0.997 - 34s 8ms/step - loss: 0.0302 - accuracy: 0.9907 - precision: 0.9926 - recall: 0.9970 - val_loss: 0.0608 - val_accuracy: 0.9799 - val_precision: 0.9860 - val_recall: 0.9931\n",
      "\n",
      "Epoch 00008: val_loss improved from 0.06249 to 0.06081, saving model to results/spam_classifier_0.06\n",
      "Epoch 9/20\n"
     ]
    },
    {
     "name": "stdout",
     "output_type": "stream",
     "text": [
      "4180/4180 [==============================] - ETA: 34s - loss: 0.0075 - accuracy: 1.0000 - precision: 1.0000 - recall: 1.00 - ETA: 33s - loss: 0.0155 - accuracy: 0.9922 - precision: 0.9956 - recall: 1.00 - ETA: 31s - loss: 0.0148 - accuracy: 0.9948 - precision: 0.9951 - recall: 1.00 - ETA: 30s - loss: 0.0128 - accuracy: 0.9961 - precision: 0.9952 - recall: 1.00 - ETA: 29s - loss: 0.0117 - accuracy: 0.9969 - precision: 0.9955 - recall: 1.00 - ETA: 28s - loss: 0.0106 - accuracy: 0.9974 - precision: 0.9957 - recall: 1.00 - ETA: 28s - loss: 0.0094 - accuracy: 0.9978 - precision: 0.9960 - recall: 1.00 - ETA: 27s - loss: 0.0097 - accuracy: 0.9961 - precision: 0.9959 - recall: 1.00 - ETA: 27s - loss: 0.0092 - accuracy: 0.9965 - precision: 0.9959 - recall: 1.00 - ETA: 27s - loss: 0.0145 - accuracy: 0.9953 - precision: 0.9958 - recall: 1.00 - ETA: 26s - loss: 0.0138 - accuracy: 0.9957 - precision: 0.9957 - recall: 1.00 - ETA: 26s - loss: 0.0174 - accuracy: 0.9948 - precision: 0.9956 - recall: 1.00 - ETA: 25s - loss: 0.0166 - accuracy: 0.9952 - precision: 0.9955 - recall: 1.00 - ETA: 25s - loss: 0.0162 - accuracy: 0.9955 - precision: 0.9954 - recall: 1.00 - ETA: 25s - loss: 0.0156 - accuracy: 0.9958 - precision: 0.9954 - recall: 1.00 - ETA: 26s - loss: 0.0150 - accuracy: 0.9961 - precision: 0.9954 - recall: 1.00 - ETA: 26s - loss: 0.0177 - accuracy: 0.9954 - precision: 0.9954 - recall: 1.00 - ETA: 26s - loss: 0.0243 - accuracy: 0.9931 - precision: 0.9953 - recall: 0.99 - ETA: 25s - loss: 0.0252 - accuracy: 0.9926 - precision: 0.9951 - recall: 0.99 - ETA: 25s - loss: 0.0257 - accuracy: 0.9922 - precision: 0.9950 - recall: 0.99 - ETA: 24s - loss: 0.0257 - accuracy: 0.9918 - precision: 0.9948 - recall: 0.99 - ETA: 23s - loss: 0.0246 - accuracy: 0.9922 - precision: 0.9947 - recall: 0.99 - ETA: 23s - loss: 0.0239 - accuracy: 0.9925 - precision: 0.9947 - recall: 0.99 - ETA: 22s - loss: 0.0260 - accuracy: 0.9922 - precision: 0.9946 - recall: 0.99 - ETA: 22s - loss: 0.0259 - accuracy: 0.9925 - precision: 0.9945 - recall: 0.99 - ETA: 21s - loss: 0.0259 - accuracy: 0.9928 - precision: 0.9944 - recall: 0.99 - ETA: 20s - loss: 0.0253 - accuracy: 0.9931 - precision: 0.9944 - recall: 0.99 - ETA: 20s - loss: 0.0247 - accuracy: 0.9933 - precision: 0.9944 - recall: 0.99 - ETA: 19s - loss: 0.0262 - accuracy: 0.9925 - precision: 0.9943 - recall: 0.99 - ETA: 18s - loss: 0.0273 - accuracy: 0.9922 - precision: 0.9943 - recall: 0.99 - ETA: 18s - loss: 0.0266 - accuracy: 0.9924 - precision: 0.9942 - recall: 0.99 - ETA: 17s - loss: 0.0313 - accuracy: 0.9917 - precision: 0.9942 - recall: 0.99 - ETA: 17s - loss: 0.0319 - accuracy: 0.9915 - precision: 0.9941 - recall: 0.99 - ETA: 16s - loss: 0.0312 - accuracy: 0.9917 - precision: 0.9941 - recall: 0.99 - ETA: 16s - loss: 0.0312 - accuracy: 0.9915 - precision: 0.9940 - recall: 0.99 - ETA: 15s - loss: 0.0306 - accuracy: 0.9918 - precision: 0.9940 - recall: 0.99 - ETA: 14s - loss: 0.0299 - accuracy: 0.9920 - precision: 0.9939 - recall: 0.99 - ETA: 14s - loss: 0.0293 - accuracy: 0.9922 - precision: 0.9939 - recall: 0.99 - ETA: 13s - loss: 0.0287 - accuracy: 0.9924 - precision: 0.9939 - recall: 0.99 - ETA: 13s - loss: 0.0285 - accuracy: 0.9922 - precision: 0.9939 - recall: 0.99 - ETA: 12s - loss: 0.0281 - accuracy: 0.9924 - precision: 0.9938 - recall: 0.99 - ETA: 12s - loss: 0.0275 - accuracy: 0.9926 - precision: 0.9938 - recall: 0.99 - ETA: 11s - loss: 0.0270 - accuracy: 0.9927 - precision: 0.9938 - recall: 0.99 - ETA: 11s - loss: 0.0279 - accuracy: 0.9925 - precision: 0.9938 - recall: 0.99 - ETA: 10s - loss: 0.0274 - accuracy: 0.9927 - precision: 0.9938 - recall: 0.99 - ETA: 10s - loss: 0.0273 - accuracy: 0.9929 - precision: 0.9938 - recall: 0.99 - ETA: 9s - loss: 0.0268 - accuracy: 0.9930 - precision: 0.9938 - recall: 0.9989 - ETA: 8s - loss: 0.0263 - accuracy: 0.9932 - precision: 0.9938 - recall: 0.998 - ETA: 8s - loss: 0.0275 - accuracy: 0.9930 - precision: 0.9938 - recall: 0.998 - ETA: 7s - loss: 0.0270 - accuracy: 0.9931 - precision: 0.9937 - recall: 0.998 - ETA: 7s - loss: 0.0265 - accuracy: 0.9933 - precision: 0.9937 - recall: 0.998 - ETA: 6s - loss: 0.0263 - accuracy: 0.9934 - precision: 0.9937 - recall: 0.998 - ETA: 6s - loss: 0.0268 - accuracy: 0.9926 - precision: 0.9937 - recall: 0.998 - ETA: 5s - loss: 0.0265 - accuracy: 0.9928 - precision: 0.9937 - recall: 0.998 - ETA: 5s - loss: 0.0265 - accuracy: 0.9929 - precision: 0.9937 - recall: 0.998 - ETA: 4s - loss: 0.0260 - accuracy: 0.9930 - precision: 0.9937 - recall: 0.998 - ETA: 4s - loss: 0.0264 - accuracy: 0.9929 - precision: 0.9937 - recall: 0.998 - ETA: 3s - loss: 0.0263 - accuracy: 0.9930 - precision: 0.9937 - recall: 0.998 - ETA: 3s - loss: 0.0259 - accuracy: 0.9931 - precision: 0.9937 - recall: 0.998 - ETA: 2s - loss: 0.0259 - accuracy: 0.9930 - precision: 0.9937 - recall: 0.998 - ETA: 2s - loss: 0.0255 - accuracy: 0.9931 - precision: 0.9937 - recall: 0.998 - ETA: 1s - loss: 0.0268 - accuracy: 0.9927 - precision: 0.9936 - recall: 0.998 - ETA: 1s - loss: 0.0266 - accuracy: 0.9928 - precision: 0.9936 - recall: 0.998 - ETA: 0s - loss: 0.0262 - accuracy: 0.9929 - precision: 0.9936 - recall: 0.998 - ETA: 0s - loss: 0.0259 - accuracy: 0.9930 - precision: 0.9936 - recall: 0.998 - 35s 8ms/step - loss: 0.0258 - accuracy: 0.9931 - precision: 0.9936 - recall: 0.9989 - val_loss: 0.0590 - val_accuracy: 0.9857 - val_precision: 0.9889 - val_recall: 0.9982\n",
      "\n",
      "Epoch 00009: val_loss improved from 0.06081 to 0.05901, saving model to results/spam_classifier_0.06\n",
      "Epoch 10/20\n"
     ]
    },
    {
     "name": "stdout",
     "output_type": "stream",
     "text": [
      "4180/4180 [==============================] - ETA: 41s - loss: 0.0277 - accuracy: 0.9844 - precision: 0.9818 - recall: 1.00 - ETA: 35s - loss: 0.0173 - accuracy: 0.9922 - precision: 0.9865 - recall: 1.00 - ETA: 32s - loss: 0.0136 - accuracy: 0.9948 - precision: 0.9891 - recall: 1.00 - ETA: 30s - loss: 0.0117 - accuracy: 0.9961 - precision: 0.9907 - recall: 1.00 - ETA: 29s - loss: 0.0108 - accuracy: 0.9969 - precision: 0.9919 - recall: 1.00 - ETA: 28s - loss: 0.0098 - accuracy: 0.9974 - precision: 0.9928 - recall: 1.00 - ETA: 28s - loss: 0.0096 - accuracy: 0.9978 - precision: 0.9934 - recall: 1.00 - ETA: 28s - loss: 0.0130 - accuracy: 0.9961 - precision: 0.9937 - recall: 1.00 - ETA: 27s - loss: 0.0128 - accuracy: 0.9965 - precision: 0.9940 - recall: 1.00 - ETA: 26s - loss: 0.0152 - accuracy: 0.9953 - precision: 0.9941 - recall: 1.00 - ETA: 26s - loss: 0.0143 - accuracy: 0.9957 - precision: 0.9942 - recall: 1.00 - ETA: 26s - loss: 0.0141 - accuracy: 0.9961 - precision: 0.9943 - recall: 1.00 - ETA: 26s - loss: 0.0137 - accuracy: 0.9964 - precision: 0.9944 - recall: 1.00 - ETA: 25s - loss: 0.0130 - accuracy: 0.9967 - precision: 0.9945 - recall: 1.00 - ETA: 25s - loss: 0.0124 - accuracy: 0.9969 - precision: 0.9947 - recall: 1.00 - ETA: 24s - loss: 0.0117 - accuracy: 0.9971 - precision: 0.9948 - recall: 1.00 - ETA: 24s - loss: 0.0112 - accuracy: 0.9972 - precision: 0.9949 - recall: 1.00 - ETA: 24s - loss: 0.0133 - accuracy: 0.9965 - precision: 0.9950 - recall: 1.00 - ETA: 23s - loss: 0.0139 - accuracy: 0.9967 - precision: 0.9951 - recall: 1.00 - ETA: 22s - loss: 0.0141 - accuracy: 0.9961 - precision: 0.9951 - recall: 1.00 - ETA: 22s - loss: 0.0145 - accuracy: 0.9955 - precision: 0.9951 - recall: 1.00 - ETA: 21s - loss: 0.0140 - accuracy: 0.9957 - precision: 0.9952 - recall: 0.99 - ETA: 21s - loss: 0.0138 - accuracy: 0.9959 - precision: 0.9952 - recall: 0.99 - ETA: 20s - loss: 0.0135 - accuracy: 0.9961 - precision: 0.9952 - recall: 0.99 - ETA: 20s - loss: 0.0131 - accuracy: 0.9962 - precision: 0.9953 - recall: 0.99 - ETA: 19s - loss: 0.0174 - accuracy: 0.9946 - precision: 0.9953 - recall: 0.99 - ETA: 19s - loss: 0.0183 - accuracy: 0.9942 - precision: 0.9952 - recall: 0.99 - ETA: 18s - loss: 0.0198 - accuracy: 0.9939 - precision: 0.9952 - recall: 0.99 - ETA: 17s - loss: 0.0200 - accuracy: 0.9941 - precision: 0.9952 - recall: 0.99 - ETA: 17s - loss: 0.0195 - accuracy: 0.9943 - precision: 0.9952 - recall: 0.99 - ETA: 16s - loss: 0.0191 - accuracy: 0.9945 - precision: 0.9952 - recall: 0.99 - ETA: 16s - loss: 0.0222 - accuracy: 0.9941 - precision: 0.9951 - recall: 0.99 - ETA: 15s - loss: 0.0241 - accuracy: 0.9938 - precision: 0.9951 - recall: 0.99 - ETA: 15s - loss: 0.0240 - accuracy: 0.9940 - precision: 0.9951 - recall: 0.99 - ETA: 14s - loss: 0.0236 - accuracy: 0.9942 - precision: 0.9951 - recall: 0.99 - ETA: 14s - loss: 0.0232 - accuracy: 0.9944 - precision: 0.9950 - recall: 0.99 - ETA: 13s - loss: 0.0234 - accuracy: 0.9941 - precision: 0.9950 - recall: 0.99 - ETA: 13s - loss: 0.0229 - accuracy: 0.9942 - precision: 0.9950 - recall: 0.99 - ETA: 12s - loss: 0.0225 - accuracy: 0.9944 - precision: 0.9950 - recall: 0.99 - ETA: 12s - loss: 0.0231 - accuracy: 0.9941 - precision: 0.9950 - recall: 0.99 - ETA: 11s - loss: 0.0227 - accuracy: 0.9943 - precision: 0.9950 - recall: 0.99 - ETA: 11s - loss: 0.0223 - accuracy: 0.9944 - precision: 0.9950 - recall: 0.99 - ETA: 10s - loss: 0.0226 - accuracy: 0.9938 - precision: 0.9950 - recall: 0.99 - ETA: 10s - loss: 0.0225 - accuracy: 0.9936 - precision: 0.9950 - recall: 0.99 - ETA: 9s - loss: 0.0221 - accuracy: 0.9937 - precision: 0.9950 - recall: 0.9994 - ETA: 9s - loss: 0.0216 - accuracy: 0.9939 - precision: 0.9949 - recall: 0.999 - ETA: 8s - loss: 0.0218 - accuracy: 0.9937 - precision: 0.9949 - recall: 0.999 - ETA: 8s - loss: 0.0215 - accuracy: 0.9938 - precision: 0.9949 - recall: 0.999 - ETA: 7s - loss: 0.0212 - accuracy: 0.9939 - precision: 0.9949 - recall: 0.999 - ETA: 7s - loss: 0.0209 - accuracy: 0.9941 - precision: 0.9949 - recall: 0.999 - ETA: 6s - loss: 0.0214 - accuracy: 0.9939 - precision: 0.9949 - recall: 0.999 - ETA: 6s - loss: 0.0213 - accuracy: 0.9937 - precision: 0.9949 - recall: 0.999 - ETA: 5s - loss: 0.0211 - accuracy: 0.9938 - precision: 0.9949 - recall: 0.999 - ETA: 5s - loss: 0.0218 - accuracy: 0.9936 - precision: 0.9949 - recall: 0.999 - ETA: 4s - loss: 0.0221 - accuracy: 0.9935 - precision: 0.9949 - recall: 0.999 - ETA: 4s - loss: 0.0219 - accuracy: 0.9936 - precision: 0.9949 - recall: 0.999 - ETA: 4s - loss: 0.0224 - accuracy: 0.9934 - precision: 0.9948 - recall: 0.999 - ETA: 3s - loss: 0.0222 - accuracy: 0.9935 - precision: 0.9948 - recall: 0.999 - ETA: 3s - loss: 0.0227 - accuracy: 0.9931 - precision: 0.9948 - recall: 0.999 - ETA: 2s - loss: 0.0225 - accuracy: 0.9932 - precision: 0.9948 - recall: 0.999 - ETA: 2s - loss: 0.0224 - accuracy: 0.9931 - precision: 0.9948 - recall: 0.999 - ETA: 1s - loss: 0.0224 - accuracy: 0.9929 - precision: 0.9948 - recall: 0.999 - ETA: 1s - loss: 0.0223 - accuracy: 0.9928 - precision: 0.9948 - recall: 0.999 - ETA: 0s - loss: 0.0220 - accuracy: 0.9929 - precision: 0.9947 - recall: 0.999 - ETA: 0s - loss: 0.0218 - accuracy: 0.9930 - precision: 0.9947 - recall: 0.999 - 33s 8ms/step - loss: 0.0217 - accuracy: 0.9931 - precision: 0.9947 - recall: 0.9990 - val_loss: 0.0640 - val_accuracy: 0.9835 - val_precision: 0.9866 - val_recall: 0.9983\n",
      "\n",
      "Epoch 00010: val_loss did not improve from 0.05901\n",
      "Epoch 11/20\n"
     ]
    },
    {
     "name": "stdout",
     "output_type": "stream",
     "text": [
      "4180/4180 [==============================] - ETA: 32s - loss: 0.0028 - accuracy: 1.0000 - precision: 1.0000 - recall: 1.00 - ETA: 31s - loss: 0.0031 - accuracy: 1.0000 - precision: 1.0000 - recall: 1.00 - ETA: 29s - loss: 0.0052 - accuracy: 1.0000 - precision: 1.0000 - recall: 1.00 - ETA: 29s - loss: 0.0044 - accuracy: 1.0000 - precision: 1.0000 - recall: 1.00 - ETA: 28s - loss: 0.0065 - accuracy: 0.9969 - precision: 0.9993 - recall: 1.00 - ETA: 27s - loss: 0.0064 - accuracy: 0.9974 - precision: 0.9989 - recall: 1.00 - ETA: 27s - loss: 0.0059 - accuracy: 0.9978 - precision: 0.9987 - recall: 1.00 - ETA: 26s - loss: 0.0065 - accuracy: 0.9980 - precision: 0.9986 - recall: 1.00 - ETA: 26s - loss: 0.0064 - accuracy: 0.9983 - precision: 0.9985 - recall: 1.00 - ETA: 26s - loss: 0.0074 - accuracy: 0.9984 - precision: 0.9985 - recall: 1.00 - ETA: 25s - loss: 0.0082 - accuracy: 0.9986 - precision: 0.9985 - recall: 1.00 - ETA: 25s - loss: 0.0082 - accuracy: 0.9987 - precision: 0.9985 - recall: 1.00 - ETA: 24s - loss: 0.0084 - accuracy: 0.9988 - precision: 0.9985 - recall: 1.00 - ETA: 24s - loss: 0.0079 - accuracy: 0.9989 - precision: 0.9985 - recall: 1.00 - ETA: 23s - loss: 0.0098 - accuracy: 0.9979 - precision: 0.9985 - recall: 1.00 - ETA: 23s - loss: 0.0105 - accuracy: 0.9971 - precision: 0.9984 - recall: 0.99 - ETA: 23s - loss: 0.0126 - accuracy: 0.9963 - precision: 0.9984 - recall: 0.99 - ETA: 23s - loss: 0.0131 - accuracy: 0.9957 - precision: 0.9983 - recall: 0.99 - ETA: 24s - loss: 0.0129 - accuracy: 0.9959 - precision: 0.9983 - recall: 0.99 - ETA: 24s - loss: 0.0125 - accuracy: 0.9961 - precision: 0.9982 - recall: 0.99 - ETA: 23s - loss: 0.0160 - accuracy: 0.9955 - precision: 0.9981 - recall: 0.99 - ETA: 23s - loss: 0.0157 - accuracy: 0.9957 - precision: 0.9981 - recall: 0.99 - ETA: 22s - loss: 0.0195 - accuracy: 0.9946 - precision: 0.9980 - recall: 0.99 - ETA: 22s - loss: 0.0188 - accuracy: 0.9948 - precision: 0.9979 - recall: 0.99 - ETA: 21s - loss: 0.0183 - accuracy: 0.9950 - precision: 0.9979 - recall: 0.99 - ETA: 20s - loss: 0.0177 - accuracy: 0.9952 - precision: 0.9978 - recall: 0.99 - ETA: 20s - loss: 0.0172 - accuracy: 0.9954 - precision: 0.9978 - recall: 0.99 - ETA: 19s - loss: 0.0168 - accuracy: 0.9955 - precision: 0.9977 - recall: 0.99 - ETA: 19s - loss: 0.0164 - accuracy: 0.9957 - precision: 0.9977 - recall: 0.99 - ETA: 18s - loss: 0.0159 - accuracy: 0.9958 - precision: 0.9977 - recall: 0.99 - ETA: 18s - loss: 0.0168 - accuracy: 0.9955 - precision: 0.9977 - recall: 0.99 - ETA: 17s - loss: 0.0171 - accuracy: 0.9951 - precision: 0.9976 - recall: 0.99 - ETA: 17s - loss: 0.0169 - accuracy: 0.9953 - precision: 0.9976 - recall: 0.99 - ETA: 16s - loss: 0.0170 - accuracy: 0.9949 - precision: 0.9975 - recall: 0.99 - ETA: 15s - loss: 0.0219 - accuracy: 0.9942 - precision: 0.9975 - recall: 0.99 - ETA: 15s - loss: 0.0215 - accuracy: 0.9944 - precision: 0.9974 - recall: 0.99 - ETA: 14s - loss: 0.0210 - accuracy: 0.9945 - precision: 0.9974 - recall: 0.99 - ETA: 14s - loss: 0.0222 - accuracy: 0.9938 - precision: 0.9973 - recall: 0.99 - ETA: 13s - loss: 0.0224 - accuracy: 0.9936 - precision: 0.9972 - recall: 0.99 - ETA: 13s - loss: 0.0225 - accuracy: 0.9934 - precision: 0.9972 - recall: 0.99 - ETA: 12s - loss: 0.0233 - accuracy: 0.9931 - precision: 0.9971 - recall: 0.99 - ETA: 12s - loss: 0.0231 - accuracy: 0.9933 - precision: 0.9970 - recall: 0.99 - ETA: 11s - loss: 0.0231 - accuracy: 0.9931 - precision: 0.9970 - recall: 0.99 - ETA: 11s - loss: 0.0226 - accuracy: 0.9933 - precision: 0.9969 - recall: 0.99 - ETA: 10s - loss: 0.0222 - accuracy: 0.9934 - precision: 0.9969 - recall: 0.99 - ETA: 9s - loss: 0.0218 - accuracy: 0.9935 - precision: 0.9968 - recall: 0.9987 - ETA: 9s - loss: 0.0219 - accuracy: 0.9934 - precision: 0.9968 - recall: 0.998 - ETA: 8s - loss: 0.0216 - accuracy: 0.9935 - precision: 0.9967 - recall: 0.998 - ETA: 8s - loss: 0.0212 - accuracy: 0.9936 - precision: 0.9967 - recall: 0.998 - ETA: 7s - loss: 0.0220 - accuracy: 0.9934 - precision: 0.9966 - recall: 0.998 - ETA: 7s - loss: 0.0218 - accuracy: 0.9936 - precision: 0.9966 - recall: 0.998 - ETA: 6s - loss: 0.0214 - accuracy: 0.9937 - precision: 0.9965 - recall: 0.998 - ETA: 6s - loss: 0.0212 - accuracy: 0.9938 - precision: 0.9965 - recall: 0.998 - ETA: 5s - loss: 0.0211 - accuracy: 0.9939 - precision: 0.9965 - recall: 0.998 - ETA: 5s - loss: 0.0207 - accuracy: 0.9940 - precision: 0.9964 - recall: 0.998 - ETA: 4s - loss: 0.0204 - accuracy: 0.9941 - precision: 0.9964 - recall: 0.998 - ETA: 4s - loss: 0.0203 - accuracy: 0.9940 - precision: 0.9964 - recall: 0.998 - ETA: 3s - loss: 0.0204 - accuracy: 0.9938 - precision: 0.9964 - recall: 0.998 - ETA: 3s - loss: 0.0201 - accuracy: 0.9939 - precision: 0.9963 - recall: 0.998 - ETA: 2s - loss: 0.0199 - accuracy: 0.9940 - precision: 0.9963 - recall: 0.998 - ETA: 2s - loss: 0.0196 - accuracy: 0.9941 - precision: 0.9963 - recall: 0.998 - ETA: 1s - loss: 0.0194 - accuracy: 0.9942 - precision: 0.9963 - recall: 0.998 - ETA: 1s - loss: 0.0205 - accuracy: 0.9938 - precision: 0.9962 - recall: 0.998 - ETA: 0s - loss: 0.0208 - accuracy: 0.9937 - precision: 0.9962 - recall: 0.998 - ETA: 0s - loss: 0.0209 - accuracy: 0.9935 - precision: 0.9962 - recall: 0.998 - 34s 8ms/step - loss: 0.0208 - accuracy: 0.9935 - precision: 0.9961 - recall: 0.9986 - val_loss: 0.1483 - val_accuracy: 0.9613 - val_precision: 0.9924 - val_recall: 0.9653\n",
      "\n",
      "Epoch 00011: val_loss did not improve from 0.05901\n",
      "Epoch 12/20\n"
     ]
    },
    {
     "name": "stdout",
     "output_type": "stream",
     "text": [
      "4180/4180 [==============================] - ETA: 1:06 - loss: 0.0367 - accuracy: 0.9844 - precision: 1.0000 - recall: 0.981 - ETA: 1:03 - loss: 0.0217 - accuracy: 0.9922 - precision: 1.0000 - recall: 0.985 - ETA: 1:02 - loss: 0.0152 - accuracy: 0.9948 - precision: 1.0000 - recall: 0.988 - ETA: 1:01 - loss: 0.0142 - accuracy: 0.9961 - precision: 1.0000 - recall: 0.990 - ETA: 1:00 - loss: 0.0119 - accuracy: 0.9969 - precision: 1.0000 - recall: 0.991 - ETA: 56s - loss: 0.0103 - accuracy: 0.9974 - precision: 1.0000 - recall: 0.992 - ETA: 51s - loss: 0.0098 - accuracy: 0.9978 - precision: 1.0000 - recall: 0.99 - ETA: 48s - loss: 0.0089 - accuracy: 0.9980 - precision: 1.0000 - recall: 0.99 - ETA: 45s - loss: 0.0094 - accuracy: 0.9983 - precision: 1.0000 - recall: 0.99 - ETA: 42s - loss: 0.0087 - accuracy: 0.9984 - precision: 1.0000 - recall: 0.99 - ETA: 40s - loss: 0.0113 - accuracy: 0.9972 - precision: 0.9999 - recall: 0.99 - ETA: 38s - loss: 0.0121 - accuracy: 0.9961 - precision: 0.9996 - recall: 0.99 - ETA: 36s - loss: 0.0122 - accuracy: 0.9964 - precision: 0.9994 - recall: 0.99 - ETA: 35s - loss: 0.0115 - accuracy: 0.9967 - precision: 0.9993 - recall: 0.99 - ETA: 34s - loss: 0.0117 - accuracy: 0.9969 - precision: 0.9992 - recall: 0.99 - ETA: 32s - loss: 0.0115 - accuracy: 0.9971 - precision: 0.9991 - recall: 0.99 - ETA: 31s - loss: 0.0111 - accuracy: 0.9972 - precision: 0.9990 - recall: 0.99 - ETA: 30s - loss: 0.0131 - accuracy: 0.9965 - precision: 0.9989 - recall: 0.99 - ETA: 29s - loss: 0.0132 - accuracy: 0.9967 - precision: 0.9988 - recall: 0.99 - ETA: 28s - loss: 0.0130 - accuracy: 0.9969 - precision: 0.9987 - recall: 0.99 - ETA: 27s - loss: 0.0144 - accuracy: 0.9955 - precision: 0.9986 - recall: 0.99 - ETA: 26s - loss: 0.0139 - accuracy: 0.9957 - precision: 0.9985 - recall: 0.99 - ETA: 25s - loss: 0.0142 - accuracy: 0.9952 - precision: 0.9984 - recall: 0.99 - ETA: 24s - loss: 0.0137 - accuracy: 0.9954 - precision: 0.9983 - recall: 0.99 - ETA: 24s - loss: 0.0143 - accuracy: 0.9950 - precision: 0.9982 - recall: 0.99 - ETA: 23s - loss: 0.0139 - accuracy: 0.9952 - precision: 0.9982 - recall: 0.99 - ETA: 22s - loss: 0.0140 - accuracy: 0.9954 - precision: 0.9981 - recall: 0.99 - ETA: 21s - loss: 0.0152 - accuracy: 0.9950 - precision: 0.9980 - recall: 0.99 - ETA: 21s - loss: 0.0150 - accuracy: 0.9952 - precision: 0.9979 - recall: 0.99 - ETA: 20s - loss: 0.0158 - accuracy: 0.9943 - precision: 0.9978 - recall: 0.99 - ETA: 19s - loss: 0.0161 - accuracy: 0.9940 - precision: 0.9978 - recall: 0.99 - ETA: 19s - loss: 0.0161 - accuracy: 0.9941 - precision: 0.9977 - recall: 0.99 - ETA: 18s - loss: 0.0157 - accuracy: 0.9943 - precision: 0.9976 - recall: 0.99 - ETA: 17s - loss: 0.0155 - accuracy: 0.9945 - precision: 0.9976 - recall: 0.99 - ETA: 17s - loss: 0.0151 - accuracy: 0.9946 - precision: 0.9975 - recall: 0.99 - ETA: 16s - loss: 0.0158 - accuracy: 0.9944 - precision: 0.9975 - recall: 0.99 - ETA: 15s - loss: 0.0155 - accuracy: 0.9945 - precision: 0.9974 - recall: 0.99 - ETA: 15s - loss: 0.0202 - accuracy: 0.9938 - precision: 0.9974 - recall: 0.99 - ETA: 14s - loss: 0.0198 - accuracy: 0.9940 - precision: 0.9973 - recall: 0.99 - ETA: 14s - loss: 0.0195 - accuracy: 0.9941 - precision: 0.9973 - recall: 0.99 - ETA: 13s - loss: 0.0202 - accuracy: 0.9939 - precision: 0.9972 - recall: 0.99 - ETA: 12s - loss: 0.0199 - accuracy: 0.9940 - precision: 0.9972 - recall: 0.99 - ETA: 12s - loss: 0.0198 - accuracy: 0.9942 - precision: 0.9971 - recall: 0.99 - ETA: 11s - loss: 0.0195 - accuracy: 0.9943 - precision: 0.9971 - recall: 0.99 - ETA: 11s - loss: 0.0194 - accuracy: 0.9944 - precision: 0.9971 - recall: 0.99 - ETA: 10s - loss: 0.0191 - accuracy: 0.9946 - precision: 0.9970 - recall: 0.99 - ETA: 10s - loss: 0.0188 - accuracy: 0.9947 - precision: 0.9970 - recall: 0.99 - ETA: 9s - loss: 0.0185 - accuracy: 0.9948 - precision: 0.9970 - recall: 0.9975 - ETA: 9s - loss: 0.0183 - accuracy: 0.9949 - precision: 0.9970 - recall: 0.997 - ETA: 8s - loss: 0.0183 - accuracy: 0.9947 - precision: 0.9969 - recall: 0.997 - ETA: 7s - loss: 0.0180 - accuracy: 0.9948 - precision: 0.9969 - recall: 0.997 - ETA: 7s - loss: 0.0176 - accuracy: 0.9949 - precision: 0.9969 - recall: 0.997 - ETA: 6s - loss: 0.0185 - accuracy: 0.9947 - precision: 0.9969 - recall: 0.997 - ETA: 6s - loss: 0.0183 - accuracy: 0.9948 - precision: 0.9969 - recall: 0.997 - ETA: 5s - loss: 0.0189 - accuracy: 0.9946 - precision: 0.9968 - recall: 0.997 - ETA: 5s - loss: 0.0186 - accuracy: 0.9947 - precision: 0.9968 - recall: 0.997 - ETA: 4s - loss: 0.0186 - accuracy: 0.9948 - precision: 0.9968 - recall: 0.997 - ETA: 3s - loss: 0.0184 - accuracy: 0.9949 - precision: 0.9968 - recall: 0.997 - ETA: 3s - loss: 0.0189 - accuracy: 0.9944 - precision: 0.9967 - recall: 0.997 - ETA: 2s - loss: 0.0186 - accuracy: 0.9945 - precision: 0.9967 - recall: 0.997 - ETA: 2s - loss: 0.0190 - accuracy: 0.9944 - precision: 0.9967 - recall: 0.997 - ETA: 1s - loss: 0.0188 - accuracy: 0.9945 - precision: 0.9967 - recall: 0.997 - ETA: 1s - loss: 0.0186 - accuracy: 0.9945 - precision: 0.9967 - recall: 0.997 - ETA: 0s - loss: 0.0184 - accuracy: 0.9946 - precision: 0.9967 - recall: 0.997 - ETA: 0s - loss: 0.0182 - accuracy: 0.9947 - precision: 0.9967 - recall: 0.997 - 36s 9ms/step - loss: 0.0181 - accuracy: 0.9947 - precision: 0.9966 - recall: 0.9977 - val_loss: 0.0643 - val_accuracy: 0.9842 - val_precision: 0.9891 - val_recall: 0.9950\n",
      "\n",
      "Epoch 00012: val_loss did not improve from 0.05901\n",
      "Epoch 13/20\n"
     ]
    },
    {
     "name": "stdout",
     "output_type": "stream",
     "text": [
      "4180/4180 [==============================] - ETA: 1:03 - loss: 0.0025 - accuracy: 1.0000 - precision: 1.0000 - recall: 1.000 - ETA: 46s - loss: 0.0024 - accuracy: 1.0000 - precision: 1.0000 - recall: 1.000 - ETA: 45s - loss: 0.0025 - accuracy: 1.0000 - precision: 1.0000 - recall: 1.00 - ETA: 41s - loss: 0.0023 - accuracy: 1.0000 - precision: 1.0000 - recall: 1.00 - ETA: 37s - loss: 0.0026 - accuracy: 1.0000 - precision: 1.0000 - recall: 1.00 - ETA: 35s - loss: 0.0023 - accuracy: 1.0000 - precision: 1.0000 - recall: 1.00 - ETA: 34s - loss: 0.0024 - accuracy: 1.0000 - precision: 1.0000 - recall: 1.00 - ETA: 33s - loss: 0.0088 - accuracy: 0.9980 - precision: 0.9997 - recall: 1.00 - ETA: 32s - loss: 0.0120 - accuracy: 0.9965 - precision: 0.9995 - recall: 0.99 - ETA: 31s - loss: 0.0119 - accuracy: 0.9969 - precision: 0.9994 - recall: 0.99 - ETA: 31s - loss: 0.0109 - accuracy: 0.9972 - precision: 0.9993 - recall: 0.99 - ETA: 31s - loss: 0.0104 - accuracy: 0.9974 - precision: 0.9992 - recall: 0.99 - ETA: 30s - loss: 0.0098 - accuracy: 0.9976 - precision: 0.9992 - recall: 0.99 - ETA: 29s - loss: 0.0092 - accuracy: 0.9978 - precision: 0.9992 - recall: 0.99 - ETA: 28s - loss: 0.0087 - accuracy: 0.9979 - precision: 0.9991 - recall: 0.99 - ETA: 27s - loss: 0.0082 - accuracy: 0.9980 - precision: 0.9991 - recall: 0.99 - ETA: 26s - loss: 0.0109 - accuracy: 0.9972 - precision: 0.9991 - recall: 0.99 - ETA: 26s - loss: 0.0106 - accuracy: 0.9974 - precision: 0.9990 - recall: 0.99 - ETA: 25s - loss: 0.0102 - accuracy: 0.9975 - precision: 0.9989 - recall: 0.99 - ETA: 24s - loss: 0.0110 - accuracy: 0.9969 - precision: 0.9989 - recall: 0.99 - ETA: 24s - loss: 0.0109 - accuracy: 0.9970 - precision: 0.9988 - recall: 0.99 - ETA: 23s - loss: 0.0105 - accuracy: 0.9972 - precision: 0.9987 - recall: 0.99 - ETA: 23s - loss: 0.0104 - accuracy: 0.9973 - precision: 0.9987 - recall: 0.99 - ETA: 22s - loss: 0.0100 - accuracy: 0.9974 - precision: 0.9987 - recall: 0.99 - ETA: 21s - loss: 0.0096 - accuracy: 0.9975 - precision: 0.9986 - recall: 0.99 - ETA: 21s - loss: 0.0093 - accuracy: 0.9976 - precision: 0.9986 - recall: 0.99 - ETA: 20s - loss: 0.0092 - accuracy: 0.9977 - precision: 0.9986 - recall: 0.99 - ETA: 20s - loss: 0.0102 - accuracy: 0.9972 - precision: 0.9986 - recall: 0.99 - ETA: 19s - loss: 0.0113 - accuracy: 0.9962 - precision: 0.9985 - recall: 0.99 - ETA: 18s - loss: 0.0130 - accuracy: 0.9953 - precision: 0.9984 - recall: 0.99 - ETA: 18s - loss: 0.0129 - accuracy: 0.9955 - precision: 0.9984 - recall: 0.99 - ETA: 17s - loss: 0.0128 - accuracy: 0.9956 - precision: 0.9983 - recall: 0.99 - ETA: 17s - loss: 0.0125 - accuracy: 0.9957 - precision: 0.9983 - recall: 0.99 - ETA: 16s - loss: 0.0122 - accuracy: 0.9959 - precision: 0.9982 - recall: 0.99 - ETA: 15s - loss: 0.0123 - accuracy: 0.9960 - precision: 0.9982 - recall: 0.99 - ETA: 15s - loss: 0.0120 - accuracy: 0.9961 - precision: 0.9982 - recall: 0.99 - ETA: 14s - loss: 0.0117 - accuracy: 0.9962 - precision: 0.9981 - recall: 0.99 - ETA: 14s - loss: 0.0123 - accuracy: 0.9959 - precision: 0.9981 - recall: 0.99 - ETA: 13s - loss: 0.0121 - accuracy: 0.9960 - precision: 0.9981 - recall: 0.99 - ETA: 13s - loss: 0.0119 - accuracy: 0.9961 - precision: 0.9980 - recall: 0.99 - ETA: 12s - loss: 0.0117 - accuracy: 0.9962 - precision: 0.9980 - recall: 0.99 - ETA: 12s - loss: 0.0114 - accuracy: 0.9963 - precision: 0.9980 - recall: 0.99 - ETA: 12s - loss: 0.0112 - accuracy: 0.9964 - precision: 0.9980 - recall: 0.99 - ETA: 11s - loss: 0.0110 - accuracy: 0.9964 - precision: 0.9979 - recall: 0.99 - ETA: 11s - loss: 0.0121 - accuracy: 0.9958 - precision: 0.9979 - recall: 0.99 - ETA: 11s - loss: 0.0123 - accuracy: 0.9956 - precision: 0.9979 - recall: 0.99 - ETA: 10s - loss: 0.0134 - accuracy: 0.9950 - precision: 0.9978 - recall: 0.99 - ETA: 9s - loss: 0.0134 - accuracy: 0.9951 - precision: 0.9978 - recall: 0.9989 - ETA: 9s - loss: 0.0132 - accuracy: 0.9952 - precision: 0.9977 - recall: 0.998 - ETA: 8s - loss: 0.0130 - accuracy: 0.9953 - precision: 0.9977 - recall: 0.998 - ETA: 8s - loss: 0.0137 - accuracy: 0.9951 - precision: 0.9977 - recall: 0.998 - ETA: 7s - loss: 0.0148 - accuracy: 0.9943 - precision: 0.9976 - recall: 0.998 - ETA: 7s - loss: 0.0146 - accuracy: 0.9944 - precision: 0.9976 - recall: 0.998 - ETA: 6s - loss: 0.0155 - accuracy: 0.9942 - precision: 0.9976 - recall: 0.998 - ETA: 5s - loss: 0.0153 - accuracy: 0.9943 - precision: 0.9975 - recall: 0.998 - ETA: 5s - loss: 0.0151 - accuracy: 0.9944 - precision: 0.9975 - recall: 0.998 - ETA: 4s - loss: 0.0163 - accuracy: 0.9942 - precision: 0.9974 - recall: 0.998 - ETA: 4s - loss: 0.0166 - accuracy: 0.9943 - precision: 0.9974 - recall: 0.998 - ETA: 3s - loss: 0.0165 - accuracy: 0.9944 - precision: 0.9974 - recall: 0.998 - ETA: 3s - loss: 0.0162 - accuracy: 0.9945 - precision: 0.9973 - recall: 0.998 - ETA: 2s - loss: 0.0160 - accuracy: 0.9946 - precision: 0.9973 - recall: 0.998 - ETA: 1s - loss: 0.0158 - accuracy: 0.9947 - precision: 0.9973 - recall: 0.998 - ETA: 1s - loss: 0.0166 - accuracy: 0.9945 - precision: 0.9973 - recall: 0.998 - ETA: 0s - loss: 0.0163 - accuracy: 0.9946 - precision: 0.9972 - recall: 0.998 - ETA: 0s - loss: 0.0161 - accuracy: 0.9947 - precision: 0.9972 - recall: 0.998 - 38s 9ms/step - loss: 0.0160 - accuracy: 0.9947 - precision: 0.9972 - recall: 0.9987 - val_loss: 0.0631 - val_accuracy: 0.9857 - val_precision: 0.9900 - val_recall: 0.9960\n",
      "\n",
      "Epoch 00013: val_loss did not improve from 0.05901\n",
      "Epoch 14/20\n"
     ]
    },
    {
     "name": "stdout",
     "output_type": "stream",
     "text": [
      "4180/4180 [==============================] - ETA: 36s - loss: 0.0022 - accuracy: 1.0000 - precision: 1.0000 - recall: 1.00 - ETA: 34s - loss: 0.0143 - accuracy: 0.9922 - precision: 0.9956 - recall: 1.00 - ETA: 33s - loss: 0.0118 - accuracy: 0.9948 - precision: 0.9951 - recall: 1.00 - ETA: 33s - loss: 0.0094 - accuracy: 0.9961 - precision: 0.9952 - recall: 1.00 - ETA: 33s - loss: 0.0092 - accuracy: 0.9969 - precision: 0.9955 - recall: 1.00 - ETA: 32s - loss: 0.0082 - accuracy: 0.9974 - precision: 0.9957 - recall: 1.00 - ETA: 31s - loss: 0.0076 - accuracy: 0.9978 - precision: 0.9960 - recall: 1.00 - ETA: 30s - loss: 0.0089 - accuracy: 0.9980 - precision: 0.9962 - recall: 1.00 - ETA: 29s - loss: 0.0080 - accuracy: 0.9983 - precision: 0.9964 - recall: 1.00 - ETA: 28s - loss: 0.0073 - accuracy: 0.9984 - precision: 0.9966 - recall: 1.00 - ETA: 27s - loss: 0.0072 - accuracy: 0.9986 - precision: 0.9967 - recall: 1.00 - ETA: 27s - loss: 0.0067 - accuracy: 0.9987 - precision: 0.9969 - recall: 1.00 - ETA: 26s - loss: 0.0065 - accuracy: 0.9988 - precision: 0.9970 - recall: 1.00 - ETA: 26s - loss: 0.0062 - accuracy: 0.9989 - precision: 0.9971 - recall: 1.00 - ETA: 25s - loss: 0.0062 - accuracy: 0.9990 - precision: 0.9973 - recall: 1.00 - ETA: 25s - loss: 0.0058 - accuracy: 0.9990 - precision: 0.9974 - recall: 1.00 - ETA: 24s - loss: 0.0057 - accuracy: 0.9991 - precision: 0.9974 - recall: 1.00 - ETA: 24s - loss: 0.0060 - accuracy: 0.9991 - precision: 0.9975 - recall: 1.00 - ETA: 24s - loss: 0.0061 - accuracy: 0.9992 - precision: 0.9976 - recall: 1.00 - ETA: 23s - loss: 0.0060 - accuracy: 0.9992 - precision: 0.9977 - recall: 1.00 - ETA: 23s - loss: 0.0059 - accuracy: 0.9993 - precision: 0.9978 - recall: 1.00 - ETA: 23s - loss: 0.0059 - accuracy: 0.9993 - precision: 0.9978 - recall: 1.00 - ETA: 22s - loss: 0.0058 - accuracy: 0.9993 - precision: 0.9979 - recall: 1.00 - ETA: 22s - loss: 0.0089 - accuracy: 0.9987 - precision: 0.9979 - recall: 1.00 - ETA: 21s - loss: 0.0091 - accuracy: 0.9987 - precision: 0.9979 - recall: 1.00 - ETA: 21s - loss: 0.0100 - accuracy: 0.9982 - precision: 0.9980 - recall: 1.00 - ETA: 20s - loss: 0.0097 - accuracy: 0.9983 - precision: 0.9980 - recall: 0.99 - ETA: 19s - loss: 0.0119 - accuracy: 0.9978 - precision: 0.9980 - recall: 0.99 - ETA: 19s - loss: 0.0117 - accuracy: 0.9978 - precision: 0.9980 - recall: 0.99 - ETA: 18s - loss: 0.0114 - accuracy: 0.9979 - precision: 0.9980 - recall: 0.99 - ETA: 18s - loss: 0.0112 - accuracy: 0.9980 - precision: 0.9980 - recall: 0.99 - ETA: 17s - loss: 0.0110 - accuracy: 0.9980 - precision: 0.9980 - recall: 0.99 - ETA: 17s - loss: 0.0110 - accuracy: 0.9981 - precision: 0.9980 - recall: 0.99 - ETA: 16s - loss: 0.0109 - accuracy: 0.9982 - precision: 0.9980 - recall: 0.99 - ETA: 15s - loss: 0.0106 - accuracy: 0.9982 - precision: 0.9981 - recall: 0.99 - ETA: 15s - loss: 0.0104 - accuracy: 0.9983 - precision: 0.9981 - recall: 0.99 - ETA: 14s - loss: 0.0102 - accuracy: 0.9983 - precision: 0.9981 - recall: 0.99 - ETA: 14s - loss: 0.0099 - accuracy: 0.9984 - precision: 0.9981 - recall: 0.99 - ETA: 13s - loss: 0.0110 - accuracy: 0.9976 - precision: 0.9981 - recall: 0.99 - ETA: 13s - loss: 0.0118 - accuracy: 0.9973 - precision: 0.9981 - recall: 0.99 - ETA: 12s - loss: 0.0118 - accuracy: 0.9973 - precision: 0.9981 - recall: 0.99 - ETA: 12s - loss: 0.0115 - accuracy: 0.9974 - precision: 0.9981 - recall: 0.99 - ETA: 11s - loss: 0.0115 - accuracy: 0.9975 - precision: 0.9981 - recall: 0.99 - ETA: 11s - loss: 0.0113 - accuracy: 0.9975 - precision: 0.9981 - recall: 0.99 - ETA: 10s - loss: 0.0113 - accuracy: 0.9976 - precision: 0.9981 - recall: 0.99 - ETA: 10s - loss: 0.0111 - accuracy: 0.9976 - precision: 0.9981 - recall: 0.99 - ETA: 9s - loss: 0.0109 - accuracy: 0.9977 - precision: 0.9981 - recall: 0.9997 - ETA: 9s - loss: 0.0108 - accuracy: 0.9977 - precision: 0.9981 - recall: 0.999 - ETA: 8s - loss: 0.0106 - accuracy: 0.9978 - precision: 0.9981 - recall: 0.999 - ETA: 7s - loss: 0.0117 - accuracy: 0.9975 - precision: 0.9981 - recall: 0.999 - ETA: 7s - loss: 0.0118 - accuracy: 0.9975 - precision: 0.9981 - recall: 0.999 - ETA: 6s - loss: 0.0116 - accuracy: 0.9976 - precision: 0.9981 - recall: 0.999 - ETA: 6s - loss: 0.0114 - accuracy: 0.9976 - precision: 0.9981 - recall: 0.999 - ETA: 5s - loss: 0.0113 - accuracy: 0.9977 - precision: 0.9981 - recall: 0.999 - ETA: 5s - loss: 0.0114 - accuracy: 0.9974 - precision: 0.9980 - recall: 0.999 - ETA: 4s - loss: 0.0113 - accuracy: 0.9975 - precision: 0.9980 - recall: 0.999 - ETA: 4s - loss: 0.0112 - accuracy: 0.9975 - precision: 0.9980 - recall: 0.999 - ETA: 3s - loss: 0.0110 - accuracy: 0.9976 - precision: 0.9980 - recall: 0.999 - ETA: 3s - loss: 0.0108 - accuracy: 0.9976 - precision: 0.9980 - recall: 0.999 - ETA: 2s - loss: 0.0107 - accuracy: 0.9977 - precision: 0.9980 - recall: 0.999 - ETA: 2s - loss: 0.0106 - accuracy: 0.9977 - precision: 0.9980 - recall: 0.999 - ETA: 1s - loss: 0.0106 - accuracy: 0.9977 - precision: 0.9980 - recall: 0.999 - ETA: 1s - loss: 0.0109 - accuracy: 0.9975 - precision: 0.9980 - recall: 0.999 - ETA: 0s - loss: 0.0108 - accuracy: 0.9976 - precision: 0.9980 - recall: 0.999 - ETA: 0s - loss: 0.0110 - accuracy: 0.9974 - precision: 0.9980 - recall: 0.999 - 34s 8ms/step - loss: 0.0110 - accuracy: 0.9974 - precision: 0.9980 - recall: 0.9996 - val_loss: 0.0786 - val_accuracy: 0.9806 - val_precision: 0.9868 - val_recall: 0.9914\n",
      "\n",
      "Epoch 00014: val_loss did not improve from 0.05901\n",
      "Epoch 15/20\n"
     ]
    },
    {
     "name": "stdout",
     "output_type": "stream",
     "text": [
      "4180/4180 [==============================] - ETA: 54s - loss: 0.0020 - accuracy: 1.0000 - precision: 1.0000 - recall: 1.00 - ETA: 47s - loss: 0.0029 - accuracy: 1.0000 - precision: 1.0000 - recall: 1.00 - ETA: 45s - loss: 0.0039 - accuracy: 1.0000 - precision: 1.0000 - recall: 1.00 - ETA: 42s - loss: 0.0034 - accuracy: 1.0000 - precision: 1.0000 - recall: 1.00 - ETA: 41s - loss: 0.0036 - accuracy: 1.0000 - precision: 1.0000 - recall: 1.00 - ETA: 39s - loss: 0.0032 - accuracy: 1.0000 - precision: 1.0000 - recall: 1.00 - ETA: 37s - loss: 0.0029 - accuracy: 1.0000 - precision: 1.0000 - recall: 1.00 - ETA: 36s - loss: 0.0027 - accuracy: 1.0000 - precision: 1.0000 - recall: 1.00 - ETA: 36s - loss: 0.0027 - accuracy: 1.0000 - precision: 1.0000 - recall: 1.00 - ETA: 35s - loss: 0.0026 - accuracy: 1.0000 - precision: 1.0000 - recall: 1.00 - ETA: 34s - loss: 0.0025 - accuracy: 1.0000 - precision: 1.0000 - recall: 1.00 - ETA: 33s - loss: 0.0025 - accuracy: 1.0000 - precision: 1.0000 - recall: 1.00 - ETA: 31s - loss: 0.0052 - accuracy: 0.9988 - precision: 0.9999 - recall: 1.00 - ETA: 31s - loss: 0.0062 - accuracy: 0.9989 - precision: 0.9998 - recall: 1.00 - ETA: 30s - loss: 0.0059 - accuracy: 0.9990 - precision: 0.9997 - recall: 1.00 - ETA: 30s - loss: 0.0081 - accuracy: 0.9980 - precision: 0.9996 - recall: 1.00 - ETA: 29s - loss: 0.0083 - accuracy: 0.9982 - precision: 0.9995 - recall: 1.00 - ETA: 28s - loss: 0.0081 - accuracy: 0.9983 - precision: 0.9994 - recall: 1.00 - ETA: 28s - loss: 0.0079 - accuracy: 0.9984 - precision: 0.9994 - recall: 1.00 - ETA: 27s - loss: 0.0076 - accuracy: 0.9984 - precision: 0.9993 - recall: 1.00 - ETA: 27s - loss: 0.0075 - accuracy: 0.9985 - precision: 0.9993 - recall: 1.00 - ETA: 26s - loss: 0.0074 - accuracy: 0.9986 - precision: 0.9992 - recall: 1.00 - ETA: 25s - loss: 0.0074 - accuracy: 0.9986 - precision: 0.9992 - recall: 1.00 - ETA: 25s - loss: 0.0071 - accuracy: 0.9987 - precision: 0.9992 - recall: 1.00 - ETA: 24s - loss: 0.0069 - accuracy: 0.9987 - precision: 0.9991 - recall: 1.00 - ETA: 24s - loss: 0.0070 - accuracy: 0.9988 - precision: 0.9991 - recall: 1.00 - ETA: 23s - loss: 0.0069 - accuracy: 0.9988 - precision: 0.9991 - recall: 1.00 - ETA: 22s - loss: 0.0067 - accuracy: 0.9989 - precision: 0.9991 - recall: 1.00 - ETA: 22s - loss: 0.0065 - accuracy: 0.9989 - precision: 0.9991 - recall: 1.00 - ETA: 21s - loss: 0.0065 - accuracy: 0.9990 - precision: 0.9991 - recall: 1.00 - ETA: 21s - loss: 0.0064 - accuracy: 0.9990 - precision: 0.9991 - recall: 1.00 - ETA: 20s - loss: 0.0063 - accuracy: 0.9990 - precision: 0.9991 - recall: 1.00 - ETA: 20s - loss: 0.0061 - accuracy: 0.9991 - precision: 0.9990 - recall: 1.00 - ETA: 19s - loss: 0.0059 - accuracy: 0.9991 - precision: 0.9990 - recall: 1.00 - ETA: 18s - loss: 0.0062 - accuracy: 0.9991 - precision: 0.9990 - recall: 1.00 - ETA: 18s - loss: 0.0071 - accuracy: 0.9987 - precision: 0.9990 - recall: 1.00 - ETA: 17s - loss: 0.0069 - accuracy: 0.9987 - precision: 0.9990 - recall: 1.00 - ETA: 17s - loss: 0.0079 - accuracy: 0.9984 - precision: 0.9990 - recall: 1.00 - ETA: 16s - loss: 0.0077 - accuracy: 0.9984 - precision: 0.9990 - recall: 1.00 - ETA: 15s - loss: 0.0075 - accuracy: 0.9984 - precision: 0.9990 - recall: 0.99 - ETA: 15s - loss: 0.0080 - accuracy: 0.9981 - precision: 0.9990 - recall: 0.99 - ETA: 14s - loss: 0.0083 - accuracy: 0.9978 - precision: 0.9990 - recall: 0.99 - ETA: 13s - loss: 0.0083 - accuracy: 0.9978 - precision: 0.9989 - recall: 0.99 - ETA: 13s - loss: 0.0082 - accuracy: 0.9979 - precision: 0.9989 - recall: 0.99 - ETA: 12s - loss: 0.0092 - accuracy: 0.9976 - precision: 0.9989 - recall: 0.99 - ETA: 12s - loss: 0.0091 - accuracy: 0.9976 - precision: 0.9989 - recall: 0.99 - ETA: 11s - loss: 0.0090 - accuracy: 0.9977 - precision: 0.9988 - recall: 0.99 - ETA: 10s - loss: 0.0088 - accuracy: 0.9977 - precision: 0.9988 - recall: 0.99 - ETA: 10s - loss: 0.0088 - accuracy: 0.9978 - precision: 0.9988 - recall: 0.99 - ETA: 9s - loss: 0.0087 - accuracy: 0.9978 - precision: 0.9988 - recall: 0.9999 - ETA: 8s - loss: 0.0087 - accuracy: 0.9979 - precision: 0.9988 - recall: 0.999 - ETA: 8s - loss: 0.0085 - accuracy: 0.9979 - precision: 0.9987 - recall: 0.999 - ETA: 7s - loss: 0.0085 - accuracy: 0.9979 - precision: 0.9987 - recall: 0.999 - ETA: 7s - loss: 0.0083 - accuracy: 0.9980 - precision: 0.9987 - recall: 0.999 - ETA: 6s - loss: 0.0087 - accuracy: 0.9977 - precision: 0.9987 - recall: 0.999 - ETA: 5s - loss: 0.0105 - accuracy: 0.9967 - precision: 0.9987 - recall: 0.999 - ETA: 5s - loss: 0.0105 - accuracy: 0.9964 - precision: 0.9986 - recall: 0.999 - ETA: 4s - loss: 0.0104 - accuracy: 0.9965 - precision: 0.9986 - recall: 0.999 - ETA: 3s - loss: 0.0107 - accuracy: 0.9963 - precision: 0.9986 - recall: 0.999 - ETA: 3s - loss: 0.0105 - accuracy: 0.9964 - precision: 0.9985 - recall: 0.999 - ETA: 2s - loss: 0.0106 - accuracy: 0.9964 - precision: 0.9985 - recall: 0.999 - ETA: 2s - loss: 0.0105 - accuracy: 0.9965 - precision: 0.9985 - recall: 0.999 - ETA: 1s - loss: 0.0106 - accuracy: 0.9965 - precision: 0.9985 - recall: 0.999 - ETA: 0s - loss: 0.0111 - accuracy: 0.9963 - precision: 0.9984 - recall: 0.999 - ETA: 0s - loss: 0.0111 - accuracy: 0.9964 - precision: 0.9984 - recall: 0.999 - 41s 10ms/step - loss: 0.0110 - accuracy: 0.9964 - precision: 0.9984 - recall: 0.9997 - val_loss: 0.0671 - val_accuracy: 0.9828 - val_precision: 0.9869 - val_recall: 0.9953\n",
      "\n",
      "Epoch 00015: val_loss did not improve from 0.05901\n",
      "Epoch 16/20\n"
     ]
    },
    {
     "name": "stdout",
     "output_type": "stream",
     "text": [
      "4180/4180 [==============================] - ETA: 37s - loss: 0.0033 - accuracy: 1.0000 - precision: 1.0000 - recall: 1.00 - ETA: 32s - loss: 0.0251 - accuracy: 0.9922 - precision: 0.9952 - recall: 1.00 - ETA: 31s - loss: 0.0198 - accuracy: 0.9948 - precision: 0.9947 - recall: 1.00 - ETA: 31s - loss: 0.0169 - accuracy: 0.9961 - precision: 0.9949 - recall: 1.00 - ETA: 31s - loss: 0.0197 - accuracy: 0.9937 - precision: 0.9944 - recall: 1.00 - ETA: 31s - loss: 0.0172 - accuracy: 0.9948 - precision: 0.9943 - recall: 1.00 - ETA: 30s - loss: 0.0178 - accuracy: 0.9955 - precision: 0.9944 - recall: 1.00 - ETA: 29s - loss: 0.0163 - accuracy: 0.9961 - precision: 0.9945 - recall: 1.00 - ETA: 28s - loss: 0.0151 - accuracy: 0.9965 - precision: 0.9946 - recall: 1.00 - ETA: 27s - loss: 0.0156 - accuracy: 0.9953 - precision: 0.9946 - recall: 1.00 - ETA: 27s - loss: 0.0170 - accuracy: 0.9929 - precision: 0.9947 - recall: 0.99 - ETA: 26s - loss: 0.0163 - accuracy: 0.9935 - precision: 0.9947 - recall: 0.99 - ETA: 26s - loss: 0.0152 - accuracy: 0.9940 - precision: 0.9948 - recall: 0.99 - ETA: 25s - loss: 0.0154 - accuracy: 0.9933 - precision: 0.9948 - recall: 0.99 - ETA: 24s - loss: 0.0144 - accuracy: 0.9937 - precision: 0.9948 - recall: 0.99 - ETA: 24s - loss: 0.0167 - accuracy: 0.9932 - precision: 0.9948 - recall: 0.99 - ETA: 23s - loss: 0.0162 - accuracy: 0.9936 - precision: 0.9948 - recall: 0.99 - ETA: 23s - loss: 0.0154 - accuracy: 0.9939 - precision: 0.9948 - recall: 0.99 - ETA: 22s - loss: 0.0155 - accuracy: 0.9942 - precision: 0.9948 - recall: 0.99 - ETA: 22s - loss: 0.0149 - accuracy: 0.9945 - precision: 0.9949 - recall: 0.99 - ETA: 21s - loss: 0.0158 - accuracy: 0.9940 - precision: 0.9949 - recall: 0.99 - ETA: 20s - loss: 0.0162 - accuracy: 0.9936 - precision: 0.9949 - recall: 0.99 - ETA: 20s - loss: 0.0156 - accuracy: 0.9939 - precision: 0.9949 - recall: 0.99 - ETA: 19s - loss: 0.0154 - accuracy: 0.9941 - precision: 0.9949 - recall: 0.99 - ETA: 19s - loss: 0.0149 - accuracy: 0.9944 - precision: 0.9950 - recall: 0.99 - ETA: 19s - loss: 0.0144 - accuracy: 0.9946 - precision: 0.9950 - recall: 0.99 - ETA: 19s - loss: 0.0139 - accuracy: 0.9948 - precision: 0.9950 - recall: 0.99 - ETA: 18s - loss: 0.0142 - accuracy: 0.9944 - precision: 0.9951 - recall: 0.99 - ETA: 18s - loss: 0.0138 - accuracy: 0.9946 - precision: 0.9951 - recall: 0.99 - ETA: 18s - loss: 0.0143 - accuracy: 0.9943 - precision: 0.9951 - recall: 0.99 - ETA: 17s - loss: 0.0140 - accuracy: 0.9945 - precision: 0.9952 - recall: 0.99 - ETA: 17s - loss: 0.0148 - accuracy: 0.9941 - precision: 0.9952 - recall: 0.99 - ETA: 16s - loss: 0.0145 - accuracy: 0.9943 - precision: 0.9952 - recall: 0.99 - ETA: 16s - loss: 0.0142 - accuracy: 0.9945 - precision: 0.9952 - recall: 0.99 - ETA: 16s - loss: 0.0138 - accuracy: 0.9946 - precision: 0.9952 - recall: 0.99 - ETA: 16s - loss: 0.0135 - accuracy: 0.9948 - precision: 0.9952 - recall: 0.99 - ETA: 16s - loss: 0.0132 - accuracy: 0.9949 - precision: 0.9953 - recall: 0.99 - ETA: 15s - loss: 0.0129 - accuracy: 0.9951 - precision: 0.9953 - recall: 0.99 - ETA: 14s - loss: 0.0126 - accuracy: 0.9952 - precision: 0.9953 - recall: 0.99 - ETA: 14s - loss: 0.0123 - accuracy: 0.9953 - precision: 0.9953 - recall: 0.99 - ETA: 13s - loss: 0.0121 - accuracy: 0.9954 - precision: 0.9954 - recall: 0.99 - ETA: 13s - loss: 0.0118 - accuracy: 0.9955 - precision: 0.9954 - recall: 0.99 - ETA: 12s - loss: 0.0115 - accuracy: 0.9956 - precision: 0.9954 - recall: 0.99 - ETA: 11s - loss: 0.0114 - accuracy: 0.9957 - precision: 0.9954 - recall: 0.99 - ETA: 11s - loss: 0.0111 - accuracy: 0.9958 - precision: 0.9955 - recall: 0.99 - ETA: 10s - loss: 0.0114 - accuracy: 0.9956 - precision: 0.9955 - recall: 0.99 - ETA: 10s - loss: 0.0114 - accuracy: 0.9957 - precision: 0.9955 - recall: 0.99 - ETA: 10s - loss: 0.0112 - accuracy: 0.9958 - precision: 0.9956 - recall: 0.99 - ETA: 9s - loss: 0.0110 - accuracy: 0.9959 - precision: 0.9956 - recall: 0.9983 - ETA: 8s - loss: 0.0115 - accuracy: 0.9956 - precision: 0.9956 - recall: 0.998 - ETA: 8s - loss: 0.0116 - accuracy: 0.9957 - precision: 0.9956 - recall: 0.998 - ETA: 7s - loss: 0.0114 - accuracy: 0.9958 - precision: 0.9957 - recall: 0.998 - ETA: 7s - loss: 0.0112 - accuracy: 0.9959 - precision: 0.9957 - recall: 0.998 - ETA: 6s - loss: 0.0110 - accuracy: 0.9959 - precision: 0.9957 - recall: 0.998 - ETA: 5s - loss: 0.0109 - accuracy: 0.9960 - precision: 0.9957 - recall: 0.998 - ETA: 5s - loss: 0.0110 - accuracy: 0.9958 - precision: 0.9958 - recall: 0.998 - ETA: 4s - loss: 0.0108 - accuracy: 0.9959 - precision: 0.9958 - recall: 0.998 - ETA: 4s - loss: 0.0107 - accuracy: 0.9960 - precision: 0.9958 - recall: 0.998 - ETA: 3s - loss: 0.0109 - accuracy: 0.9958 - precision: 0.9958 - recall: 0.998 - ETA: 3s - loss: 0.0109 - accuracy: 0.9958 - precision: 0.9958 - recall: 0.998 - ETA: 2s - loss: 0.0107 - accuracy: 0.9959 - precision: 0.9958 - recall: 0.998 - ETA: 1s - loss: 0.0106 - accuracy: 0.9960 - precision: 0.9959 - recall: 0.998 - ETA: 1s - loss: 0.0106 - accuracy: 0.9960 - precision: 0.9959 - recall: 0.998 - ETA: 0s - loss: 0.0105 - accuracy: 0.9961 - precision: 0.9959 - recall: 0.998 - ETA: 0s - loss: 0.0104 - accuracy: 0.9962 - precision: 0.9959 - recall: 0.998 - 38s 9ms/step - loss: 0.0104 - accuracy: 0.9962 - precision: 0.9959 - recall: 0.9983 - val_loss: 0.0787 - val_accuracy: 0.9835 - val_precision: 0.9868 - val_recall: 0.9959\n",
      "\n",
      "Epoch 00016: val_loss did not improve from 0.05901\n",
      "Epoch 17/20\n"
     ]
    },
    {
     "name": "stdout",
     "output_type": "stream",
     "text": [
      "4180/4180 [==============================] - ETA: 46s - loss: 0.0266 - accuracy: 0.9844 - precision: 0.9808 - recall: 1.00 - ETA: 36s - loss: 0.0176 - accuracy: 0.9922 - precision: 0.9856 - recall: 1.00 - ETA: 34s - loss: 0.0138 - accuracy: 0.9948 - precision: 0.9883 - recall: 1.00 - ETA: 35s - loss: 0.0107 - accuracy: 0.9961 - precision: 0.9900 - recall: 1.00 - ETA: 34s - loss: 0.0100 - accuracy: 0.9969 - precision: 0.9913 - recall: 1.00 - ETA: 33s - loss: 0.0094 - accuracy: 0.9974 - precision: 0.9922 - recall: 1.00 - ETA: 33s - loss: 0.0083 - accuracy: 0.9978 - precision: 0.9930 - recall: 1.00 - ETA: 33s - loss: 0.0082 - accuracy: 0.9980 - precision: 0.9936 - recall: 1.00 - ETA: 33s - loss: 0.0099 - accuracy: 0.9965 - precision: 0.9938 - recall: 1.00 - ETA: 31s - loss: 0.0090 - accuracy: 0.9969 - precision: 0.9941 - recall: 1.00 - ETA: 30s - loss: 0.0083 - accuracy: 0.9972 - precision: 0.9943 - recall: 1.00 - ETA: 29s - loss: 0.0076 - accuracy: 0.9974 - precision: 0.9946 - recall: 1.00 - ETA: 29s - loss: 0.0076 - accuracy: 0.9976 - precision: 0.9948 - recall: 1.00 - ETA: 28s - loss: 0.0102 - accuracy: 0.9967 - precision: 0.9949 - recall: 1.00 - ETA: 27s - loss: 0.0096 - accuracy: 0.9969 - precision: 0.9950 - recall: 1.00 - ETA: 27s - loss: 0.0093 - accuracy: 0.9971 - precision: 0.9951 - recall: 1.00 - ETA: 26s - loss: 0.0088 - accuracy: 0.9972 - precision: 0.9952 - recall: 1.00 - ETA: 25s - loss: 0.0085 - accuracy: 0.9974 - precision: 0.9953 - recall: 1.00 - ETA: 25s - loss: 0.0083 - accuracy: 0.9975 - precision: 0.9954 - recall: 1.00 - ETA: 24s - loss: 0.0089 - accuracy: 0.9969 - precision: 0.9954 - recall: 1.00 - ETA: 24s - loss: 0.0086 - accuracy: 0.9970 - precision: 0.9955 - recall: 1.00 - ETA: 24s - loss: 0.0083 - accuracy: 0.9972 - precision: 0.9955 - recall: 1.00 - ETA: 24s - loss: 0.0081 - accuracy: 0.9973 - precision: 0.9956 - recall: 1.00 - ETA: 23s - loss: 0.0080 - accuracy: 0.9974 - precision: 0.9957 - recall: 1.00 - ETA: 22s - loss: 0.0077 - accuracy: 0.9975 - precision: 0.9957 - recall: 1.00 - ETA: 22s - loss: 0.0075 - accuracy: 0.9976 - precision: 0.9958 - recall: 1.00 - ETA: 21s - loss: 0.0074 - accuracy: 0.9977 - precision: 0.9958 - recall: 1.00 - ETA: 20s - loss: 0.0096 - accuracy: 0.9972 - precision: 0.9959 - recall: 1.00 - ETA: 20s - loss: 0.0093 - accuracy: 0.9973 - precision: 0.9959 - recall: 1.00 - ETA: 19s - loss: 0.0096 - accuracy: 0.9969 - precision: 0.9959 - recall: 1.00 - ETA: 19s - loss: 0.0093 - accuracy: 0.9970 - precision: 0.9960 - recall: 1.00 - ETA: 18s - loss: 0.0090 - accuracy: 0.9971 - precision: 0.9960 - recall: 0.99 - ETA: 17s - loss: 0.0088 - accuracy: 0.9972 - precision: 0.9961 - recall: 0.99 - ETA: 17s - loss: 0.0086 - accuracy: 0.9972 - precision: 0.9961 - recall: 0.99 - ETA: 16s - loss: 0.0083 - accuracy: 0.9973 - precision: 0.9961 - recall: 0.99 - ETA: 16s - loss: 0.0082 - accuracy: 0.9974 - precision: 0.9962 - recall: 0.99 - ETA: 15s - loss: 0.0081 - accuracy: 0.9975 - precision: 0.9962 - recall: 0.99 - ETA: 15s - loss: 0.0079 - accuracy: 0.9975 - precision: 0.9962 - recall: 0.99 - ETA: 14s - loss: 0.0077 - accuracy: 0.9976 - precision: 0.9963 - recall: 0.99 - ETA: 14s - loss: 0.0075 - accuracy: 0.9977 - precision: 0.9963 - recall: 0.99 - ETA: 13s - loss: 0.0073 - accuracy: 0.9977 - precision: 0.9964 - recall: 0.99 - ETA: 12s - loss: 0.0072 - accuracy: 0.9978 - precision: 0.9964 - recall: 0.99 - ETA: 12s - loss: 0.0072 - accuracy: 0.9978 - precision: 0.9964 - recall: 0.99 - ETA: 11s - loss: 0.0080 - accuracy: 0.9975 - precision: 0.9965 - recall: 0.99 - ETA: 11s - loss: 0.0079 - accuracy: 0.9976 - precision: 0.9965 - recall: 0.99 - ETA: 10s - loss: 0.0078 - accuracy: 0.9976 - precision: 0.9965 - recall: 0.99 - ETA: 10s - loss: 0.0077 - accuracy: 0.9977 - precision: 0.9966 - recall: 0.99 - ETA: 9s - loss: 0.0077 - accuracy: 0.9977 - precision: 0.9966 - recall: 0.9998 - ETA: 9s - loss: 0.0076 - accuracy: 0.9978 - precision: 0.9966 - recall: 0.999 - ETA: 8s - loss: 0.0076 - accuracy: 0.9978 - precision: 0.9967 - recall: 0.999 - ETA: 8s - loss: 0.0076 - accuracy: 0.9979 - precision: 0.9967 - recall: 0.999 - ETA: 7s - loss: 0.0084 - accuracy: 0.9976 - precision: 0.9967 - recall: 0.999 - ETA: 6s - loss: 0.0086 - accuracy: 0.9973 - precision: 0.9967 - recall: 0.999 - ETA: 6s - loss: 0.0085 - accuracy: 0.9974 - precision: 0.9968 - recall: 0.999 - ETA: 5s - loss: 0.0088 - accuracy: 0.9972 - precision: 0.9968 - recall: 0.999 - ETA: 5s - loss: 0.0088 - accuracy: 0.9972 - precision: 0.9968 - recall: 0.999 - ETA: 4s - loss: 0.0086 - accuracy: 0.9973 - precision: 0.9968 - recall: 0.999 - ETA: 4s - loss: 0.0085 - accuracy: 0.9973 - precision: 0.9968 - recall: 0.999 - ETA: 3s - loss: 0.0088 - accuracy: 0.9971 - precision: 0.9968 - recall: 0.999 - ETA: 2s - loss: 0.0089 - accuracy: 0.9971 - precision: 0.9969 - recall: 0.999 - ETA: 2s - loss: 0.0091 - accuracy: 0.9969 - precision: 0.9969 - recall: 0.999 - ETA: 1s - loss: 0.0092 - accuracy: 0.9970 - precision: 0.9969 - recall: 0.999 - ETA: 1s - loss: 0.0091 - accuracy: 0.9970 - precision: 0.9969 - recall: 0.999 - ETA: 0s - loss: 0.0091 - accuracy: 0.9971 - precision: 0.9969 - recall: 0.999 - ETA: 0s - loss: 0.0090 - accuracy: 0.9971 - precision: 0.9969 - recall: 0.999 - 37s 9ms/step - loss: 0.0089 - accuracy: 0.9971 - precision: 0.9969 - recall: 0.9996 - val_loss: 0.0697 - val_accuracy: 0.9813 - val_precision: 0.9869 - val_recall: 0.9939\n",
      "\n",
      "Epoch 00017: val_loss did not improve from 0.05901\n",
      "Epoch 18/20\n"
     ]
    },
    {
     "name": "stdout",
     "output_type": "stream",
     "text": [
      "4180/4180 [==============================] - ETA: 1:08 - loss: 0.0024 - accuracy: 1.0000 - precision: 1.0000 - recall: 1.000 - ETA: 1:06 - loss: 0.0045 - accuracy: 1.0000 - precision: 1.0000 - recall: 1.000 - ETA: 1:02 - loss: 0.0052 - accuracy: 1.0000 - precision: 1.0000 - recall: 1.000 - ETA: 53s - loss: 0.0051 - accuracy: 1.0000 - precision: 1.0000 - recall: 1.000 - ETA: 48s - loss: 0.0044 - accuracy: 1.0000 - precision: 1.0000 - recall: 1.00 - ETA: 44s - loss: 0.0038 - accuracy: 1.0000 - precision: 1.0000 - recall: 1.00 - ETA: 41s - loss: 0.0043 - accuracy: 1.0000 - precision: 1.0000 - recall: 1.00 - ETA: 40s - loss: 0.0039 - accuracy: 1.0000 - precision: 1.0000 - recall: 1.00 - ETA: 38s - loss: 0.0048 - accuracy: 1.0000 - precision: 1.0000 - recall: 1.00 - ETA: 36s - loss: 0.0043 - accuracy: 1.0000 - precision: 1.0000 - recall: 1.00 - ETA: 34s - loss: 0.0039 - accuracy: 1.0000 - precision: 1.0000 - recall: 1.00 - ETA: 33s - loss: 0.0037 - accuracy: 1.0000 - precision: 1.0000 - recall: 1.00 - ETA: 32s - loss: 0.0035 - accuracy: 1.0000 - precision: 1.0000 - recall: 1.00 - ETA: 31s - loss: 0.0032 - accuracy: 1.0000 - precision: 1.0000 - recall: 1.00 - ETA: 30s - loss: 0.0031 - accuracy: 1.0000 - precision: 1.0000 - recall: 1.00 - ETA: 29s - loss: 0.0029 - accuracy: 1.0000 - precision: 1.0000 - recall: 1.00 - ETA: 28s - loss: 0.0028 - accuracy: 1.0000 - precision: 1.0000 - recall: 1.00 - ETA: 27s - loss: 0.0027 - accuracy: 1.0000 - precision: 1.0000 - recall: 1.00 - ETA: 27s - loss: 0.0048 - accuracy: 0.9992 - precision: 1.0000 - recall: 1.00 - ETA: 27s - loss: 0.0065 - accuracy: 0.9984 - precision: 0.9999 - recall: 1.00 - ETA: 27s - loss: 0.0063 - accuracy: 0.9985 - precision: 0.9999 - recall: 0.99 - ETA: 26s - loss: 0.0060 - accuracy: 0.9986 - precision: 0.9998 - recall: 0.99 - ETA: 26s - loss: 0.0059 - accuracy: 0.9986 - precision: 0.9998 - recall: 0.99 - ETA: 25s - loss: 0.0058 - accuracy: 0.9987 - precision: 0.9998 - recall: 0.99 - ETA: 24s - loss: 0.0056 - accuracy: 0.9987 - precision: 0.9998 - recall: 0.99 - ETA: 23s - loss: 0.0061 - accuracy: 0.9982 - precision: 0.9997 - recall: 0.99 - ETA: 23s - loss: 0.0061 - accuracy: 0.9983 - precision: 0.9997 - recall: 0.99 - ETA: 22s - loss: 0.0069 - accuracy: 0.9972 - precision: 0.9996 - recall: 0.99 - ETA: 21s - loss: 0.0067 - accuracy: 0.9973 - precision: 0.9996 - recall: 0.99 - ETA: 20s - loss: 0.0065 - accuracy: 0.9974 - precision: 0.9995 - recall: 0.99 - ETA: 20s - loss: 0.0064 - accuracy: 0.9975 - precision: 0.9995 - recall: 0.99 - ETA: 19s - loss: 0.0062 - accuracy: 0.9976 - precision: 0.9995 - recall: 0.99 - ETA: 18s - loss: 0.0062 - accuracy: 0.9976 - precision: 0.9994 - recall: 0.99 - ETA: 18s - loss: 0.0061 - accuracy: 0.9977 - precision: 0.9994 - recall: 0.99 - ETA: 17s - loss: 0.0059 - accuracy: 0.9978 - precision: 0.9994 - recall: 0.99 - ETA: 17s - loss: 0.0059 - accuracy: 0.9978 - precision: 0.9993 - recall: 0.99 - ETA: 16s - loss: 0.0058 - accuracy: 0.9979 - precision: 0.9993 - recall: 0.99 - ETA: 15s - loss: 0.0068 - accuracy: 0.9975 - precision: 0.9993 - recall: 0.99 - ETA: 15s - loss: 0.0066 - accuracy: 0.9976 - precision: 0.9993 - recall: 0.99 - ETA: 14s - loss: 0.0065 - accuracy: 0.9977 - precision: 0.9992 - recall: 0.99 - ETA: 13s - loss: 0.0063 - accuracy: 0.9977 - precision: 0.9992 - recall: 0.99 - ETA: 13s - loss: 0.0062 - accuracy: 0.9978 - precision: 0.9992 - recall: 0.99 - ETA: 12s - loss: 0.0061 - accuracy: 0.9978 - precision: 0.9992 - recall: 0.99 - ETA: 12s - loss: 0.0064 - accuracy: 0.9975 - precision: 0.9991 - recall: 0.99 - ETA: 11s - loss: 0.0063 - accuracy: 0.9976 - precision: 0.9991 - recall: 0.99 - ETA: 11s - loss: 0.0063 - accuracy: 0.9976 - precision: 0.9991 - recall: 0.99 - ETA: 10s - loss: 0.0062 - accuracy: 0.9977 - precision: 0.9991 - recall: 0.99 - ETA: 9s - loss: 0.0061 - accuracy: 0.9977 - precision: 0.9990 - recall: 0.9994 - ETA: 9s - loss: 0.0061 - accuracy: 0.9978 - precision: 0.9990 - recall: 0.999 - ETA: 8s - loss: 0.0065 - accuracy: 0.9975 - precision: 0.9990 - recall: 0.999 - ETA: 8s - loss: 0.0070 - accuracy: 0.9972 - precision: 0.9990 - recall: 0.999 - ETA: 7s - loss: 0.0070 - accuracy: 0.9973 - precision: 0.9990 - recall: 0.999 - ETA: 6s - loss: 0.0069 - accuracy: 0.9973 - precision: 0.9989 - recall: 0.999 - ETA: 6s - loss: 0.0073 - accuracy: 0.9971 - precision: 0.9989 - recall: 0.999 - ETA: 5s - loss: 0.0075 - accuracy: 0.9969 - precision: 0.9989 - recall: 0.999 - ETA: 5s - loss: 0.0074 - accuracy: 0.9969 - precision: 0.9989 - recall: 0.999 - ETA: 4s - loss: 0.0073 - accuracy: 0.9970 - precision: 0.9989 - recall: 0.999 - ETA: 4s - loss: 0.0072 - accuracy: 0.9970 - precision: 0.9988 - recall: 0.999 - ETA: 3s - loss: 0.0071 - accuracy: 0.9971 - precision: 0.9988 - recall: 0.999 - ETA: 2s - loss: 0.0070 - accuracy: 0.9971 - precision: 0.9988 - recall: 0.999 - ETA: 2s - loss: 0.0075 - accuracy: 0.9969 - precision: 0.9988 - recall: 0.999 - ETA: 1s - loss: 0.0076 - accuracy: 0.9967 - precision: 0.9988 - recall: 0.999 - ETA: 1s - loss: 0.0075 - accuracy: 0.9968 - precision: 0.9988 - recall: 0.999 - ETA: 0s - loss: 0.0078 - accuracy: 0.9966 - precision: 0.9987 - recall: 0.999 - ETA: 0s - loss: 0.0078 - accuracy: 0.9966 - precision: 0.9987 - recall: 0.999 - 37s 9ms/step - loss: 0.0078 - accuracy: 0.9967 - precision: 0.9987 - recall: 0.9993 - val_loss: 0.0763 - val_accuracy: 0.9849 - val_precision: 0.9857 - val_recall: 0.9962\n",
      "\n",
      "Epoch 00018: val_loss did not improve from 0.05901\n",
      "Epoch 19/20\n"
     ]
    },
    {
     "name": "stdout",
     "output_type": "stream",
     "text": [
      "4180/4180 [==============================] - ETA: 58s - loss: 0.0036 - accuracy: 1.0000 - precision: 1.0000 - recall: 1.00 - ETA: 45s - loss: 0.0034 - accuracy: 1.0000 - precision: 1.0000 - recall: 1.00 - ETA: 40s - loss: 0.0029 - accuracy: 1.0000 - precision: 1.0000 - recall: 1.00 - ETA: 38s - loss: 0.0084 - accuracy: 0.9961 - precision: 0.9989 - recall: 1.00 - ETA: 35s - loss: 0.0080 - accuracy: 0.9969 - precision: 0.9984 - recall: 1.00 - ETA: 34s - loss: 0.0088 - accuracy: 0.9974 - precision: 0.9982 - recall: 1.00 - ETA: 33s - loss: 0.0079 - accuracy: 0.9978 - precision: 0.9981 - recall: 1.00 - ETA: 34s - loss: 0.0079 - accuracy: 0.9980 - precision: 0.9981 - recall: 1.00 - ETA: 33s - loss: 0.0073 - accuracy: 0.9983 - precision: 0.9981 - recall: 1.00 - ETA: 32s - loss: 0.0066 - accuracy: 0.9984 - precision: 0.9981 - recall: 1.00 - ETA: 32s - loss: 0.0060 - accuracy: 0.9986 - precision: 0.9981 - recall: 1.00 - ETA: 31s - loss: 0.0061 - accuracy: 0.9987 - precision: 0.9981 - recall: 1.00 - ETA: 30s - loss: 0.0113 - accuracy: 0.9976 - precision: 0.9981 - recall: 1.00 - ETA: 29s - loss: 0.0106 - accuracy: 0.9978 - precision: 0.9980 - recall: 1.00 - ETA: 28s - loss: 0.0102 - accuracy: 0.9979 - precision: 0.9980 - recall: 1.00 - ETA: 28s - loss: 0.0098 - accuracy: 0.9980 - precision: 0.9980 - recall: 1.00 - ETA: 27s - loss: 0.0093 - accuracy: 0.9982 - precision: 0.9980 - recall: 1.00 - ETA: 26s - loss: 0.0090 - accuracy: 0.9983 - precision: 0.9980 - recall: 1.00 - ETA: 25s - loss: 0.0086 - accuracy: 0.9984 - precision: 0.9980 - recall: 1.00 - ETA: 25s - loss: 0.0082 - accuracy: 0.9984 - precision: 0.9980 - recall: 1.00 - ETA: 24s - loss: 0.0079 - accuracy: 0.9985 - precision: 0.9980 - recall: 1.00 - ETA: 24s - loss: 0.0078 - accuracy: 0.9986 - precision: 0.9980 - recall: 1.00 - ETA: 23s - loss: 0.0075 - accuracy: 0.9986 - precision: 0.9980 - recall: 1.00 - ETA: 22s - loss: 0.0072 - accuracy: 0.9987 - precision: 0.9981 - recall: 1.00 - ETA: 22s - loss: 0.0069 - accuracy: 0.9987 - precision: 0.9981 - recall: 1.00 - ETA: 21s - loss: 0.0069 - accuracy: 0.9988 - precision: 0.9981 - recall: 1.00 - ETA: 20s - loss: 0.0074 - accuracy: 0.9983 - precision: 0.9981 - recall: 1.00 - ETA: 20s - loss: 0.0072 - accuracy: 0.9983 - precision: 0.9981 - recall: 1.00 - ETA: 19s - loss: 0.0070 - accuracy: 0.9984 - precision: 0.9981 - recall: 1.00 - ETA: 18s - loss: 0.0068 - accuracy: 0.9984 - precision: 0.9981 - recall: 1.00 - ETA: 18s - loss: 0.0068 - accuracy: 0.9985 - precision: 0.9981 - recall: 1.00 - ETA: 17s - loss: 0.0066 - accuracy: 0.9985 - precision: 0.9981 - recall: 1.00 - ETA: 17s - loss: 0.0065 - accuracy: 0.9986 - precision: 0.9981 - recall: 1.00 - ETA: 16s - loss: 0.0063 - accuracy: 0.9986 - precision: 0.9981 - recall: 1.00 - ETA: 16s - loss: 0.0063 - accuracy: 0.9987 - precision: 0.9981 - recall: 1.00 - ETA: 15s - loss: 0.0063 - accuracy: 0.9987 - precision: 0.9982 - recall: 1.00 - ETA: 14s - loss: 0.0062 - accuracy: 0.9987 - precision: 0.9982 - recall: 1.00 - ETA: 14s - loss: 0.0061 - accuracy: 0.9988 - precision: 0.9982 - recall: 1.00 - ETA: 13s - loss: 0.0059 - accuracy: 0.9988 - precision: 0.9982 - recall: 1.00 - ETA: 13s - loss: 0.0058 - accuracy: 0.9988 - precision: 0.9982 - recall: 1.00 - ETA: 12s - loss: 0.0057 - accuracy: 0.9989 - precision: 0.9982 - recall: 1.00 - ETA: 12s - loss: 0.0055 - accuracy: 0.9989 - precision: 0.9982 - recall: 1.00 - ETA: 11s - loss: 0.0055 - accuracy: 0.9989 - precision: 0.9982 - recall: 1.00 - ETA: 11s - loss: 0.0059 - accuracy: 0.9986 - precision: 0.9982 - recall: 1.00 - ETA: 10s - loss: 0.0059 - accuracy: 0.9986 - precision: 0.9982 - recall: 1.00 - ETA: 10s - loss: 0.0058 - accuracy: 0.9986 - precision: 0.9982 - recall: 1.00 - ETA: 9s - loss: 0.0057 - accuracy: 0.9987 - precision: 0.9982 - recall: 1.0000 - ETA: 9s - loss: 0.0057 - accuracy: 0.9987 - precision: 0.9983 - recall: 1.000 - ETA: 8s - loss: 0.0056 - accuracy: 0.9987 - precision: 0.9983 - recall: 1.000 - ETA: 8s - loss: 0.0056 - accuracy: 0.9987 - precision: 0.9983 - recall: 1.000 - ETA: 7s - loss: 0.0055 - accuracy: 0.9988 - precision: 0.9983 - recall: 1.000 - ETA: 6s - loss: 0.0054 - accuracy: 0.9988 - precision: 0.9983 - recall: 1.000 - ETA: 6s - loss: 0.0053 - accuracy: 0.9988 - precision: 0.9983 - recall: 1.000 - ETA: 5s - loss: 0.0052 - accuracy: 0.9988 - precision: 0.9983 - recall: 1.000 - ETA: 5s - loss: 0.0052 - accuracy: 0.9989 - precision: 0.9983 - recall: 1.000 - ETA: 4s - loss: 0.0051 - accuracy: 0.9989 - precision: 0.9983 - recall: 1.000 - ETA: 4s - loss: 0.0055 - accuracy: 0.9986 - precision: 0.9983 - recall: 1.000 - ETA: 3s - loss: 0.0059 - accuracy: 0.9984 - precision: 0.9983 - recall: 1.000 - ETA: 3s - loss: 0.0058 - accuracy: 0.9984 - precision: 0.9983 - recall: 1.000 - ETA: 2s - loss: 0.0058 - accuracy: 0.9984 - precision: 0.9983 - recall: 1.000 - ETA: 2s - loss: 0.0057 - accuracy: 0.9985 - precision: 0.9983 - recall: 1.000 - ETA: 1s - loss: 0.0057 - accuracy: 0.9985 - precision: 0.9983 - recall: 1.000 - ETA: 1s - loss: 0.0058 - accuracy: 0.9983 - precision: 0.9983 - recall: 1.000 - ETA: 0s - loss: 0.0058 - accuracy: 0.9983 - precision: 0.9983 - recall: 1.000 - ETA: 0s - loss: 0.0065 - accuracy: 0.9978 - precision: 0.9983 - recall: 1.000 - 35s 8ms/step - loss: 0.0065 - accuracy: 0.9978 - precision: 0.9983 - recall: 1.0000 - val_loss: 0.0971 - val_accuracy: 0.9813 - val_precision: 0.9895 - val_recall: 0.9884\n",
      "\n",
      "Epoch 00019: val_loss did not improve from 0.05901\n",
      "Epoch 20/20\n"
     ]
    },
    {
     "name": "stdout",
     "output_type": "stream",
     "text": [
      "4180/4180 [==============================] - ETA: 31s - loss: 0.0019 - accuracy: 1.0000 - precision: 1.0000 - recall: 1.00 - ETA: 30s - loss: 0.0013 - accuracy: 1.0000 - precision: 1.0000 - recall: 1.00 - ETA: 29s - loss: 0.0063 - accuracy: 0.9948 - precision: 0.9981 - recall: 1.00 - ETA: 29s - loss: 0.0087 - accuracy: 0.9922 - precision: 0.9964 - recall: 1.00 - ETA: 28s - loss: 0.0076 - accuracy: 0.9937 - precision: 0.9957 - recall: 1.00 - ETA: 28s - loss: 0.0088 - accuracy: 0.9948 - precision: 0.9955 - recall: 1.00 - ETA: 27s - loss: 0.0076 - accuracy: 0.9955 - precision: 0.9954 - recall: 1.00 - ETA: 27s - loss: 0.0068 - accuracy: 0.9961 - precision: 0.9954 - recall: 1.00 - ETA: 27s - loss: 0.0062 - accuracy: 0.9965 - precision: 0.9955 - recall: 1.00 - ETA: 27s - loss: 0.0056 - accuracy: 0.9969 - precision: 0.9956 - recall: 1.00 - ETA: 27s - loss: 0.0053 - accuracy: 0.9972 - precision: 0.9957 - recall: 1.00 - ETA: 27s - loss: 0.0049 - accuracy: 0.9974 - precision: 0.9958 - recall: 1.00 - ETA: 27s - loss: 0.0046 - accuracy: 0.9976 - precision: 0.9959 - recall: 1.00 - ETA: 26s - loss: 0.0044 - accuracy: 0.9978 - precision: 0.9960 - recall: 1.00 - ETA: 26s - loss: 0.0041 - accuracy: 0.9979 - precision: 0.9961 - recall: 1.00 - ETA: 25s - loss: 0.0039 - accuracy: 0.9980 - precision: 0.9962 - recall: 1.00 - ETA: 25s - loss: 0.0038 - accuracy: 0.9982 - precision: 0.9963 - recall: 1.00 - ETA: 24s - loss: 0.0036 - accuracy: 0.9983 - precision: 0.9964 - recall: 1.00 - ETA: 23s - loss: 0.0034 - accuracy: 0.9984 - precision: 0.9965 - recall: 1.00 - ETA: 23s - loss: 0.0037 - accuracy: 0.9984 - precision: 0.9966 - recall: 1.00 - ETA: 22s - loss: 0.0035 - accuracy: 0.9985 - precision: 0.9967 - recall: 1.00 - ETA: 22s - loss: 0.0037 - accuracy: 0.9986 - precision: 0.9968 - recall: 1.00 - ETA: 21s - loss: 0.0035 - accuracy: 0.9986 - precision: 0.9968 - recall: 1.00 - ETA: 21s - loss: 0.0034 - accuracy: 0.9987 - precision: 0.9969 - recall: 1.00 - ETA: 21s - loss: 0.0034 - accuracy: 0.9987 - precision: 0.9970 - recall: 1.00 - ETA: 20s - loss: 0.0033 - accuracy: 0.9988 - precision: 0.9970 - recall: 1.00 - ETA: 20s - loss: 0.0032 - accuracy: 0.9988 - precision: 0.9971 - recall: 1.00 - ETA: 19s - loss: 0.0032 - accuracy: 0.9989 - precision: 0.9972 - recall: 1.00 - ETA: 18s - loss: 0.0037 - accuracy: 0.9984 - precision: 0.9972 - recall: 1.00 - ETA: 18s - loss: 0.0039 - accuracy: 0.9984 - precision: 0.9972 - recall: 1.00 - ETA: 17s - loss: 0.0039 - accuracy: 0.9985 - precision: 0.9973 - recall: 1.00 - ETA: 17s - loss: 0.0039 - accuracy: 0.9985 - precision: 0.9973 - recall: 1.00 - ETA: 16s - loss: 0.0039 - accuracy: 0.9986 - precision: 0.9973 - recall: 1.00 - ETA: 16s - loss: 0.0038 - accuracy: 0.9986 - precision: 0.9974 - recall: 1.00 - ETA: 15s - loss: 0.0038 - accuracy: 0.9987 - precision: 0.9974 - recall: 1.00 - ETA: 15s - loss: 0.0037 - accuracy: 0.9987 - precision: 0.9974 - recall: 1.00 - ETA: 14s - loss: 0.0037 - accuracy: 0.9987 - precision: 0.9974 - recall: 1.00 - ETA: 13s - loss: 0.0036 - accuracy: 0.9988 - precision: 0.9975 - recall: 1.00 - ETA: 13s - loss: 0.0035 - accuracy: 0.9988 - precision: 0.9975 - recall: 1.00 - ETA: 12s - loss: 0.0035 - accuracy: 0.9988 - precision: 0.9975 - recall: 1.00 - ETA: 12s - loss: 0.0035 - accuracy: 0.9989 - precision: 0.9976 - recall: 1.00 - ETA: 11s - loss: 0.0034 - accuracy: 0.9989 - precision: 0.9976 - recall: 1.00 - ETA: 11s - loss: 0.0034 - accuracy: 0.9989 - precision: 0.9976 - recall: 1.00 - ETA: 10s - loss: 0.0033 - accuracy: 0.9989 - precision: 0.9976 - recall: 1.00 - ETA: 10s - loss: 0.0032 - accuracy: 0.9990 - precision: 0.9977 - recall: 1.00 - ETA: 9s - loss: 0.0032 - accuracy: 0.9990 - precision: 0.9977 - recall: 1.0000 - ETA: 9s - loss: 0.0035 - accuracy: 0.9987 - precision: 0.9977 - recall: 1.000 - ETA: 8s - loss: 0.0036 - accuracy: 0.9987 - precision: 0.9977 - recall: 1.000 - ETA: 8s - loss: 0.0039 - accuracy: 0.9987 - precision: 0.9977 - recall: 1.000 - ETA: 7s - loss: 0.0039 - accuracy: 0.9987 - precision: 0.9978 - recall: 1.000 - ETA: 7s - loss: 0.0040 - accuracy: 0.9988 - precision: 0.9978 - recall: 1.000 - ETA: 6s - loss: 0.0040 - accuracy: 0.9988 - precision: 0.9978 - recall: 1.000 - ETA: 6s - loss: 0.0039 - accuracy: 0.9988 - precision: 0.9978 - recall: 1.000 - ETA: 5s - loss: 0.0039 - accuracy: 0.9988 - precision: 0.9978 - recall: 1.000 - ETA: 5s - loss: 0.0038 - accuracy: 0.9989 - precision: 0.9978 - recall: 1.000 - ETA: 4s - loss: 0.0038 - accuracy: 0.9989 - precision: 0.9979 - recall: 1.000 - ETA: 4s - loss: 0.0040 - accuracy: 0.9986 - precision: 0.9979 - recall: 1.000 - ETA: 3s - loss: 0.0039 - accuracy: 0.9987 - precision: 0.9979 - recall: 1.000 - ETA: 3s - loss: 0.0039 - accuracy: 0.9987 - precision: 0.9979 - recall: 1.000 - ETA: 2s - loss: 0.0039 - accuracy: 0.9987 - precision: 0.9979 - recall: 1.000 - ETA: 2s - loss: 0.0038 - accuracy: 0.9987 - precision: 0.9979 - recall: 1.000 - ETA: 1s - loss: 0.0038 - accuracy: 0.9987 - precision: 0.9979 - recall: 1.000 - ETA: 1s - loss: 0.0042 - accuracy: 0.9985 - precision: 0.9979 - recall: 1.000 - ETA: 0s - loss: 0.0042 - accuracy: 0.9985 - precision: 0.9979 - recall: 1.000 - ETA: 0s - loss: 0.0044 - accuracy: 0.9983 - precision: 0.9979 - recall: 1.000 - 34s 8ms/step - loss: 0.0044 - accuracy: 0.9983 - precision: 0.9979 - recall: 1.0000 - val_loss: 0.0929 - val_accuracy: 0.9849 - val_precision: 0.9890 - val_recall: 0.9959\n",
      "\n",
      "Epoch 00020: val_loss did not improve from 0.05901\n"
     ]
    },
    {
     "data": {
      "text/plain": [
       "<keras.callbacks.callbacks.History at 0x2ab87d2cfc8>"
      ]
     },
     "execution_count": 22,
     "metadata": {},
     "output_type": "execute_result"
    }
   ],
   "source": [
    "# initialize our ModelCheckpoint and TensorBoard callbacks\n",
    "# model checkpoint for saving best weights\n",
    "model_checkpoint = ModelCheckpoint(\"results/spam_classifier_{val_loss:.2f}\", save_best_only=True,\n",
    "                                    verbose=1)\n",
    "# for better visualization\n",
    "tensorboard = TensorBoard(f\"logs/spam_classifier_{time.time()}\")\n",
    "# print our data shapes\n",
    "print(\"X_train.shape:\", X_train.shape)\n",
    "print(\"X_test.shape:\", X_test.shape)\n",
    "print(\"y_train.shape:\", y_train.shape)\n",
    "print(\"y_test.shape:\", y_test.shape)\n",
    "# train the model\n",
    "model.fit(X_train, y_train, validation_data=(X_test, y_test),\n",
    "          batch_size=BATCH_SIZE, epochs=EPOCHS,\n",
    "          callbacks=[tensorboard, model_checkpoint],\n",
    "          verbose=1)"
   ]
  },
  {
   "cell_type": "code",
   "execution_count": 37,
   "metadata": {},
   "outputs": [],
   "source": [
    "model.save('spam_classifier_20_epoch.h5')"
   ]
  },
  {
   "cell_type": "code",
   "execution_count": 31,
   "metadata": {},
   "outputs": [
    {
     "name": "stdout",
     "output_type": "stream",
     "text": [
      "1394/1394 [==============================] - ETA:  - ETA:  - ETA:  - ETA:  - ETA:  - ETA:  - ETA:  - ETA:  - ETA:  - ETA:  - ETA:  - ETA:  - ETA:  - ETA:  - ETA:  - ETA:  - ETA:  - ETA:  - ETA:  - ETA:  - ETA:  - ETA:  - 2s 1ms/step\n",
      "[+] Accuracy: 98.49%\n",
      "[+] Precision:   98.94%\n",
      "[+] Recall:   99.60%\n"
     ]
    }
   ],
   "source": [
    "# get the loss and metrics\n",
    "result = model.evaluate(X_test, y_test)\n",
    "# extract those\n",
    "loss = result[0]\n",
    "accuracy = result[1]\n",
    "precision = result[2]\n",
    "recall = result[3]\n",
    "\n",
    "print(f\"[+] Accuracy: {accuracy*100:.2f}%\")\n",
    "print(f\"[+] Precision:   {precision*100:.2f}%\")\n",
    "print(f\"[+] Recall:   {recall*100:.2f}%\")"
   ]
  },
  {
   "cell_type": "code",
   "execution_count": 50,
   "metadata": {},
   "outputs": [],
   "source": [
    "def get_predictions(text):\n",
    "    model.load_weights(\"spam_classifier_20_epoch.h5\")\n",
    "    sequence = tokenizer.texts_to_sequences([text])\n",
    "    # pad the sequence\n",
    "    sequence = pad_sequences(sequence, maxlen=SEQUENCE_LENGTH)\n",
    "    # get the prediction\n",
    "    prediction = model.predict(sequence)[0]\n",
    "    # one-hot encoded vector, revert using np.argmax\n",
    "    return int2label[np.argmax(prediction)]"
   ]
  },
  {
   "cell_type": "code",
   "execution_count": 51,
   "metadata": {},
   "outputs": [
    {
     "name": "stdout",
     "output_type": "stream",
     "text": [
      "spam\n",
      "ham\n"
     ]
    }
   ],
   "source": [
    "text = \"Congratulations! you have won 100,000$ this week, click here to claim fast\"\n",
    "print(get_predictions(text))\n",
    "\n",
    "text = \"Hi man, Meet you tommorow 3.00 pm\"\n",
    "print(get_predictions(text))"
   ]
  },
  {
   "cell_type": "code",
   "execution_count": null,
   "metadata": {},
   "outputs": [],
   "source": []
  },
  {
   "cell_type": "code",
   "execution_count": null,
   "metadata": {},
   "outputs": [],
   "source": []
  }
 ],
 "metadata": {
  "kernelspec": {
   "display_name": "Python 3",
   "language": "python",
   "name": "python3"
  },
  "language_info": {
   "codemirror_mode": {
    "name": "ipython",
    "version": 3
   },
   "file_extension": ".py",
   "mimetype": "text/x-python",
   "name": "python",
   "nbconvert_exporter": "python",
   "pygments_lexer": "ipython3",
   "version": "3.7.4"
  }
 },
 "nbformat": 4,
 "nbformat_minor": 2
}
