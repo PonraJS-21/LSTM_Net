{
 "cells": [
  {
   "cell_type": "markdown",
   "metadata": {},
   "source": [
    "# Deep Learning for NLP - Creating a chatbot"
   ]
  },
  {
   "cell_type": "code",
   "execution_count": 1,
   "metadata": {},
   "outputs": [],
   "source": [
    "#Library Imports\n",
    "import pickle\n",
    "import numpy as np"
   ]
  },
  {
   "cell_type": "code",
   "execution_count": 2,
   "metadata": {},
   "outputs": [],
   "source": [
    "#retrieve training data\n",
    "with open('train_qa.txt', 'rb') as f:\n",
    "    train_data = pickle.load(f)"
   ]
  },
  {
   "cell_type": "code",
   "execution_count": 3,
   "metadata": {},
   "outputs": [],
   "source": [
    "#retrieve test data\n",
    "with open('test_qa.txt', 'rb') as f:\n",
    "    test_data = pickle.load(f)"
   ]
  },
  {
   "cell_type": "code",
   "execution_count": 4,
   "metadata": {},
   "outputs": [
    {
     "data": {
      "text/plain": [
       "10000"
      ]
     },
     "execution_count": 4,
     "metadata": {},
     "output_type": "execute_result"
    }
   ],
   "source": [
    "#Number of training instances\n",
    "len(train_data)"
   ]
  },
  {
   "cell_type": "code",
   "execution_count": 5,
   "metadata": {},
   "outputs": [
    {
     "data": {
      "text/plain": [
       "1000"
      ]
     },
     "execution_count": 5,
     "metadata": {},
     "output_type": "execute_result"
    }
   ],
   "source": [
    "#Number of test instances\n",
    "len(test_data)"
   ]
  },
  {
   "cell_type": "code",
   "execution_count": 6,
   "metadata": {},
   "outputs": [
    {
     "data": {
      "text/plain": [
       "(['Sandra',\n",
       "  'went',\n",
       "  'back',\n",
       "  'to',\n",
       "  'the',\n",
       "  'hallway',\n",
       "  '.',\n",
       "  'Sandra',\n",
       "  'moved',\n",
       "  'to',\n",
       "  'the',\n",
       "  'office',\n",
       "  '.'],\n",
       " ['Is', 'Sandra', 'in', 'the', 'office', '?'],\n",
       " 'yes')"
      ]
     },
     "execution_count": 6,
     "metadata": {},
     "output_type": "execute_result"
    }
   ],
   "source": [
    "#Example of one of the instances\n",
    "train_data[10]"
   ]
  },
  {
   "cell_type": "code",
   "execution_count": 7,
   "metadata": {},
   "outputs": [
    {
     "data": {
      "text/plain": [
       "'Sandra went back to the hallway . Sandra moved to the office .'"
      ]
     },
     "execution_count": 7,
     "metadata": {},
     "output_type": "execute_result"
    }
   ],
   "source": [
    "' '.join(train_data[10][0])"
   ]
  },
  {
   "cell_type": "code",
   "execution_count": 8,
   "metadata": {},
   "outputs": [
    {
     "data": {
      "text/plain": [
       "'Is Sandra in the office ?'"
      ]
     },
     "execution_count": 8,
     "metadata": {},
     "output_type": "execute_result"
    }
   ],
   "source": [
    "' '.join(train_data[10][1])"
   ]
  },
  {
   "cell_type": "code",
   "execution_count": 9,
   "metadata": {},
   "outputs": [
    {
     "data": {
      "text/plain": [
       "'yes'"
      ]
     },
     "execution_count": 9,
     "metadata": {},
     "output_type": "execute_result"
    }
   ],
   "source": [
    "train_data[10][2]"
   ]
  },
  {
   "cell_type": "code",
   "execution_count": 10,
   "metadata": {},
   "outputs": [],
   "source": [
    "#First we need to create a vocabulary with our data\n",
    "#For this we will use the training data only to - On the video it uses both\n",
    "#train and test \n",
    "#Might have to use training and test later, as the dataset has very\n",
    "#few words"
   ]
  },
  {
   "cell_type": "code",
   "execution_count": 11,
   "metadata": {},
   "outputs": [],
   "source": [
    "#First we will build a set of all the words in the dataset:\n",
    "vocab = set()\n",
    "for story, question, answer in train_data:\n",
    "    vocab = vocab.union(set(story)) #Set returns unique words in the sentence\n",
    "                                    #Union returns the unique common elements from a two sets\n",
    "    vocab = vocab.union(set(question))"
   ]
  },
  {
   "cell_type": "code",
   "execution_count": 12,
   "metadata": {},
   "outputs": [],
   "source": [
    "vocab.add('no')\n",
    "vocab.add('yes')"
   ]
  },
  {
   "cell_type": "code",
   "execution_count": 13,
   "metadata": {
    "scrolled": true
   },
   "outputs": [
    {
     "data": {
      "text/plain": [
       "{'.',\n",
       " '?',\n",
       " 'Daniel',\n",
       " 'Is',\n",
       " 'John',\n",
       " 'Mary',\n",
       " 'Sandra',\n",
       " 'apple',\n",
       " 'back',\n",
       " 'bathroom',\n",
       " 'bedroom',\n",
       " 'discarded',\n",
       " 'down',\n",
       " 'dropped',\n",
       " 'football',\n",
       " 'garden',\n",
       " 'got',\n",
       " 'grabbed',\n",
       " 'hallway',\n",
       " 'in',\n",
       " 'journeyed',\n",
       " 'kitchen',\n",
       " 'left',\n",
       " 'milk',\n",
       " 'moved',\n",
       " 'no',\n",
       " 'office',\n",
       " 'picked',\n",
       " 'put',\n",
       " 'the',\n",
       " 'there',\n",
       " 'to',\n",
       " 'took',\n",
       " 'travelled',\n",
       " 'up',\n",
       " 'went',\n",
       " 'yes'}"
      ]
     },
     "execution_count": 13,
     "metadata": {},
     "output_type": "execute_result"
    }
   ],
   "source": [
    "vocab"
   ]
  },
  {
   "cell_type": "code",
   "execution_count": 14,
   "metadata": {},
   "outputs": [],
   "source": [
    "#Calculate len and add 1 for Keras placeholder - Placeholders are used to feed in the data to the network. \n",
    "#They need a data type, and have optional shape arguements.\n",
    "#They will be empty at first, and then the data will get fed into the placeholder\n",
    "vocab_len = len(vocab) + 1"
   ]
  },
  {
   "cell_type": "code",
   "execution_count": 15,
   "metadata": {},
   "outputs": [
    {
     "data": {
      "text/plain": [
       "38"
      ]
     },
     "execution_count": 15,
     "metadata": {},
     "output_type": "execute_result"
    }
   ],
   "source": [
    "vocab_len"
   ]
  },
  {
   "cell_type": "code",
   "execution_count": 16,
   "metadata": {},
   "outputs": [],
   "source": [
    "#Now we are going to calculate the longest story and the longest question\n",
    "#We need this for the Keras pad sequences. \n",
    "#Keras training layers expect all of the input to have the same length, so \n",
    "#we need to pad \n",
    "all_data = test_data + train_data"
   ]
  },
  {
   "cell_type": "code",
   "execution_count": 17,
   "metadata": {},
   "outputs": [],
   "source": [
    "all_story_lens = [len(data[0]) for data in all_data]"
   ]
  },
  {
   "cell_type": "code",
   "execution_count": 18,
   "metadata": {},
   "outputs": [],
   "source": [
    "max_story_len = (max(all_story_lens))"
   ]
  },
  {
   "cell_type": "code",
   "execution_count": 19,
   "metadata": {},
   "outputs": [],
   "source": [
    "max_question_len = max([len(data[1]) for data in all_data])"
   ]
  },
  {
   "cell_type": "markdown",
   "metadata": {},
   "source": [
    "## Vectorizing the data"
   ]
  },
  {
   "cell_type": "markdown",
   "metadata": {},
   "source": [
    "First, we will go through a manual process of how to vectorize the data, and then we will create a function that does this automatically for us. "
   ]
  },
  {
   "cell_type": "code",
   "execution_count": 20,
   "metadata": {},
   "outputs": [
    {
     "name": "stderr",
     "output_type": "stream",
     "text": [
      "Using TensorFlow backend.\n"
     ]
    }
   ],
   "source": [
    "from keras.preprocessing.sequence import pad_sequences\n",
    "from keras.preprocessing.text import Tokenizer"
   ]
  },
  {
   "cell_type": "code",
   "execution_count": 21,
   "metadata": {},
   "outputs": [],
   "source": [
    "#Create an instance of the tokenizer object:\n",
    "tokenizer = Tokenizer(filters = [])\n",
    "tokenizer.fit_on_texts(vocab)"
   ]
  },
  {
   "cell_type": "code",
   "execution_count": 22,
   "metadata": {},
   "outputs": [
    {
     "data": {
      "text/plain": [
       "{'back': 1,\n",
       " 'journeyed': 2,\n",
       " 'yes': 3,\n",
       " '?': 4,\n",
       " 'up': 5,\n",
       " 'sandra': 6,\n",
       " 'hallway': 7,\n",
       " 'dropped': 8,\n",
       " 'daniel': 9,\n",
       " 'got': 10,\n",
       " 'kitchen': 11,\n",
       " 'milk': 12,\n",
       " 'is': 13,\n",
       " 'mary': 14,\n",
       " 'bedroom': 15,\n",
       " 'left': 16,\n",
       " 'apple': 17,\n",
       " 'to': 18,\n",
       " 'travelled': 19,\n",
       " 'there': 20,\n",
       " 'down': 21,\n",
       " 'bathroom': 22,\n",
       " 'john': 23,\n",
       " 'discarded': 24,\n",
       " 'in': 25,\n",
       " 'office': 26,\n",
       " 'went': 27,\n",
       " 'no': 28,\n",
       " 'football': 29,\n",
       " 'picked': 30,\n",
       " 'the': 31,\n",
       " 'took': 32,\n",
       " '.': 33,\n",
       " 'grabbed': 34,\n",
       " 'garden': 35,\n",
       " 'put': 36,\n",
       " 'moved': 37}"
      ]
     },
     "execution_count": 22,
     "metadata": {},
     "output_type": "execute_result"
    }
   ],
   "source": [
    "#Dictionary that maps every word in our vocab to an index\n",
    "# It has been automatically lowercased\n",
    "#This tokenizer can give different indexes for different words depending on when we run it\n",
    "tokenizer.word_index"
   ]
  },
  {
   "cell_type": "code",
   "execution_count": 23,
   "metadata": {},
   "outputs": [],
   "source": [
    "#Tokenize the stories, questions and answers:\n",
    "train_story_text = []\n",
    "train_question_text = []\n",
    "train_answers = []"
   ]
  },
  {
   "cell_type": "code",
   "execution_count": 24,
   "metadata": {},
   "outputs": [],
   "source": [
    "#Separating each of the elements\n",
    "for story,question,answer in train_data:\n",
    "    train_story_text.append(story)\n",
    "    train_question_text.append(question) \n",
    "    train_answers.append(answer)\n",
    "    "
   ]
  },
  {
   "cell_type": "code",
   "execution_count": 25,
   "metadata": {},
   "outputs": [],
   "source": [
    "#Coverting the text into the indexes \n",
    "train_story_seq = tokenizer.texts_to_sequences(train_story_text)"
   ]
  },
  {
   "cell_type": "code",
   "execution_count": 26,
   "metadata": {},
   "outputs": [],
   "source": [
    "#Create a function for vectorizing the stories, questions and answers:\n",
    "def vectorize_stories(data,word_index = tokenizer.word_index, max_story_len = max_story_len, max_question_len = max_question_len):\n",
    "    #vectorized stories:\n",
    "    X = []\n",
    "    #vectorized questions:\n",
    "    Xq = []\n",
    "    #vectorized answers:\n",
    "    Y = []\n",
    "    \n",
    "    for story, question, answer in data:\n",
    "        #Getting indexes for each word in the story\n",
    "        x = [word_index[word.lower()] for word in story]\n",
    "        #Getting indexes for each word in the story\n",
    "        xq = [word_index[word.lower()] for word in question]\n",
    "        #For the answers\n",
    "        y = np.zeros(len(word_index) + 1) #Index 0 Reserved when padding the sequences\n",
    "        y[word_index[answer]] = 1\n",
    "        \n",
    "        X.append(x)\n",
    "        Xq.append(xq)\n",
    "        Y.append(y)\n",
    "        \n",
    "    #Now we have to pad these sequences:\n",
    "    return(pad_sequences(X,maxlen=max_story_len), pad_sequences(Xq, maxlen=max_question_len), np.array(Y))\n",
    "        "
   ]
  },
  {
   "cell_type": "code",
   "execution_count": 27,
   "metadata": {},
   "outputs": [],
   "source": [
    "inputs_train, questions_train, answers_train = vectorize_stories(train_data)"
   ]
  },
  {
   "cell_type": "code",
   "execution_count": 28,
   "metadata": {},
   "outputs": [],
   "source": [
    "inputs_test, questions_test, answers_test = vectorize_stories(test_data)"
   ]
  },
  {
   "cell_type": "code",
   "execution_count": 29,
   "metadata": {},
   "outputs": [
    {
     "data": {
      "text/plain": [
       "array([ 0,  0,  0,  0,  0,  0,  0,  0,  0,  0,  0,  0,  0,  0,  0,  0,  0,\n",
       "        0,  0,  0,  0,  0,  0,  0,  0,  0,  0,  0,  0,  0,  0,  0,  0,  0,\n",
       "        0,  0,  0,  0,  0,  0,  0,  0,  0,  0,  0,  0,  0,  0,  0,  0,  0,\n",
       "        0,  0,  0,  0,  0,  0,  0,  0,  0,  0,  0,  0,  0,  0,  0,  0,  0,\n",
       "        0,  0,  0,  0,  0,  0,  0,  0,  0,  0,  0,  0,  0,  0,  0,  0,  0,\n",
       "        0,  0,  0,  0,  0,  0,  0,  0,  0,  0,  0,  0,  0,  0,  0,  0,  0,\n",
       "        0,  0,  0,  0,  0,  0,  0,  0,  0,  0,  0,  0,  0,  0,  0,  0,  0,\n",
       "        0,  0,  0,  0,  0,  0,  0,  0,  0,  0,  0,  0,  0,  0,  0,  0,  0,\n",
       "        0,  0,  0,  0,  0,  0,  0,  0, 14, 37, 18, 31, 22, 33,  6,  2, 18,\n",
       "       31, 15, 33])"
      ]
     },
     "execution_count": 29,
     "metadata": {},
     "output_type": "execute_result"
    }
   ],
   "source": [
    "inputs_train[0]"
   ]
  },
  {
   "cell_type": "code",
   "execution_count": 30,
   "metadata": {},
   "outputs": [
    {
     "data": {
      "text/plain": [
       "['Mary',\n",
       " 'moved',\n",
       " 'to',\n",
       " 'the',\n",
       " 'bathroom',\n",
       " '.',\n",
       " 'Sandra',\n",
       " 'journeyed',\n",
       " 'to',\n",
       " 'the',\n",
       " 'bedroom',\n",
       " '.']"
      ]
     },
     "execution_count": 30,
     "metadata": {},
     "output_type": "execute_result"
    }
   ],
   "source": [
    "train_story_text[0]"
   ]
  },
  {
   "cell_type": "code",
   "execution_count": 31,
   "metadata": {},
   "outputs": [
    {
     "data": {
      "text/plain": [
       "[14, 37, 18, 31, 22, 33, 6, 2, 18, 31, 15, 33]"
      ]
     },
     "execution_count": 31,
     "metadata": {},
     "output_type": "execute_result"
    }
   ],
   "source": [
    "train_story_seq[0]"
   ]
  },
  {
   "cell_type": "markdown",
   "metadata": {},
   "source": [
    "## Building the Network"
   ]
  },
  {
   "cell_type": "code",
   "execution_count": 32,
   "metadata": {},
   "outputs": [],
   "source": [
    "#Imports\n",
    "from keras.models import Sequential, Model\n",
    "from keras.layers.embeddings import Embedding\n",
    "from keras.layers import Input, Activation, Dense, Permute, Dropout, add, dot, concatenate, LSTM"
   ]
  },
  {
   "cell_type": "code",
   "execution_count": 33,
   "metadata": {},
   "outputs": [],
   "source": [
    "# We need to create the placeholders \n",
    "#The Input function is used to create a keras tensor\n",
    "#PLACEHOLDER shape = (max_story_len,batch_size)\n",
    "#These are our placeholder for the inputs, ready to recieve batches of the stories and the questions\n",
    "input_sequence = Input((max_story_len,)) #As we dont know batch size yet\n",
    "question = Input((max_question_len,))"
   ]
  },
  {
   "cell_type": "code",
   "execution_count": 34,
   "metadata": {},
   "outputs": [
    {
     "name": "stdout",
     "output_type": "stream",
     "text": [
      "WARNING:tensorflow:From D:\\Intalled Softwares\\Anaconda\\lib\\site-packages\\tensorflow\\python\\ops\\resource_variable_ops.py:435: colocate_with (from tensorflow.python.framework.ops) is deprecated and will be removed in a future version.\n",
      "Instructions for updating:\n",
      "Colocations handled automatically by placer.\n"
     ]
    }
   ],
   "source": [
    "#Create input encoder M:\n",
    "input_encoder_m = Sequential()\n",
    "input_encoder_m.add(Embedding(input_dim=vocab_len,output_dim = 64)) #From paper\n",
    "input_encoder_m.add(Dropout(0.3))\n",
    "\n",
    "#Outputs: (Samples, story_maxlen,embedding_dim) -- Gives a list of the lenght of the samples where each item has the\n",
    "#lenght of the max story lenght and every word is embedded in the embbeding dimension"
   ]
  },
  {
   "cell_type": "code",
   "execution_count": 35,
   "metadata": {},
   "outputs": [],
   "source": [
    "#Create input encoder C:\n",
    "input_encoder_c = Sequential()\n",
    "input_encoder_c.add(Embedding(input_dim=vocab_len,output_dim = max_question_len)) #From paper\n",
    "input_encoder_c.add(Dropout(0.3))\n",
    "\n",
    "#Outputs: (samples, story_maxlen, max_question_len)"
   ]
  },
  {
   "cell_type": "code",
   "execution_count": 36,
   "metadata": {},
   "outputs": [],
   "source": [
    "#Create question encoder:\n",
    "question_encoder = Sequential()\n",
    "question_encoder.add(Embedding(input_dim=vocab_len,output_dim = 64,input_length=max_question_len)) #From paper\n",
    "question_encoder.add(Dropout(0.3))\n",
    "\n",
    "#Outputs: (samples, question_maxlen, embedding_dim)"
   ]
  },
  {
   "cell_type": "code",
   "execution_count": 37,
   "metadata": {},
   "outputs": [],
   "source": [
    "#Now lets encode the sequences, passing the placeholders into our encoders:\n",
    "input_encoded_m = input_encoder_m(input_sequence)\n",
    "input_encoded_c = input_encoder_c(input_sequence)\n",
    "question_encoded = question_encoder(question)"
   ]
  },
  {
   "cell_type": "code",
   "execution_count": 38,
   "metadata": {},
   "outputs": [],
   "source": [
    "#Use dot product to compute similarity between input encoded m and question \n",
    "#Like in the paper:\n",
    "match = dot([input_encoded_m,question_encoded], axes = (2,2))\n",
    "match = Activation('softmax')(match)"
   ]
  },
  {
   "cell_type": "code",
   "execution_count": 39,
   "metadata": {},
   "outputs": [],
   "source": [
    "#For the response we want to add this match with the ouput of input_encoded_c\n",
    "response = add([match,input_encoded_c])\n",
    "response = Permute((2,1))(response) #Permute Layer: permutes dimensions of input"
   ]
  },
  {
   "cell_type": "code",
   "execution_count": 40,
   "metadata": {},
   "outputs": [],
   "source": [
    "#Once we have the response we can concatenate it with the question encoded:\n",
    "answer = concatenate([response, question_encoded])"
   ]
  },
  {
   "cell_type": "code",
   "execution_count": 41,
   "metadata": {},
   "outputs": [
    {
     "data": {
      "text/plain": [
       "<tf.Tensor 'concatenate_1/concat:0' shape=(?, 6, 220) dtype=float32>"
      ]
     },
     "execution_count": 41,
     "metadata": {},
     "output_type": "execute_result"
    }
   ],
   "source": [
    "answer"
   ]
  },
  {
   "cell_type": "code",
   "execution_count": 42,
   "metadata": {},
   "outputs": [],
   "source": [
    "# Reduce the answer tensor with a RNN (LSTM)\n",
    "answer = LSTM(32)(answer)"
   ]
  },
  {
   "cell_type": "code",
   "execution_count": 43,
   "metadata": {},
   "outputs": [],
   "source": [
    "#Regularization with dropout:\n",
    "answer = Dropout(0.5)(answer)\n",
    "#Output layer:\n",
    "answer = Dense(vocab_len)(answer) #Output shape: (Samples, Vocab_size) #Yes or no and all 0s"
   ]
  },
  {
   "cell_type": "code",
   "execution_count": 44,
   "metadata": {},
   "outputs": [],
   "source": [
    "#Now we need to output a probability distribution for the vocab, using softmax:\n",
    "answer = Activation('softmax')(answer)"
   ]
  },
  {
   "cell_type": "code",
   "execution_count": 45,
   "metadata": {},
   "outputs": [],
   "source": [
    "#Now we build the final model:\n",
    "model = Model([input_sequence,question], answer)"
   ]
  },
  {
   "cell_type": "code",
   "execution_count": 46,
   "metadata": {},
   "outputs": [],
   "source": [
    "model.compile(optimizer='rmsprop', loss = 'categorical_crossentropy', metrics = ['accuracy'])\n",
    "#Categorical instead of binary cross entropy as because of the way we are training\n",
    "#we could actually see any of the words from the vocab as output\n",
    "#however, we should only see yes or no"
   ]
  },
  {
   "cell_type": "code",
   "execution_count": 47,
   "metadata": {},
   "outputs": [
    {
     "name": "stdout",
     "output_type": "stream",
     "text": [
      "Model: \"model_1\"\n",
      "__________________________________________________________________________________________________\n",
      "Layer (type)                    Output Shape         Param #     Connected to                     \n",
      "==================================================================================================\n",
      "input_1 (InputLayer)            (None, 156)          0                                            \n",
      "__________________________________________________________________________________________________\n",
      "input_2 (InputLayer)            (None, 6)            0                                            \n",
      "__________________________________________________________________________________________________\n",
      "sequential_1 (Sequential)       multiple             2432        input_1[0][0]                    \n",
      "__________________________________________________________________________________________________\n",
      "sequential_3 (Sequential)       (None, 6, 64)        2432        input_2[0][0]                    \n",
      "__________________________________________________________________________________________________\n",
      "dot_1 (Dot)                     (None, 156, 6)       0           sequential_1[1][0]               \n",
      "                                                                 sequential_3[1][0]               \n",
      "__________________________________________________________________________________________________\n",
      "activation_1 (Activation)       (None, 156, 6)       0           dot_1[0][0]                      \n",
      "__________________________________________________________________________________________________\n",
      "sequential_2 (Sequential)       multiple             228         input_1[0][0]                    \n",
      "__________________________________________________________________________________________________\n",
      "add_1 (Add)                     (None, 156, 6)       0           activation_1[0][0]               \n",
      "                                                                 sequential_2[1][0]               \n",
      "__________________________________________________________________________________________________\n",
      "permute_1 (Permute)             (None, 6, 156)       0           add_1[0][0]                      \n",
      "__________________________________________________________________________________________________\n",
      "concatenate_1 (Concatenate)     (None, 6, 220)       0           permute_1[0][0]                  \n",
      "                                                                 sequential_3[1][0]               \n",
      "__________________________________________________________________________________________________\n",
      "lstm_1 (LSTM)                   (None, 32)           32384       concatenate_1[0][0]              \n",
      "__________________________________________________________________________________________________\n",
      "dropout_4 (Dropout)             (None, 32)           0           lstm_1[0][0]                     \n",
      "__________________________________________________________________________________________________\n",
      "dense_1 (Dense)                 (None, 38)           1254        dropout_4[0][0]                  \n",
      "__________________________________________________________________________________________________\n",
      "activation_2 (Activation)       (None, 38)           0           dense_1[0][0]                    \n",
      "==================================================================================================\n",
      "Total params: 38,730\n",
      "Trainable params: 38,730\n",
      "Non-trainable params: 0\n",
      "__________________________________________________________________________________________________\n"
     ]
    }
   ],
   "source": [
    "model.summary()"
   ]
  },
  {
   "cell_type": "markdown",
   "metadata": {},
   "source": [
    "## Training and testing the model"
   ]
  },
  {
   "cell_type": "code",
   "execution_count": 48,
   "metadata": {},
   "outputs": [
    {
     "name": "stdout",
     "output_type": "stream",
     "text": [
      "WARNING:tensorflow:From D:\\Intalled Softwares\\Anaconda\\lib\\site-packages\\tensorflow\\python\\ops\\math_ops.py:3066: to_int32 (from tensorflow.python.ops.math_ops) is deprecated and will be removed in a future version.\n",
      "Instructions for updating:\n",
      "Use tf.cast instead.\n",
      "WARNING:tensorflow:From D:\\Intalled Softwares\\Anaconda\\lib\\site-packages\\tensorflow\\python\\ops\\math_grad.py:102: div (from tensorflow.python.ops.math_ops) is deprecated and will be removed in a future version.\n",
      "Instructions for updating:\n",
      "Deprecated in favor of operator or tf.math.divide.\n",
      "Train on 10000 samples, validate on 1000 samples\n",
      "Epoch 1/100\n",
      "10000/10000 [==============================] - 3s 306us/step - loss: 0.9228 - accuracy: 0.4912 - val_loss: 0.6939 - val_accuracy: 0.5030\n",
      "Epoch 2/100\n",
      "10000/10000 [==============================] - 3s 253us/step - loss: 0.7021 - accuracy: 0.5080 - val_loss: 0.6931 - val_accuracy: 0.5030\n",
      "Epoch 3/100\n",
      "10000/10000 [==============================] - 3s 258us/step - loss: 0.6965 - accuracy: 0.4988 - val_loss: 0.6932 - val_accuracy: 0.5030\n",
      "Epoch 4/100\n",
      "10000/10000 [==============================] - 3s 259us/step - loss: 0.6954 - accuracy: 0.4895 - val_loss: 0.6938 - val_accuracy: 0.5030\n",
      "Epoch 5/100\n",
      "10000/10000 [==============================] - 3s 254us/step - loss: 0.6945 - accuracy: 0.5044 - val_loss: 0.6947 - val_accuracy: 0.5030\n",
      "Epoch 6/100\n",
      "10000/10000 [==============================] - 3s 278us/step - loss: 0.6945 - accuracy: 0.5023 - val_loss: 0.6961 - val_accuracy: 0.4970\n",
      "Epoch 7/100\n",
      "10000/10000 [==============================] - 2s 248us/step - loss: 0.6945 - accuracy: 0.5043 - val_loss: 0.6934 - val_accuracy: 0.4970\n",
      "Epoch 8/100\n",
      "10000/10000 [==============================] - 2s 250us/step - loss: 0.6941 - accuracy: 0.5017 - val_loss: 0.6955 - val_accuracy: 0.4970\n",
      "Epoch 9/100\n",
      "10000/10000 [==============================] - 3s 253us/step - loss: 0.6944 - accuracy: 0.4983 - val_loss: 0.6935 - val_accuracy: 0.4720\n",
      "Epoch 10/100\n",
      "10000/10000 [==============================] - 3s 257us/step - loss: 0.6943 - accuracy: 0.4991 - val_loss: 0.6939 - val_accuracy: 0.4870\n",
      "Epoch 11/100\n",
      "10000/10000 [==============================] - 3s 259us/step - loss: 0.6934 - accuracy: 0.5100 - val_loss: 0.6945 - val_accuracy: 0.4840\n",
      "Epoch 12/100\n",
      "10000/10000 [==============================] - 3s 259us/step - loss: 0.6904 - accuracy: 0.5203 - val_loss: 0.6944 - val_accuracy: 0.4700\n",
      "Epoch 13/100\n",
      "10000/10000 [==============================] - 3s 263us/step - loss: 0.6840 - accuracy: 0.5393 - val_loss: 0.6860 - val_accuracy: 0.5040\n",
      "Epoch 14/100\n",
      "10000/10000 [==============================] - 3s 279us/step - loss: 0.6640 - accuracy: 0.5916 - val_loss: 0.6542 - val_accuracy: 0.6090\n",
      "Epoch 15/100\n",
      "10000/10000 [==============================] - 3s 265us/step - loss: 0.6333 - accuracy: 0.6481 - val_loss: 0.6066 - val_accuracy: 0.6770\n",
      "Epoch 16/100\n",
      "10000/10000 [==============================] - 3s 259us/step - loss: 0.5979 - accuracy: 0.6851 - val_loss: 0.5713 - val_accuracy: 0.6930\n",
      "Epoch 17/100\n",
      "10000/10000 [==============================] - 3s 256us/step - loss: 0.5638 - accuracy: 0.7192 - val_loss: 0.5054 - val_accuracy: 0.7580\n",
      "Epoch 18/100\n",
      "10000/10000 [==============================] - 3s 262us/step - loss: 0.5211 - accuracy: 0.7542 - val_loss: 0.4527 - val_accuracy: 0.8050\n",
      "Epoch 19/100\n",
      "10000/10000 [==============================] - 3s 255us/step - loss: 0.4889 - accuracy: 0.7774 - val_loss: 0.4263 - val_accuracy: 0.8290\n",
      "Epoch 20/100\n",
      "10000/10000 [==============================] - 3s 268us/step - loss: 0.4579 - accuracy: 0.7974 - val_loss: 0.4046 - val_accuracy: 0.8370\n",
      "Epoch 21/100\n",
      "10000/10000 [==============================] - 3s 256us/step - loss: 0.4271 - accuracy: 0.8194 - val_loss: 0.3847 - val_accuracy: 0.8400\n",
      "Epoch 22/100\n",
      "10000/10000 [==============================] - 3s 267us/step - loss: 0.4031 - accuracy: 0.8277 - val_loss: 0.3775 - val_accuracy: 0.8350\n",
      "Epoch 23/100\n",
      "10000/10000 [==============================] - 3s 279us/step - loss: 0.3874 - accuracy: 0.8376 - val_loss: 0.3795 - val_accuracy: 0.8330\n",
      "Epoch 24/100\n",
      "10000/10000 [==============================] - 3s 266us/step - loss: 0.3722 - accuracy: 0.8419 - val_loss: 0.3616 - val_accuracy: 0.8360\n",
      "Epoch 25/100\n",
      "10000/10000 [==============================] - 3s 268us/step - loss: 0.3623 - accuracy: 0.8472 - val_loss: 0.3673 - val_accuracy: 0.8440\n",
      "Epoch 26/100\n",
      "10000/10000 [==============================] - 3s 261us/step - loss: 0.3506 - accuracy: 0.8490 - val_loss: 0.3473 - val_accuracy: 0.8420\n",
      "Epoch 27/100\n",
      "10000/10000 [==============================] - 2s 243us/step - loss: 0.3411 - accuracy: 0.8552 - val_loss: 0.3475 - val_accuracy: 0.8450\n",
      "Epoch 28/100\n",
      "10000/10000 [==============================] - 3s 252us/step - loss: 0.3313 - accuracy: 0.8581 - val_loss: 0.3498 - val_accuracy: 0.8430\n",
      "Epoch 29/100\n",
      "10000/10000 [==============================] - 2s 247us/step - loss: 0.3308 - accuracy: 0.8612 - val_loss: 0.3544 - val_accuracy: 0.8320\n",
      "Epoch 30/100\n",
      "10000/10000 [==============================] - 3s 256us/step - loss: 0.3249 - accuracy: 0.8597 - val_loss: 0.3419 - val_accuracy: 0.8430\n",
      "Epoch 31/100\n",
      "10000/10000 [==============================] - 3s 256us/step - loss: 0.3141 - accuracy: 0.8641 - val_loss: 0.3809 - val_accuracy: 0.8340\n",
      "Epoch 32/100\n",
      "10000/10000 [==============================] - 3s 257us/step - loss: 0.3164 - accuracy: 0.8620 - val_loss: 0.3422 - val_accuracy: 0.8490\n",
      "Epoch 33/100\n",
      "10000/10000 [==============================] - 3s 260us/step - loss: 0.3119 - accuracy: 0.8638 - val_loss: 0.3596 - val_accuracy: 0.8310\n",
      "Epoch 34/100\n",
      "10000/10000 [==============================] - 3s 253us/step - loss: 0.3094 - accuracy: 0.8651 - val_loss: 0.3432 - val_accuracy: 0.8390\n",
      "Epoch 35/100\n",
      "10000/10000 [==============================] - 3s 251us/step - loss: 0.3065 - accuracy: 0.8631 - val_loss: 0.3376 - val_accuracy: 0.8410\n",
      "Epoch 36/100\n",
      "10000/10000 [==============================] - 3s 267us/step - loss: 0.3036 - accuracy: 0.8658 - val_loss: 0.3473 - val_accuracy: 0.8410\n",
      "Epoch 37/100\n",
      "10000/10000 [==============================] - 3s 268us/step - loss: 0.3041 - accuracy: 0.8674 - val_loss: 0.3640 - val_accuracy: 0.8360\n",
      "Epoch 38/100\n",
      "10000/10000 [==============================] - 3s 261us/step - loss: 0.2988 - accuracy: 0.8706 - val_loss: 0.3581 - val_accuracy: 0.8380\n",
      "Epoch 39/100\n",
      "10000/10000 [==============================] - 3s 263us/step - loss: 0.2977 - accuracy: 0.8680 - val_loss: 0.3678 - val_accuracy: 0.8330\n",
      "Epoch 40/100\n",
      "10000/10000 [==============================] - 3s 252us/step - loss: 0.3021 - accuracy: 0.8656 - val_loss: 0.3487 - val_accuracy: 0.8300\n",
      "Epoch 41/100\n",
      "10000/10000 [==============================] - 3s 251us/step - loss: 0.2955 - accuracy: 0.8689 - val_loss: 0.3497 - val_accuracy: 0.8340\n",
      "Epoch 42/100\n",
      "10000/10000 [==============================] - 2s 248us/step - loss: 0.2957 - accuracy: 0.8689 - val_loss: 0.3394 - val_accuracy: 0.8460\n",
      "Epoch 43/100\n",
      "10000/10000 [==============================] - 2s 248us/step - loss: 0.2939 - accuracy: 0.8703 - val_loss: 0.3494 - val_accuracy: 0.8400\n",
      "Epoch 44/100\n",
      "10000/10000 [==============================] - 3s 254us/step - loss: 0.2941 - accuracy: 0.8714 - val_loss: 0.3508 - val_accuracy: 0.8370\n",
      "Epoch 45/100\n",
      "10000/10000 [==============================] - 3s 255us/step - loss: 0.2906 - accuracy: 0.8723 - val_loss: 0.3516 - val_accuracy: 0.8420\n",
      "Epoch 46/100\n",
      "10000/10000 [==============================] - 3s 260us/step - loss: 0.2884 - accuracy: 0.8724 - val_loss: 0.3484 - val_accuracy: 0.8410\n",
      "Epoch 47/100\n",
      "10000/10000 [==============================] - 3s 252us/step - loss: 0.2873 - accuracy: 0.8725 - val_loss: 0.3518 - val_accuracy: 0.8380\n",
      "Epoch 48/100\n",
      "10000/10000 [==============================] - 3s 262us/step - loss: 0.2857 - accuracy: 0.8718 - val_loss: 0.3604 - val_accuracy: 0.8310\n",
      "Epoch 49/100\n",
      "10000/10000 [==============================] - 3s 260us/step - loss: 0.2867 - accuracy: 0.8749 - val_loss: 0.3753 - val_accuracy: 0.8310\n",
      "Epoch 50/100\n",
      "10000/10000 [==============================] - 3s 257us/step - loss: 0.2822 - accuracy: 0.8734 - val_loss: 0.3663 - val_accuracy: 0.8460\n",
      "Epoch 51/100\n",
      "10000/10000 [==============================] - 3s 257us/step - loss: 0.2837 - accuracy: 0.8757 - val_loss: 0.3591 - val_accuracy: 0.8400\n"
     ]
    },
    {
     "name": "stdout",
     "output_type": "stream",
     "text": [
      "Epoch 52/100\n",
      "10000/10000 [==============================] - 3s 258us/step - loss: 0.2836 - accuracy: 0.8732 - val_loss: 0.3835 - val_accuracy: 0.8340\n",
      "Epoch 53/100\n",
      "10000/10000 [==============================] - 2s 247us/step - loss: 0.2793 - accuracy: 0.8756 - val_loss: 0.3478 - val_accuracy: 0.8430\n",
      "Epoch 54/100\n",
      "10000/10000 [==============================] - 3s 252us/step - loss: 0.2816 - accuracy: 0.8730 - val_loss: 0.3526 - val_accuracy: 0.8440\n",
      "Epoch 55/100\n",
      "10000/10000 [==============================] - 3s 260us/step - loss: 0.2755 - accuracy: 0.8783 - val_loss: 0.3458 - val_accuracy: 0.8300\n",
      "Epoch 56/100\n",
      "10000/10000 [==============================] - 3s 255us/step - loss: 0.2764 - accuracy: 0.8777 - val_loss: 0.3710 - val_accuracy: 0.8360\n",
      "Epoch 57/100\n",
      "10000/10000 [==============================] - 3s 254us/step - loss: 0.2751 - accuracy: 0.8780 - val_loss: 0.3600 - val_accuracy: 0.8410\n",
      "Epoch 58/100\n",
      "10000/10000 [==============================] - 3s 256us/step - loss: 0.2807 - accuracy: 0.8742 - val_loss: 0.3640 - val_accuracy: 0.8430\n",
      "Epoch 59/100\n",
      "10000/10000 [==============================] - 3s 255us/step - loss: 0.2739 - accuracy: 0.8760 - val_loss: 0.3722 - val_accuracy: 0.8330\n",
      "Epoch 60/100\n",
      "10000/10000 [==============================] - 3s 254us/step - loss: 0.2743 - accuracy: 0.8776 - val_loss: 0.3609 - val_accuracy: 0.8480\n",
      "Epoch 61/100\n",
      "10000/10000 [==============================] - 2s 247us/step - loss: 0.2747 - accuracy: 0.8788 - val_loss: 0.3661 - val_accuracy: 0.8350\n",
      "Epoch 62/100\n",
      "10000/10000 [==============================] - 3s 258us/step - loss: 0.2723 - accuracy: 0.8794 - val_loss: 0.3703 - val_accuracy: 0.8420\n",
      "Epoch 63/100\n",
      "10000/10000 [==============================] - 3s 263us/step - loss: 0.2683 - accuracy: 0.8814 - val_loss: 0.3777 - val_accuracy: 0.8330\n",
      "Epoch 64/100\n",
      "10000/10000 [==============================] - 2s 246us/step - loss: 0.2698 - accuracy: 0.8824 - val_loss: 0.3612 - val_accuracy: 0.8460\n",
      "Epoch 65/100\n",
      "10000/10000 [==============================] - 3s 252us/step - loss: 0.2714 - accuracy: 0.8838 - val_loss: 0.3551 - val_accuracy: 0.8410\n",
      "Epoch 66/100\n",
      "10000/10000 [==============================] - 3s 253us/step - loss: 0.2671 - accuracy: 0.8836 - val_loss: 0.3638 - val_accuracy: 0.8420\n",
      "Epoch 67/100\n",
      "10000/10000 [==============================] - 3s 252us/step - loss: 0.2643 - accuracy: 0.8853 - val_loss: 0.3601 - val_accuracy: 0.8460\n",
      "Epoch 68/100\n",
      "10000/10000 [==============================] - 3s 250us/step - loss: 0.2597 - accuracy: 0.8835 - val_loss: 0.3611 - val_accuracy: 0.8470\n",
      "Epoch 69/100\n",
      "10000/10000 [==============================] - 3s 257us/step - loss: 0.2643 - accuracy: 0.8880 - val_loss: 0.3849 - val_accuracy: 0.8380\n",
      "Epoch 70/100\n",
      "10000/10000 [==============================] - 3s 253us/step - loss: 0.2652 - accuracy: 0.8852 - val_loss: 0.3746 - val_accuracy: 0.8440\n",
      "Epoch 71/100\n",
      "10000/10000 [==============================] - 3s 256us/step - loss: 0.2638 - accuracy: 0.8843 - val_loss: 0.3658 - val_accuracy: 0.8410\n",
      "Epoch 72/100\n",
      "10000/10000 [==============================] - 3s 258us/step - loss: 0.2634 - accuracy: 0.8872 - val_loss: 0.3632 - val_accuracy: 0.8390\n",
      "Epoch 73/100\n",
      "10000/10000 [==============================] - 2s 249us/step - loss: 0.2597 - accuracy: 0.8863 - val_loss: 0.3767 - val_accuracy: 0.8430\n",
      "Epoch 74/100\n",
      "10000/10000 [==============================] - 3s 253us/step - loss: 0.2597 - accuracy: 0.8907 - val_loss: 0.3690 - val_accuracy: 0.8360\n",
      "Epoch 75/100\n",
      "10000/10000 [==============================] - 3s 256us/step - loss: 0.2598 - accuracy: 0.8902 - val_loss: 0.3605 - val_accuracy: 0.8410\n",
      "Epoch 76/100\n",
      "10000/10000 [==============================] - 3s 256us/step - loss: 0.2513 - accuracy: 0.8908 - val_loss: 0.3703 - val_accuracy: 0.8430\n",
      "Epoch 77/100\n",
      "10000/10000 [==============================] - 3s 256us/step - loss: 0.2551 - accuracy: 0.8894 - val_loss: 0.3643 - val_accuracy: 0.8410\n",
      "Epoch 78/100\n",
      "10000/10000 [==============================] - 3s 253us/step - loss: 0.2517 - accuracy: 0.8904 - val_loss: 0.3836 - val_accuracy: 0.8410\n",
      "Epoch 79/100\n",
      "10000/10000 [==============================] - 3s 255us/step - loss: 0.2536 - accuracy: 0.8913 - val_loss: 0.4023 - val_accuracy: 0.8360\n",
      "Epoch 80/100\n",
      "10000/10000 [==============================] - 3s 257us/step - loss: 0.2515 - accuracy: 0.8903 - val_loss: 0.3579 - val_accuracy: 0.8510\n",
      "Epoch 81/100\n",
      "10000/10000 [==============================] - 3s 262us/step - loss: 0.2477 - accuracy: 0.8948 - val_loss: 0.3675 - val_accuracy: 0.8430\n",
      "Epoch 82/100\n",
      "10000/10000 [==============================] - 3s 260us/step - loss: 0.2460 - accuracy: 0.8958 - val_loss: 0.3596 - val_accuracy: 0.8440\n",
      "Epoch 83/100\n",
      "10000/10000 [==============================] - 3s 252us/step - loss: 0.2482 - accuracy: 0.8941 - val_loss: 0.3879 - val_accuracy: 0.8340\n",
      "Epoch 84/100\n",
      "10000/10000 [==============================] - 3s 254us/step - loss: 0.2465 - accuracy: 0.8952 - val_loss: 0.3800 - val_accuracy: 0.8390\n",
      "Epoch 85/100\n",
      "10000/10000 [==============================] - 3s 255us/step - loss: 0.2443 - accuracy: 0.8940 - val_loss: 0.3698 - val_accuracy: 0.8420\n",
      "Epoch 86/100\n",
      "10000/10000 [==============================] - 2s 247us/step - loss: 0.2415 - accuracy: 0.8956 - val_loss: 0.3841 - val_accuracy: 0.8360\n",
      "Epoch 87/100\n",
      "10000/10000 [==============================] - 2s 248us/step - loss: 0.2452 - accuracy: 0.8968 - val_loss: 0.4107 - val_accuracy: 0.8470\n",
      "Epoch 88/100\n",
      "10000/10000 [==============================] - 2s 249us/step - loss: 0.2431 - accuracy: 0.8955 - val_loss: 0.3814 - val_accuracy: 0.8390\n",
      "Epoch 89/100\n",
      "10000/10000 [==============================] - 2s 248us/step - loss: 0.2377 - accuracy: 0.8996 - val_loss: 0.4205 - val_accuracy: 0.8370\n",
      "Epoch 90/100\n",
      "10000/10000 [==============================] - 3s 253us/step - loss: 0.2377 - accuracy: 0.8959 - val_loss: 0.3821 - val_accuracy: 0.8450\n",
      "Epoch 91/100\n",
      "10000/10000 [==============================] - 2s 250us/step - loss: 0.2385 - accuracy: 0.8985 - val_loss: 0.3749 - val_accuracy: 0.8440\n",
      "Epoch 92/100\n",
      "10000/10000 [==============================] - 2s 248us/step - loss: 0.2320 - accuracy: 0.9006 - val_loss: 0.4366 - val_accuracy: 0.8360\n",
      "Epoch 93/100\n",
      "10000/10000 [==============================] - 2s 247us/step - loss: 0.2376 - accuracy: 0.8980 - val_loss: 0.4225 - val_accuracy: 0.8370\n",
      "Epoch 94/100\n",
      "10000/10000 [==============================] - 3s 251us/step - loss: 0.2246 - accuracy: 0.9026 - val_loss: 0.3977 - val_accuracy: 0.8470\n",
      "Epoch 95/100\n",
      "10000/10000 [==============================] - 2s 247us/step - loss: 0.2325 - accuracy: 0.9002 - val_loss: 0.3846 - val_accuracy: 0.8530\n",
      "Epoch 96/100\n",
      "10000/10000 [==============================] - 2s 244us/step - loss: 0.2326 - accuracy: 0.8993 - val_loss: 0.3771 - val_accuracy: 0.8550\n",
      "Epoch 97/100\n",
      "10000/10000 [==============================] - 2s 244us/step - loss: 0.2253 - accuracy: 0.9042 - val_loss: 0.4207 - val_accuracy: 0.8310\n",
      "Epoch 98/100\n",
      "10000/10000 [==============================] - 2s 249us/step - loss: 0.2268 - accuracy: 0.9026 - val_loss: 0.4352 - val_accuracy: 0.8370\n",
      "Epoch 99/100\n",
      "10000/10000 [==============================] - 2s 247us/step - loss: 0.2244 - accuracy: 0.9067 - val_loss: 0.3944 - val_accuracy: 0.8440\n",
      "Epoch 100/100\n",
      "10000/10000 [==============================] - 2s 243us/step - loss: 0.2223 - accuracy: 0.9081 - val_loss: 0.3525 - val_accuracy: 0.8550\n"
     ]
    }
   ],
   "source": [
    "history = model.fit([inputs_train,questions_train],answers_train, batch_size = 32, epochs = 100, validation_data = ([inputs_test,questions_test],answers_test))"
   ]
  },
  {
   "cell_type": "code",
   "execution_count": 49,
   "metadata": {},
   "outputs": [],
   "source": [
    "filename = 'Z_chatbot_100_epochs.h5'\n",
    "model.save(filename)"
   ]
  },
  {
   "cell_type": "code",
   "execution_count": 50,
   "metadata": {},
   "outputs": [
    {
     "name": "stdout",
     "output_type": "stream",
     "text": [
      "dict_keys(['val_loss', 'val_accuracy', 'loss', 'accuracy'])\n"
     ]
    },
    {
     "data": {
      "image/png": "[encoded data removed]",
      "text/plain": [
       "<Figure size 864x864 with 1 Axes>"
      ]
     },
     "metadata": {
      "needs_background": "light"
     },
     "output_type": "display_data"
    }
   ],
   "source": [
    "#Lets plot the increase of accuracy as we increase the number of training epochs\n",
    "#We can see that without any training the acc is about 50%, random guessing\n",
    "import matplotlib.pyplot as plt\n",
    "%matplotlib inline\n",
    "print(history.history.keys())\n",
    "# summarize history for accuracy\n",
    "plt.figure(figsize=(12,12))\n",
    "plt.plot(history.history['accuracy'])\n",
    "plt.plot(history.history['val_accuracy'])\n",
    "plt.title('model accuracy')\n",
    "plt.ylabel('accuracy')\n",
    "plt.xlabel('epoch')\n",
    "plt.legend(['train', 'test'], loc='upper left')\n",
    "plt.show()"
   ]
  },
  {
   "cell_type": "code",
   "execution_count": 51,
   "metadata": {},
   "outputs": [],
   "source": [
    "#To load a model that we have already trained and saved:\n",
    "model.load_weights('Z_chatbot_100_epochs.h5')"
   ]
  },
  {
   "cell_type": "code",
   "execution_count": 52,
   "metadata": {},
   "outputs": [],
   "source": [
    "#Lets check out the predictions on the test set:\n",
    "#These are just probabilities for every single word on the vocab\n",
    "pred_results = model.predict(([inputs_test,questions_test]))"
   ]
  },
  {
   "cell_type": "code",
   "execution_count": 53,
   "metadata": {},
   "outputs": [
    {
     "data": {
      "text/plain": [
       "(['Mary',\n",
       "  'got',\n",
       "  'the',\n",
       "  'milk',\n",
       "  'there',\n",
       "  '.',\n",
       "  'John',\n",
       "  'moved',\n",
       "  'to',\n",
       "  'the',\n",
       "  'bedroom',\n",
       "  '.'],\n",
       " ['Is', 'John', 'in', 'the', 'kitchen', '?'],\n",
       " 'no')"
      ]
     },
     "execution_count": 53,
     "metadata": {},
     "output_type": "execute_result"
    }
   ],
   "source": [
    "#First test data point\n",
    "test_data[0]"
   ]
  },
  {
   "cell_type": "code",
   "execution_count": 54,
   "metadata": {},
   "outputs": [
    {
     "data": {
      "text/plain": [
       "array([1.3466140e-12, 1.0553679e-12, 1.4900799e-12, 2.2543397e-06,\n",
       "       1.1447677e-12, 1.5452117e-12, 1.5054577e-12, 1.2438025e-12,\n",
       "       1.1932661e-12, 1.5019729e-12, 1.4574873e-12, 1.2664754e-12,\n",
       "       1.2385729e-12, 1.3523178e-12, 1.3602181e-12, 1.2574924e-12,\n",
       "       1.2366467e-12, 1.2936238e-12, 1.3636081e-12, 1.1981603e-12,\n",
       "       1.3150134e-12, 1.2956536e-12, 1.0680630e-12, 1.3362594e-12,\n",
       "       1.3102240e-12, 1.4953641e-12, 1.2517730e-12, 1.2721987e-12,\n",
       "       9.9999774e-01, 1.2540672e-12, 1.2786355e-12, 1.1194016e-12,\n",
       "       1.2909963e-12, 1.2844776e-12, 1.3059974e-12, 1.2822500e-12,\n",
       "       1.1267187e-12, 1.2856982e-12], dtype=float32)"
      ]
     },
     "execution_count": 54,
     "metadata": {},
     "output_type": "execute_result"
    }
   ],
   "source": [
    "#These are the probabilities for the vocab words using the 1st sentence\n",
    "pred_results[0]"
   ]
  },
  {
   "cell_type": "code",
   "execution_count": 55,
   "metadata": {},
   "outputs": [
    {
     "name": "stdout",
     "output_type": "stream",
     "text": [
      "28\n"
     ]
    }
   ],
   "source": [
    "val_max = np.argmax(pred_results[0])\n",
    "print(val_max)"
   ]
  },
  {
   "cell_type": "code",
   "execution_count": 56,
   "metadata": {},
   "outputs": [
    {
     "name": "stdout",
     "output_type": "stream",
     "text": [
      "no\n"
     ]
    }
   ],
   "source": [
    "for key,val in tokenizer.word_index.items():\n",
    "    if val == val_max:\n",
    "        k = key\n",
    "print(k)"
   ]
  },
  {
   "cell_type": "code",
   "execution_count": 57,
   "metadata": {},
   "outputs": [
    {
     "data": {
      "text/plain": [
       "0.99999774"
      ]
     },
     "execution_count": 57,
     "metadata": {},
     "output_type": "execute_result"
    }
   ],
   "source": [
    "#See probability:\n",
    "pred_results[0][val_max]"
   ]
  },
  {
   "cell_type": "code",
   "execution_count": 58,
   "metadata": {},
   "outputs": [
    {
     "data": {
      "text/plain": [
       "{'.',\n",
       " '?',\n",
       " 'Daniel',\n",
       " 'Is',\n",
       " 'John',\n",
       " 'Mary',\n",
       " 'Sandra',\n",
       " 'apple',\n",
       " 'back',\n",
       " 'bathroom',\n",
       " 'bedroom',\n",
       " 'discarded',\n",
       " 'down',\n",
       " 'dropped',\n",
       " 'football',\n",
       " 'garden',\n",
       " 'got',\n",
       " 'grabbed',\n",
       " 'hallway',\n",
       " 'in',\n",
       " 'journeyed',\n",
       " 'kitchen',\n",
       " 'left',\n",
       " 'milk',\n",
       " 'moved',\n",
       " 'no',\n",
       " 'office',\n",
       " 'picked',\n",
       " 'put',\n",
       " 'the',\n",
       " 'there',\n",
       " 'to',\n",
       " 'took',\n",
       " 'travelled',\n",
       " 'up',\n",
       " 'went',\n",
       " 'yes'}"
      ]
     },
     "execution_count": 58,
     "metadata": {},
     "output_type": "execute_result"
    }
   ],
   "source": [
    "#Now, we can make our own questions using the vocabulary we have\n",
    "vocab"
   ]
  },
  {
   "cell_type": "code",
   "execution_count": 59,
   "metadata": {},
   "outputs": [],
   "source": [
    "my_story = 'Sandra picked up the milk . Mary travelled left . '"
   ]
  },
  {
   "cell_type": "code",
   "execution_count": 60,
   "metadata": {},
   "outputs": [
    {
     "data": {
      "text/plain": [
       "['Sandra',\n",
       " 'picked',\n",
       " 'up',\n",
       " 'the',\n",
       " 'milk',\n",
       " '.',\n",
       " 'Mary',\n",
       " 'travelled',\n",
       " 'left',\n",
       " '.']"
      ]
     },
     "execution_count": 60,
     "metadata": {},
     "output_type": "execute_result"
    }
   ],
   "source": [
    "my_story.split()"
   ]
  },
  {
   "cell_type": "code",
   "execution_count": 61,
   "metadata": {},
   "outputs": [],
   "source": [
    "my_question = 'Sandra got the milk ?'"
   ]
  },
  {
   "cell_type": "code",
   "execution_count": 62,
   "metadata": {},
   "outputs": [
    {
     "name": "stdout",
     "output_type": "stream",
     "text": [
      "Sandra picked up the milk . Mary travelled left . \n"
     ]
    }
   ],
   "source": [
    "my_question.split()\n",
    "print(my_story)"
   ]
  },
  {
   "cell_type": "code",
   "execution_count": 63,
   "metadata": {},
   "outputs": [],
   "source": [
    "#Put the data in the same format as before\n",
    "my_data = [(my_story.split(), my_question.split(),'yes')]"
   ]
  },
  {
   "cell_type": "code",
   "execution_count": 64,
   "metadata": {},
   "outputs": [],
   "source": [
    "#Vectorize this data\n",
    "my_story, my_ques, my_ans = vectorize_stories(my_data)"
   ]
  },
  {
   "cell_type": "code",
   "execution_count": 65,
   "metadata": {},
   "outputs": [],
   "source": [
    "#Make the prediction\n",
    "pred_results = model.predict(([my_story,my_ques]))"
   ]
  },
  {
   "cell_type": "code",
   "execution_count": 66,
   "metadata": {},
   "outputs": [],
   "source": [
    "val_max = np.argmax(pred_results[0])"
   ]
  },
  {
   "cell_type": "code",
   "execution_count": 67,
   "metadata": {},
   "outputs": [
    {
     "name": "stdout",
     "output_type": "stream",
     "text": [
      "yes\n"
     ]
    }
   ],
   "source": [
    "#Correct prediction!\n",
    "for key,val in tokenizer.word_index.items():\n",
    "    if val == val_max:\n",
    "        k = key\n",
    "print(k)"
   ]
  },
  {
   "cell_type": "code",
   "execution_count": 68,
   "metadata": {},
   "outputs": [
    {
     "data": {
      "text/plain": [
       "0.93856096"
      ]
     },
     "execution_count": 68,
     "metadata": {},
     "output_type": "execute_result"
    }
   ],
   "source": [
    "#Confidence\n",
    "pred_results[0][val_max]"
   ]
  },
  {
   "cell_type": "code",
   "execution_count": 69,
   "metadata": {},
   "outputs": [
    {
     "name": "stdout",
     "output_type": "stream",
     "text": [
      "[[ 0  0  0 ... 31 15 33]\n",
      " [ 0  0  0 ... 31 35 33]\n",
      " [ 0  0  0 ... 31 35 33]\n",
      " ...\n",
      " [ 0  0  0 ... 31 17 33]\n",
      " [ 0  0  0 ... 31 35 33]\n",
      " [ 0  0  0 ... 17 20 33]]  ------  [[13 23 25 31 11  4]\n",
      " [13 23 25 31 11  4]\n",
      " [13 23 25 31 35  4]\n",
      " ...\n",
      " [13 14 25 31 15  4]\n",
      " [13  6 25 31 35  4]\n",
      " [13 14 25 31 35  4]]\n"
     ]
    }
   ],
   "source": [
    "print(inputs_test,' ------ ',questions_test)"
   ]
  },
  {
   "cell_type": "code",
   "execution_count": null,
   "metadata": {},
   "outputs": [],
   "source": []
  }
 ],
 "metadata": {
  "kernelspec": {
   "display_name": "Python 3",
   "language": "python",
   "name": "python3"
  },
  "language_info": {
   "codemirror_mode": {
    "name": "ipython",
    "version": 3
   },
   "file_extension": ".py",
   "mimetype": "text/x-python",
   "name": "python",
   "nbconvert_exporter": "python",
   "pygments_lexer": "ipython3",
   "version": "3.7.4"
  }
 },
 "nbformat": 4,
 "nbformat_minor": 2
}
