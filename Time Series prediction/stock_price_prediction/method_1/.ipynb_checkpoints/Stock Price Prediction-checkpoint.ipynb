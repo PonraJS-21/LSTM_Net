{
 "cells": [
  {
   "cell_type": "markdown",
   "metadata": {},
   "source": [
    "# Stock Price Prediction using RNN"
   ]
  },
  {
   "cell_type": "markdown",
   "metadata": {},
   "source": [
    "![](https://upload.wikimedia.org/wikipedia/commons/thumb/b/b5/Recurrent_neural_network_unfold.svg/1920px-Recurrent_neural_network_unfold.svg.png)"
   ]
  },
  {
   "cell_type": "markdown",
   "metadata": {},
   "source": [
    "### What is Stock Price Prediction?\n",
    "\n",
    "Stock price prediction is the act of trying to determine the future of a company stock. This can be done by analyzing the past data."
   ]
  },
  {
   "cell_type": "markdown",
   "metadata": {},
   "source": [
    "### Imports"
   ]
  },
  {
   "cell_type": "code",
   "execution_count": 1,
   "metadata": {},
   "outputs": [
    {
     "name": "stderr",
     "output_type": "stream",
     "text": [
      "Using TensorFlow backend.\n"
     ]
    }
   ],
   "source": [
    "import numpy as np\n",
    "import pandas as pd\n",
    "import matplotlib.pyplot as plt\n",
    "from sklearn.preprocessing import MinMaxScaler\n",
    "from keras.models import Sequential, load_model\n",
    "from keras.layers import LSTM, Dense, Dropout\n",
    "import os"
   ]
  },
  {
   "cell_type": "markdown",
   "metadata": {},
   "source": [
    "### Loading in Dataset"
   ]
  },
  {
   "cell_type": "code",
   "execution_count": 2,
   "metadata": {},
   "outputs": [
    {
     "data": {
      "text/html": [
       "<div>\n",
       "<style scoped>\n",
       "    .dataframe tbody tr th:only-of-type {\n",
       "        vertical-align: middle;\n",
       "    }\n",
       "\n",
       "    .dataframe tbody tr th {\n",
       "        vertical-align: top;\n",
       "    }\n",
       "\n",
       "    .dataframe thead th {\n",
       "        text-align: right;\n",
       "    }\n",
       "</style>\n",
       "<table border=\"1\" class=\"dataframe\">\n",
       "  <thead>\n",
       "    <tr style=\"text-align: right;\">\n",
       "      <th></th>\n",
       "      <th>date</th>\n",
       "      <th>open</th>\n",
       "      <th>high</th>\n",
       "      <th>low</th>\n",
       "      <th>close</th>\n",
       "      <th>volume</th>\n",
       "      <th>Name</th>\n",
       "    </tr>\n",
       "  </thead>\n",
       "  <tbody>\n",
       "    <tr>\n",
       "      <td>0</td>\n",
       "      <td>2013-02-08</td>\n",
       "      <td>67.7142</td>\n",
       "      <td>68.4014</td>\n",
       "      <td>66.8928</td>\n",
       "      <td>67.8542</td>\n",
       "      <td>158168416</td>\n",
       "      <td>AAPL</td>\n",
       "    </tr>\n",
       "    <tr>\n",
       "      <td>1</td>\n",
       "      <td>2013-02-11</td>\n",
       "      <td>68.0714</td>\n",
       "      <td>69.2771</td>\n",
       "      <td>67.6071</td>\n",
       "      <td>68.5614</td>\n",
       "      <td>129029425</td>\n",
       "      <td>AAPL</td>\n",
       "    </tr>\n",
       "    <tr>\n",
       "      <td>2</td>\n",
       "      <td>2013-02-12</td>\n",
       "      <td>68.5014</td>\n",
       "      <td>68.9114</td>\n",
       "      <td>66.8205</td>\n",
       "      <td>66.8428</td>\n",
       "      <td>151829363</td>\n",
       "      <td>AAPL</td>\n",
       "    </tr>\n",
       "    <tr>\n",
       "      <td>3</td>\n",
       "      <td>2013-02-13</td>\n",
       "      <td>66.7442</td>\n",
       "      <td>67.6628</td>\n",
       "      <td>66.1742</td>\n",
       "      <td>66.7156</td>\n",
       "      <td>118721995</td>\n",
       "      <td>AAPL</td>\n",
       "    </tr>\n",
       "    <tr>\n",
       "      <td>4</td>\n",
       "      <td>2013-02-14</td>\n",
       "      <td>66.3599</td>\n",
       "      <td>67.3771</td>\n",
       "      <td>66.2885</td>\n",
       "      <td>66.6556</td>\n",
       "      <td>88809154</td>\n",
       "      <td>AAPL</td>\n",
       "    </tr>\n",
       "  </tbody>\n",
       "</table>\n",
       "</div>"
      ],
      "text/plain": [
       "         date     open     high      low    close     volume  Name\n",
       "0  2013-02-08  67.7142  68.4014  66.8928  67.8542  158168416  AAPL\n",
       "1  2013-02-11  68.0714  69.2771  67.6071  68.5614  129029425  AAPL\n",
       "2  2013-02-12  68.5014  68.9114  66.8205  66.8428  151829363  AAPL\n",
       "3  2013-02-13  66.7442  67.6628  66.1742  66.7156  118721995  AAPL\n",
       "4  2013-02-14  66.3599  67.3771  66.2885  66.6556   88809154  AAPL"
      ]
     },
     "execution_count": 2,
     "metadata": {},
     "output_type": "execute_result"
    }
   ],
   "source": [
    "df = pd.read_csv('dataset/AAPL_data.csv')\n",
    "df.head()"
   ]
  },
  {
   "cell_type": "markdown",
   "metadata": {},
   "source": [
    "### Preprocessing and Feature Extraction"
   ]
  },
  {
   "cell_type": "code",
   "execution_count": 3,
   "metadata": {},
   "outputs": [
    {
     "name": "stdout",
     "output_type": "stream",
     "text": [
      "(1259, 1)\n"
     ]
    },
    {
     "data": {
      "text/plain": [
       "array([[67.7142],\n",
       "       [68.0714],\n",
       "       [68.5014],\n",
       "       [66.7442],\n",
       "       [66.3599]])"
      ]
     },
     "execution_count": 3,
     "metadata": {},
     "output_type": "execute_result"
    }
   ],
   "source": [
    "# Visualizing data\n",
    "df = df['open'].values\n",
    "df = df.reshape(-1, 1)\n",
    "print(df.shape)\n",
    "df[:5]"
   ]
  },
  {
   "cell_type": "code",
   "execution_count": 4,
   "metadata": {},
   "outputs": [
    {
     "name": "stdout",
     "output_type": "stream",
     "text": [
      "(1007, 1)\n",
      "(302, 1)\n"
     ]
    }
   ],
   "source": [
    "# Spiliting train and test data\n",
    "dataset_train = np.array(df[:int(df.shape[0]*0.8)])\n",
    "dataset_test = np.array(df[int(df.shape[0]*0.8)-50:])\n",
    "print(dataset_train.shape)\n",
    "print(dataset_test.shape)"
   ]
  },
  {
   "cell_type": "code",
   "execution_count": 5,
   "metadata": {},
   "outputs": [
    {
     "data": {
      "text/plain": [
       "array([[0.15550899],\n",
       "       [0.16002875],\n",
       "       [0.16546966],\n",
       "       [0.1432353 ],\n",
       "       [0.13837263]])"
      ]
     },
     "execution_count": 5,
     "metadata": {},
     "output_type": "execute_result"
    }
   ],
   "source": [
    "# Normalizing data between 0 to 1\n",
    "scaler = MinMaxScaler(feature_range=(0,1))\n",
    "dataset_train = scaler.fit_transform(dataset_train)\n",
    "dataset_train[:5]"
   ]
  },
  {
   "cell_type": "code",
   "execution_count": 6,
   "metadata": {
    "scrolled": true
   },
   "outputs": [
    {
     "data": {
      "text/plain": [
       "array([[0.7048619 ],\n",
       "       [0.70865789],\n",
       "       [0.70043325],\n",
       "       [0.71080895],\n",
       "       [0.69518213]])"
      ]
     },
     "execution_count": 6,
     "metadata": {},
     "output_type": "execute_result"
    }
   ],
   "source": [
    "dataset_test = scaler.transform(dataset_test)\n",
    "dataset_test[:5]"
   ]
  },
  {
   "cell_type": "code",
   "execution_count": 7,
   "metadata": {},
   "outputs": [],
   "source": [
    "# Create method for generating dataset\n",
    "def create_dataset(df, look_back=50):\n",
    "    x = []\n",
    "    y = []\n",
    "    for i in range(look_back, df.shape[0]):\n",
    "        x.append(df[i-look_back:i, 0])\n",
    "        y.append(df[i, 0])\n",
    "    x = np.array(x)\n",
    "    y = np.array(y)\n",
    "    return x,y "
   ]
  },
  {
   "cell_type": "markdown",
   "metadata": {},
   "source": [
    "### The look_back is nothing but last n stockrate and n+1 is next stockrate\n",
    "if dataset is [2, 3, 4, 5, 4, 6, 7, 6, 8, 9] and look_back is 3, then dataset will be like \n",
    "\n",
    "[2, 3, 4] -> [5] <br/>\n",
    "[3, 4, 5] -> [4] <br/>\n",
    "[4, 5, 4] -> [6] <br/>\n",
    "[5, 4, 6] -> [7] <br/>\n",
    "[4, 6, 7] -> [6] <br/>\n",
    "[6, 7, 6] -> [8] <br/>\n",
    "[7, 6, 8] -> [9] <br/>"
   ]
  },
  {
   "cell_type": "code",
   "execution_count": 16,
   "metadata": {},
   "outputs": [
    {
     "name": "stdout",
     "output_type": "stream",
     "text": [
      "X:  [[0.15550899 0.16002875 0.16546966 0.1432353  0.13837263 0.14619996\n",
      "  0.1321915  0.12602681 0.10489581 0.11077074 0.11908522 0.10095558\n",
      "  0.10928904 0.10137187 0.09043563 0.07199725 0.06057385 0.08412669\n",
      "  0.06603248 0.07561229 0.07552245 0.08609681 0.07317274 0.0810899\n",
      "  0.09030909 0.09667117 0.12929896 0.1255384  0.11252448 0.12040496\n",
      "  0.13868011 0.14003654 0.12380363 0.11180072 0.09748478 0.07163663\n",
      "  0.07845043 0.08277153 0.06603248 0.06666515 0.06939446 0.07254007\n",
      "  0.08269814 0.08347632 0.07055098 0.06073581 0.0583861  0.03076649\n",
      "  0.         0.00844228]]\n",
      "Y:  [0.02895833]\n"
     ]
    }
   ],
   "source": [
    "look_back = 50\n",
    "x_train, y_train = create_dataset(dataset_train, look_back)\n",
    "print('X: ',x_train[:1])\n",
    "print('Y: ',y_train[:1])"
   ]
  },
  {
   "cell_type": "code",
   "execution_count": 17,
   "metadata": {},
   "outputs": [
    {
     "data": {
      "text/plain": [
       "array([[0.7048619 , 0.70865789, 0.70043325, 0.71080895, 0.69518213,\n",
       "        0.68006144, 0.69056368, 0.68423703, 0.68120024, 0.70144551,\n",
       "        0.71979279, 0.73219302, 0.73915233, 0.75433628, 0.7586384 ,\n",
       "        0.7724305 , 0.76395279, 0.77584689, 0.77660608, 0.7709121 ,\n",
       "        0.7612956 , 0.77306316, 0.78571645, 0.77217743, 0.77470809,\n",
       "        0.76395279, 0.76458545, 0.76547118, 0.77635302, 0.79115737,\n",
       "        0.80153307, 0.80115347, 0.80311474, 0.80583519, 0.79609216,\n",
       "        0.81709663, 0.80950465, 0.82279061, 0.81709663, 0.81140264,\n",
       "        0.82241101, 0.83822763, 0.84417468, 0.82886419, 0.83164791,\n",
       "        0.90604929, 0.91800665, 0.9222455 , 0.93262121, 0.95046235]])"
      ]
     },
     "execution_count": 17,
     "metadata": {},
     "output_type": "execute_result"
    }
   ],
   "source": [
    "x_test, y_test = create_dataset(dataset_test)\n",
    "x_test[:1]"
   ]
  },
  {
   "cell_type": "code",
   "execution_count": 18,
   "metadata": {},
   "outputs": [],
   "source": [
    "# Reshape features for LSTM Layer\n",
    "x_train = np.reshape(x_train, (x_train.shape[0], x_train.shape[1], 1))\n",
    "x_test = np.reshape(x_test, (x_test.shape[0], x_test.shape[1], 1))"
   ]
  },
  {
   "cell_type": "code",
   "execution_count": 23,
   "metadata": {},
   "outputs": [
    {
     "name": "stdout",
     "output_type": "stream",
     "text": [
      "(957, 50, 1)\n"
     ]
    },
    {
     "data": {
      "text/plain": [
       "array([[0.15550899],\n",
       "       [0.16002875],\n",
       "       [0.16546966],\n",
       "       [0.1432353 ],\n",
       "       [0.13837263],\n",
       "       [0.14619996],\n",
       "       [0.1321915 ],\n",
       "       [0.12602681],\n",
       "       [0.10489581],\n",
       "       [0.11077074],\n",
       "       [0.11908522],\n",
       "       [0.10095558],\n",
       "       [0.10928904],\n",
       "       [0.10137187],\n",
       "       [0.09043563],\n",
       "       [0.07199725],\n",
       "       [0.06057385],\n",
       "       [0.08412669],\n",
       "       [0.06603248],\n",
       "       [0.07561229],\n",
       "       [0.07552245],\n",
       "       [0.08609681],\n",
       "       [0.07317274],\n",
       "       [0.0810899 ],\n",
       "       [0.09030909],\n",
       "       [0.09667117],\n",
       "       [0.12929896],\n",
       "       [0.1255384 ],\n",
       "       [0.11252448],\n",
       "       [0.12040496],\n",
       "       [0.13868011],\n",
       "       [0.14003654],\n",
       "       [0.12380363],\n",
       "       [0.11180072],\n",
       "       [0.09748478],\n",
       "       [0.07163663],\n",
       "       [0.07845043],\n",
       "       [0.08277153],\n",
       "       [0.06603248],\n",
       "       [0.06666515],\n",
       "       [0.06939446],\n",
       "       [0.07254007],\n",
       "       [0.08269814],\n",
       "       [0.08347632],\n",
       "       [0.07055098],\n",
       "       [0.06073581],\n",
       "       [0.0583861 ],\n",
       "       [0.03076649],\n",
       "       [0.        ],\n",
       "       [0.00844228]])"
      ]
     },
     "execution_count": 23,
     "metadata": {},
     "output_type": "execute_result"
    }
   ],
   "source": [
    "print(x_train.shape)\n",
    "x_train[0]"
   ]
  },
  {
   "cell_type": "markdown",
   "metadata": {},
   "source": [
    "### Building Model"
   ]
  },
  {
   "cell_type": "code",
   "execution_count": 24,
   "metadata": {},
   "outputs": [
    {
     "name": "stdout",
     "output_type": "stream",
     "text": [
      "WARNING:tensorflow:From D:\\Intalled Softwares\\Anaconda\\lib\\site-packages\\tensorflow\\python\\ops\\resource_variable_ops.py:435: colocate_with (from tensorflow.python.framework.ops) is deprecated and will be removed in a future version.\n",
      "Instructions for updating:\n",
      "Colocations handled automatically by placer.\n",
      "Model: \"sequential_1\"\n",
      "_________________________________________________________________\n",
      "Layer (type)                 Output Shape              Param #   \n",
      "=================================================================\n",
      "lstm_1 (LSTM)                (None, 50, 96)            37632     \n",
      "_________________________________________________________________\n",
      "dropout_1 (Dropout)          (None, 50, 96)            0         \n",
      "_________________________________________________________________\n",
      "lstm_2 (LSTM)                (None, 50, 96)            74112     \n",
      "_________________________________________________________________\n",
      "dropout_2 (Dropout)          (None, 50, 96)            0         \n",
      "_________________________________________________________________\n",
      "lstm_3 (LSTM)                (None, 50, 96)            74112     \n",
      "_________________________________________________________________\n",
      "dropout_3 (Dropout)          (None, 50, 96)            0         \n",
      "_________________________________________________________________\n",
      "lstm_4 (LSTM)                (None, 96)                74112     \n",
      "_________________________________________________________________\n",
      "dropout_4 (Dropout)          (None, 96)                0         \n",
      "_________________________________________________________________\n",
      "dense_1 (Dense)              (None, 1)                 97        \n",
      "=================================================================\n",
      "Total params: 260,065\n",
      "Trainable params: 260,065\n",
      "Non-trainable params: 0\n",
      "_________________________________________________________________\n"
     ]
    }
   ],
   "source": [
    "model = Sequential()\n",
    "model.add(LSTM(units=96, return_sequences=True, input_shape=(x_train.shape[1], 1)))\n",
    "model.add(Dropout(0.2))\n",
    "model.add(LSTM(units=96, return_sequences=True))\n",
    "model.add(Dropout(0.2))\n",
    "model.add(LSTM(units=96, return_sequences=True))\n",
    "model.add(Dropout(0.2))\n",
    "model.add(LSTM(units=96))\n",
    "model.add(Dropout(0.2))\n",
    "model.add(Dense(units=1))\n",
    "model.summary()"
   ]
  },
  {
   "cell_type": "code",
   "execution_count": 28,
   "metadata": {},
   "outputs": [],
   "source": [
    "model.compile(loss='mean_squared_error', optimizer='adam', metrics=['acc'])"
   ]
  },
  {
   "cell_type": "code",
   "execution_count": 26,
   "metadata": {
    "scrolled": true
   },
   "outputs": [
    {
     "name": "stdout",
     "output_type": "stream",
     "text": [
      "WARNING:tensorflow:From D:\\Intalled Softwares\\Anaconda\\lib\\site-packages\\tensorflow\\python\\ops\\math_ops.py:3066: to_int32 (from tensorflow.python.ops.math_ops) is deprecated and will be removed in a future version.\n",
      "Instructions for updating:\n",
      "Use tf.cast instead.\n",
      "Epoch 1/50\n",
      "957/957 [==============================] - 15s 15ms/step - loss: 0.0492\n",
      "Epoch 2/50\n",
      "957/957 [==============================] - 8s 8ms/step - loss: 0.0080\n",
      "Epoch 3/50\n",
      "957/957 [==============================] - 6s 6ms/step - loss: 0.0064\n",
      "Epoch 4/50\n",
      "957/957 [==============================] - 6s 6ms/step - loss: 0.0055\n",
      "Epoch 5/50\n",
      "957/957 [==============================] - 5s 6ms/step - loss: 0.0053\n",
      "Epoch 6/50\n",
      "957/957 [==============================] - 5s 5ms/step - loss: 0.0055\n",
      "Epoch 7/50\n",
      "957/957 [==============================] - 5s 5ms/step - loss: 0.0051\n",
      "Epoch 8/50\n",
      "957/957 [==============================] - 5s 5ms/step - loss: 0.0049\n",
      "Epoch 9/50\n",
      "957/957 [==============================] - 5s 5ms/step - loss: 0.0046\n",
      "Epoch 10/50\n",
      "957/957 [==============================] - 5s 5ms/step - loss: 0.0047\n",
      "Epoch 11/50\n",
      "957/957 [==============================] - 6s 6ms/step - loss: 0.0045\n",
      "Epoch 12/50\n",
      "957/957 [==============================] - 5s 5ms/step - loss: 0.0045\n",
      "Epoch 13/50\n",
      "957/957 [==============================] - 5s 5ms/step - loss: 0.0042\n",
      "Epoch 14/50\n",
      "957/957 [==============================] - 5s 5ms/step - loss: 0.0040\n",
      "Epoch 15/50\n",
      "957/957 [==============================] - 5s 5ms/step - loss: 0.0039\n",
      "Epoch 16/50\n",
      "957/957 [==============================] - 5s 5ms/step - loss: 0.0038\n",
      "Epoch 17/50\n",
      "957/957 [==============================] - 5s 6ms/step - loss: 0.0033\n",
      "Epoch 18/50\n",
      "957/957 [==============================] - 5s 5ms/step - loss: 0.0052\n",
      "Epoch 19/50\n",
      "957/957 [==============================] - 5s 5ms/step - loss: 0.0035\n",
      "Epoch 20/50\n",
      "957/957 [==============================] - 5s 5ms/step - loss: 0.0032\n",
      "Epoch 21/50\n",
      "957/957 [==============================] - 5s 5ms/step - loss: 0.0032\n",
      "Epoch 22/50\n",
      "957/957 [==============================] - 5s 5ms/step - loss: 0.0031\n",
      "Epoch 23/50\n",
      "957/957 [==============================] - 5s 5ms/step - loss: 0.0030\n",
      "Epoch 24/50\n",
      "957/957 [==============================] - 5s 5ms/step - loss: 0.0038\n",
      "Epoch 25/50\n",
      "957/957 [==============================] - 5s 5ms/step - loss: 0.0035\n",
      "Epoch 26/50\n",
      "957/957 [==============================] - 5s 5ms/step - loss: 0.0029\n",
      "Epoch 27/50\n",
      "957/957 [==============================] - 5s 5ms/step - loss: 0.0030A: 1s - loss\n",
      "Epoch 28/50\n",
      "957/957 [==============================] - 5s 5ms/step - loss: 0.0030\n",
      "Epoch 29/50\n",
      "957/957 [==============================] - 5s 5ms/step - loss: 0.0031\n",
      "Epoch 30/50\n",
      "957/957 [==============================] - 5s 5ms/step - loss: 0.0034\n",
      "Epoch 31/50\n",
      "957/957 [==============================] - 5s 5ms/step - loss: 0.0027\n",
      "Epoch 32/50\n",
      "957/957 [==============================] - 5s 5ms/step - loss: 0.0028\n",
      "Epoch 33/50\n",
      "957/957 [==============================] - 5s 5ms/step - loss: 0.0031\n",
      "Epoch 34/50\n",
      "957/957 [==============================] - 5s 5ms/step - loss: 0.0026\n",
      "Epoch 35/50\n",
      "957/957 [==============================] - 5s 5ms/step - loss: 0.0027\n",
      "Epoch 36/50\n",
      "957/957 [==============================] - 5s 5ms/step - loss: 0.0028\n",
      "Epoch 37/50\n",
      "957/957 [==============================] - 5s 5ms/step - loss: 0.0040\n",
      "Epoch 38/50\n",
      "957/957 [==============================] - 5s 5ms/step - loss: 0.0027\n",
      "Epoch 39/50\n",
      "957/957 [==============================] - 5s 5ms/step - loss: 0.0025\n",
      "Epoch 40/50\n",
      "957/957 [==============================] - 5s 5ms/step - loss: 0.0029\n",
      "Epoch 41/50\n",
      "957/957 [==============================] - 5s 5ms/step - loss: 0.0028\n",
      "Epoch 42/50\n",
      "957/957 [==============================] - 5s 5ms/step - loss: 0.0022\n",
      "Epoch 43/50\n",
      "957/957 [==============================] - 5s 5ms/step - loss: 0.0025\n",
      "Epoch 44/50\n",
      "957/957 [==============================] - 5s 5ms/step - loss: 0.0024\n",
      "Epoch 45/50\n",
      "957/957 [==============================] - 5s 5ms/step - loss: 0.0026\n",
      "Epoch 46/50\n",
      "957/957 [==============================] - 5s 5ms/step - loss: 0.0030\n",
      "Epoch 47/50\n",
      "957/957 [==============================] - 5s 5ms/step - loss: 0.0024\n",
      "Epoch 48/50\n",
      "957/957 [==============================] - 5s 5ms/step - loss: 0.0022\n",
      "Epoch 49/50\n",
      "957/957 [==============================] - 5s 5ms/step - loss: 0.0021\n",
      "Epoch 50/50\n",
      "957/957 [==============================] - 5s 5ms/step - loss: 0.0025A: 0s - loss: 0\n"
     ]
    }
   ],
   "source": [
    "if(not os.path.exists('stock_prediction.h5')):\n",
    "    model.fit(x_train, y_train, epochs=50, batch_size=32)\n",
    "    model.save('stock_prediction.h5')"
   ]
  },
  {
   "cell_type": "code",
   "execution_count": 29,
   "metadata": {},
   "outputs": [],
   "source": [
    "model = load_model('stock_prediction.h5')"
   ]
  },
  {
   "cell_type": "markdown",
   "metadata": {},
   "source": [
    "### Visualizing Results"
   ]
  },
  {
   "cell_type": "code",
   "execution_count": 34,
   "metadata": {
    "scrolled": true
   },
   "outputs": [
    {
     "data": {
      "text/plain": [
       "<matplotlib.legend.Legend at 0x2606e8b2188>"
      ]
     },
     "execution_count": 34,
     "metadata": {},
     "output_type": "execute_result"
    },
    {
     "data": {
      "image/png": "[encoded data removed]",
      "text/plain": [
       "<Figure size 576x288 with 1 Axes>"
      ]
     },
     "metadata": {
      "needs_background": "light"
     },
     "output_type": "display_data"
    }
   ],
   "source": [
    "predictions = model.predict(x_test)\n",
    "predictions = scaler.inverse_transform(predictions)\n",
    "\n",
    "fig, ax = plt.subplots(figsize=(8,4))\n",
    "plt.plot(df, color='red',  label=\"True Price\")\n",
    "ax.plot(range(len(y_train)+50,len(y_train)+50+len(predictions)),predictions, color='blue', label='Predicted Testing Price')\n",
    "plt.legend()"
   ]
  },
  {
   "cell_type": "code",
   "execution_count": 35,
   "metadata": {
    "scrolled": true
   },
   "outputs": [
    {
     "data": {
      "text/plain": [
       "<matplotlib.legend.Legend at 0x2606e9212c8>"
      ]
     },
     "execution_count": 35,
     "metadata": {},
     "output_type": "execute_result"
    },
    {
     "data": {
      "image/png": "[encoded data removed]",
      "text/plain": [
       "<Figure size 576x288 with 1 Axes>"
      ]
     },
     "metadata": {
      "needs_background": "light"
     },
     "output_type": "display_data"
    }
   ],
   "source": [
    "y_test_scaled = scaler.inverse_transform(y_test.reshape(-1, 1))\n",
    "\n",
    "fig, ax = plt.subplots(figsize=(8,4))\n",
    "ax.plot(y_test_scaled, color='red', label='True Testing Price')\n",
    "plt.plot(predictions, color='blue', label='Predicted Testing Price')\n",
    "plt.legend()"
   ]
  },
  {
   "cell_type": "code",
   "execution_count": 39,
   "metadata": {},
   "outputs": [
    {
     "name": "stdout",
     "output_type": "stream",
     "text": [
      "[159.7899, 242.70332, 281.39297, 290.67007, 294.26968, 295.5323, 296.03088, 296.22278, 296.29144, 296.30466]\n"
     ]
    }
   ],
   "source": [
    "# Displaying first n predictions\n",
    "# Predicting data from predicted stack data\n",
    "x = x_test[-1]\n",
    "num_timesteps = 10\n",
    "preds = []\n",
    "for i in range(num_timesteps):\n",
    "    data = np.expand_dims(x, axis=0)\n",
    "    prediction = model.predict(data)\n",
    "    prediction = scaler.inverse_transform(prediction)\n",
    "    preds.append(prediction[0][0])\n",
    "    x = np.delete(x, 0, axis=0) # delete first row\n",
    "    x = np.vstack([x, prediction]) # add prediction\n",
    "\n",
    "print(preds)"
   ]
  },
  {
   "cell_type": "markdown",
   "metadata": {},
   "source": [
    "## Resources\n",
    "\n",
    "<ul>\n",
    "    <li><a href=\"https://en.wikipedia.org/wiki/Stock_market_prediction\">Stock market prediction (Wikipedia)</a></li>\n",
    "    <li><a href=\"https://towardsdatascience.com/stock-prediction-in-python-b66555171a2\">Stock Prediction in Python (William Koehrsen on Medium)</a></li>\n",
    "    <li><a href=\"https://github.com/topics/stock-price-prediction?l=python\">Stock Price Prediction (Github Respositorys)</a></li>\n",
    "    <li><a href=\"https://programmingwithgilbert.firebaseapp.com/videos/machine-learning-explained/recurrent-neural-networks-lstm-explained\">Recurrent Neural Networks / LSTM Explained (my own video)</a></li>\n",
    "</ul>"
   ]
  }
 ],
 "metadata": {
  "kernelspec": {
   "display_name": "Python 3",
   "language": "python",
   "name": "python3"
  },
  "language_info": {
   "codemirror_mode": {
    "name": "ipython",
    "version": 3
   },
   "file_extension": ".py",
   "mimetype": "text/x-python",
   "name": "python",
   "nbconvert_exporter": "python",
   "pygments_lexer": "ipython3",
   "version": "3.7.4"
  },
  "toc": {
   "base_numbering": 1,
   "nav_menu": {},
   "number_sections": true,
   "sideBar": true,
   "skip_h1_title": false,
   "title_cell": "Table of Contents",
   "title_sidebar": "Contents",
   "toc_cell": false,
   "toc_position": {},
   "toc_section_display": true,
   "toc_window_display": false
  }
 },
 "nbformat": 4,
 "nbformat_minor": 2
}
